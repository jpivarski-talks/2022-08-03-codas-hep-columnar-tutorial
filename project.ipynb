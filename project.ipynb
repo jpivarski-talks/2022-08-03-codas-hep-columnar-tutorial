{
 "cells": [
  {
   "cell_type": "markdown",
   "id": "76987c2b-29f7-47dc-8393-47d278f48e67",
   "metadata": {
    "tags": []
   },
   "source": [
    "# CoDaS-HEP Columnar Data Analysis, hands-on project"
   ]
  },
  {
   "cell_type": "markdown",
   "id": "f7521a23-e6e7-433f-92e6-8263ee2b977f",
   "metadata": {},
   "source": [
    "This is the third of four notebooks on [columnar data analysis](https://indico.cern.ch/event/1151367/timetable/#41-columnar-data-analysis), presented at CoDaS-HEP at 12:30pm on August 3, 2022 by Jim Pivarski and Ioana Ifrim.\n",
    "\n",
    "See the [GitHub repo](https://github.com/jpivarski-talks/2022-08-03-codas-hep-columnar-tutorial#readme) for instructions on how to run it."
   ]
  },
  {
   "cell_type": "markdown",
   "id": "7ca5ec8d-2d8f-414d-94d8-10a2657589c2",
   "metadata": {},
   "source": [
    "## Project: H → ZZ → 4ℓ"
   ]
  },
  {
   "cell_type": "markdown",
   "id": "ad56e482-defb-49cc-aeff-0acf02091aea",
   "metadata": {},
   "source": []
  },
  {
   "cell_type": "markdown",
   "id": "d1df6d44-a304-4a37-9432-11817e4dc4bc",
   "metadata": {},
   "source": [
    "<br><br><br><br><br>"
   ]
  },
  {
   "cell_type": "markdown",
   "id": "1f1508f5-ae16-41ab-9d2a-61e22768a697",
   "metadata": {},
   "source": [
    "### 4 leptons of the same flavor"
   ]
  },
  {
   "cell_type": "markdown",
   "id": "88b7504c-f569-4a5a-bfbe-da8d7606a6c7",
   "metadata": {},
   "source": [
    "<br><br><br><br><br>"
   ]
  },
  {
   "cell_type": "markdown",
   "id": "b516bd97-af41-421f-bbc6-bc36e17cbacf",
   "metadata": {
    "tags": []
   },
   "source": [
    "### Opposite charges"
   ]
  },
  {
   "cell_type": "markdown",
   "id": "faea1e66-2032-4b82-b92c-f190b9e0e540",
   "metadata": {},
   "source": [
    "<br><br><br><br><br>"
   ]
  },
  {
   "cell_type": "markdown",
   "id": "f1faf562-443f-4bc7-b818-6dcca73f0cc7",
   "metadata": {},
   "source": [
    "### On your own: the H → ZZ → 2μ2e case"
   ]
  },
  {
   "cell_type": "markdown",
   "id": "5dda939b-b174-46bb-95eb-364f579a6670",
   "metadata": {},
   "source": [
    "<br><br><br><br><br>"
   ]
  },
  {
   "cell_type": "markdown",
   "id": "54bb36a7-7e47-4684-80b8-ccddcd14754f",
   "metadata": {},
   "source": [
    "# Next stop: break time!"
   ]
  },
  {
   "cell_type": "markdown",
   "id": "6e030290-9ef5-4a63-b723-2d641a5b3d26",
   "metadata": {},
   "source": [
    "When we get back, we'll look at [part-4.ipynb](part-4.ipynb), but DO NOT go there yet."
   ]
  }
 ],
 "metadata": {
  "kernelspec": {
   "display_name": "Python 3 (ipykernel)",
   "language": "python",
   "name": "python3"
  },
  "language_info": {
   "codemirror_mode": {
    "name": "ipython",
    "version": 3
   },
   "file_extension": ".py",
   "mimetype": "text/x-python",
   "name": "python",
   "nbconvert_exporter": "python",
   "pygments_lexer": "ipython3",
   "version": "3.9.13"
  }
 },
 "nbformat": 4,
 "nbformat_minor": 5
}
