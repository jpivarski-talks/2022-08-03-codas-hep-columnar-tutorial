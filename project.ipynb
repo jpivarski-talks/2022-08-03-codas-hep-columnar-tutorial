{
 "cells": [
  {
   "cell_type": "markdown",
   "id": "76987c2b-29f7-47dc-8393-47d278f48e67",
   "metadata": {
    "tags": []
   },
   "source": [
    "# CoDaS-HEP Columnar Data Analysis, hands-on project"
   ]
  },
  {
   "cell_type": "markdown",
   "id": "f7521a23-e6e7-433f-92e6-8263ee2b977f",
   "metadata": {},
   "source": [
    "This is the third of four notebooks on [columnar data analysis](https://indico.cern.ch/event/1151367/timetable/#41-columnar-data-analysis), presented at CoDaS-HEP at 12:30pm on August 3, 2022 by Jim Pivarski and Ioana Ifrim.\n",
    "\n",
    "See the [GitHub repo](https://github.com/jpivarski-talks/2022-08-03-codas-hep-columnar-tutorial#readme) for instructions on how to run it."
   ]
  },
  {
   "cell_type": "markdown",
   "id": "a5fac634-c124-4846-8643-173ae6a2fdcc",
   "metadata": {},
   "source": [
    "<br><br><br><br><br>"
   ]
  },
  {
   "cell_type": "markdown",
   "id": "7ca5ec8d-2d8f-414d-94d8-10a2657589c2",
   "metadata": {},
   "source": [
    "## Project: H → ZZ → 4ℓ"
   ]
  },
  {
   "cell_type": "markdown",
   "id": "ad56e482-defb-49cc-aeff-0acf02091aea",
   "metadata": {},
   "source": [
    "In this exercise, we'll reconstruct Z masses and the Higgs mass from four leptons (4μ, 4e, 2μ2e).\n",
    "\n",
    "We'll use Vector, which requires Awkward 1, both versions of Awkward are installed, but the installed version of Uproot only supports Awkward 2.\n",
    "\n",
    "So we'll get the data from a Parquet file, which does not require Uproot."
   ]
  },
  {
   "cell_type": "code",
   "execution_count": 1,
   "id": "8ad850f4-56db-4a56-b2a8-3dd13bdae2ac",
   "metadata": {},
   "outputs": [],
   "source": [
    "import awkward as ak   # version 1\n",
    "import vector\n",
    "vector.register_awkward()"
   ]
  },
  {
   "cell_type": "code",
   "execution_count": 3,
   "id": "d6fd0067-6e7a-42cd-9c35-6743872ea867",
   "metadata": {},
   "outputs": [
    {
     "data": {
      "text/plain": [
       "<Array [{run: 1, ... MET_phi: 1.65}] type='299973 * {\"run\": int32, \"luminosityBl...'>"
      ]
     },
     "execution_count": 3,
     "metadata": {},
     "output_type": "execute_result"
    }
   ],
   "source": [
    "raw_data = ak.from_parquet(\"data/SMHiggsToZZTo4L.parquet\")\n",
    "raw_data"
   ]
  },
  {
   "cell_type": "markdown",
   "id": "a7bdb76d-3b93-4f69-9e1a-28783089e4f2",
   "metadata": {},
   "source": [
    "(We can't call `raw_data.show()` or `raw_data.type.show()`. ☹)"
   ]
  },
  {
   "cell_type": "code",
   "execution_count": 7,
   "id": "d6ad9f8c-5ede-4b3d-9e4e-bd92635749e8",
   "metadata": {},
   "outputs": [
    {
     "data": {
      "text/plain": [
       "{'run': 299973 * int32,\n",
       " 'luminosityBlock': 299973 * int64,\n",
       " 'event': 299973 * uint64,\n",
       " 'PV_npvs': 299973 * int32,\n",
       " 'PV_x': 299973 * float32,\n",
       " 'PV_y': 299973 * float32,\n",
       " 'PV_z': 299973 * float32,\n",
       " 'nMuon': 299973 * int64,\n",
       " 'Muon_pt': 299973 * var * float32,\n",
       " 'Muon_eta': 299973 * var * float32,\n",
       " 'Muon_phi': 299973 * var * float32,\n",
       " 'Muon_mass': 299973 * var * float32,\n",
       " 'Muon_charge': 299973 * var * int32,\n",
       " 'Muon_pfRelIso03_all': 299973 * var * float32,\n",
       " 'Muon_pfRelIso04_all': 299973 * var * float32,\n",
       " 'Muon_dxy': 299973 * var * float32,\n",
       " 'Muon_dxyErr': 299973 * var * float32,\n",
       " 'Muon_dz': 299973 * var * float32,\n",
       " 'Muon_dzErr': 299973 * var * float32,\n",
       " 'nElectron': 299973 * int64,\n",
       " 'Electron_pt': 299973 * var * float32,\n",
       " 'Electron_eta': 299973 * var * float32,\n",
       " 'Electron_phi': 299973 * var * float32,\n",
       " 'Electron_mass': 299973 * var * float32,\n",
       " 'Electron_charge': 299973 * var * int32,\n",
       " 'Electron_pfRelIso03_all': 299973 * var * float32,\n",
       " 'Electron_dxy': 299973 * var * float32,\n",
       " 'Electron_dxyErr': 299973 * var * float32,\n",
       " 'Electron_dz': 299973 * var * float32,\n",
       " 'Electron_dzErr': 299973 * var * float32,\n",
       " 'MET_pt': 299973 * float32,\n",
       " 'MET_phi': 299973 * float32}"
      ]
     },
     "execution_count": 7,
     "metadata": {},
     "output_type": "execute_result"
    }
   ],
   "source": [
    "{field_name: raw_data[field_name].type for field_name in raw_data.fields}"
   ]
  },
  {
   "cell_type": "markdown",
   "id": "d1df6d44-a304-4a37-9432-11817e4dc4bc",
   "metadata": {},
   "source": [
    "<br><br><br><br><br>"
   ]
  },
  {
   "cell_type": "markdown",
   "id": "7da07ac4-92c6-4f1a-95b3-cdc7faae851a",
   "metadata": {},
   "source": [
    "Vector requires arrays to be formatted with fields named `pt`, `phi`, `eta`, `mass` with name `\"Momentum4D\"`.\n",
    "\n",
    "They don't need `charge`, but don't mind having extra fields.\n",
    "\n",
    "[ak.zip](https://awkward-array.readthedocs.io/en/latest/_auto/ak.zip.html) can do that."
   ]
  },
  {
   "cell_type": "code",
   "execution_count": 12,
   "id": "0bbf97c8-04fe-4ca6-bc00-9ad5888a3d2d",
   "metadata": {
    "tags": []
   },
   "outputs": [
    {
     "data": {
      "text/plain": [
       "<Array [{muons: [{pt: 63, ... mass: 0.0185}]}] type='299973 * {\"muons\": var * Mo...'>"
      ]
     },
     "execution_count": 12,
     "metadata": {},
     "output_type": "execute_result"
    }
   ],
   "source": [
    "events = ak.zip({\n",
    "    \"muons\": ak.zip({\n",
    "        \"pt\": raw_data[\"Muon_pt\"],\n",
    "        \"phi\": raw_data[\"Muon_phi\"],\n",
    "        \"eta\": raw_data[\"Muon_eta\"],\n",
    "        \"mass\": raw_data[\"Muon_mass\"],\n",
    "    }, with_name=\"Momentum4D\"),\n",
    "    \"electrons\": ak.zip({\n",
    "        \"pt\": raw_data[\"Electron_pt\"],\n",
    "        \"phi\": raw_data[\"Electron_phi\"],\n",
    "        \"eta\": raw_data[\"Electron_eta\"],\n",
    "        \"mass\": raw_data[\"Electron_mass\"],\n",
    "    }, with_name=\"Momentum4D\"),\n",
    "}, depth_limit=1)\n",
    "\n",
    "events"
   ]
  },
  {
   "cell_type": "markdown",
   "id": "a9be1358-ef57-4610-bc90-67cd42f54537",
   "metadata": {},
   "source": [
    "<br><br><br><br><br>"
   ]
  },
  {
   "cell_type": "markdown",
   "id": "72d0af01-0d3e-4852-b836-d75db0c8fb69",
   "metadata": {},
   "source": [
    "Without `.show()`, we can get a sense of the structure by converting the first few events into lists and dicts."
   ]
  },
  {
   "cell_type": "code",
   "execution_count": 14,
   "id": "02f19571-2329-41f4-90f0-951da8a89bfc",
   "metadata": {},
   "outputs": [
    {
     "data": {
      "text/plain": [
       "[{'muons': [{'pt': 63.04386901855469,\n",
       "    'phi': 2.968005895614624,\n",
       "    'eta': -0.7186822295188904,\n",
       "    'mass': 0.10565836727619171},\n",
       "   {'pt': 38.12034606933594,\n",
       "    'phi': -1.0324749946594238,\n",
       "    'eta': -0.8794569969177246,\n",
       "    'mass': 0.10565836727619171},\n",
       "   {'pt': 4.04868745803833,\n",
       "    'phi': 1.0385035276412964,\n",
       "    'eta': -0.320764422416687,\n",
       "    'mass': 0.10565836727619171}],\n",
       "  'electrons': []},\n",
       " {'muons': [],\n",
       "  'electrons': [{'pt': 21.902679443359375,\n",
       "    'phi': 0.1339961737394333,\n",
       "    'eta': -0.7021886706352234,\n",
       "    'mass': 0.00543835386633873},\n",
       "   {'pt': 42.63296890258789,\n",
       "    'phi': -1.8634047508239746,\n",
       "    'eta': -0.9796805381774902,\n",
       "    'mass': 0.008667422458529472},\n",
       "   {'pt': 78.01239013671875,\n",
       "    'phi': -2.2078325748443604,\n",
       "    'eta': -0.9338527917861938,\n",
       "    'mass': 0.018527036532759666},\n",
       "   {'pt': 23.835430145263672,\n",
       "    'phi': -0.6215649247169495,\n",
       "    'eta': -1.362490177154541,\n",
       "    'mass': 0.008162532933056355}]},\n",
       " {'muons': [],\n",
       "  'electrons': [{'pt': 11.5711669921875,\n",
       "    'phi': 2.180452585220337,\n",
       "    'eta': -0.8493275046348572,\n",
       "    'mass': -0.00608546519652009},\n",
       "   {'pt': 6.690738201141357,\n",
       "    'phi': 1.6866998672485352,\n",
       "    'eta': 2.065934658050537,\n",
       "    'mass': -0.005329584237188101}]}]"
      ]
     },
     "execution_count": 14,
     "metadata": {},
     "output_type": "execute_result"
    }
   ],
   "source": [
    "events[:3].tolist()"
   ]
  },
  {
   "cell_type": "markdown",
   "id": "fd5b376a-7891-46e5-a1f3-9851ea0a7f22",
   "metadata": {},
   "source": [
    "<br><br><br><br><br>"
   ]
  },
  {
   "cell_type": "markdown",
   "id": "f0408f5f-9348-402d-b362-f69069088537",
   "metadata": {},
   "source": [
    "HERE"
   ]
  },
  {
   "cell_type": "markdown",
   "id": "f0764042-7efb-4de2-b68d-130f0ee47371",
   "metadata": {},
   "source": [
    "<br><br><br><br><br>"
   ]
  },
  {
   "cell_type": "markdown",
   "id": "1f1508f5-ae16-41ab-9d2a-61e22768a697",
   "metadata": {},
   "source": [
    "### 4 leptons of the same flavor"
   ]
  },
  {
   "cell_type": "markdown",
   "id": "88b7504c-f569-4a5a-bfbe-da8d7606a6c7",
   "metadata": {},
   "source": [
    "<br><br><br><br><br>"
   ]
  },
  {
   "cell_type": "markdown",
   "id": "b516bd97-af41-421f-bbc6-bc36e17cbacf",
   "metadata": {
    "tags": []
   },
   "source": [
    "### Opposite charges"
   ]
  },
  {
   "cell_type": "markdown",
   "id": "faea1e66-2032-4b82-b92c-f190b9e0e540",
   "metadata": {},
   "source": [
    "<br><br><br><br><br>"
   ]
  },
  {
   "cell_type": "markdown",
   "id": "f1faf562-443f-4bc7-b818-6dcca73f0cc7",
   "metadata": {},
   "source": [
    "### On your own: the H → ZZ → 2μ2e case"
   ]
  },
  {
   "cell_type": "markdown",
   "id": "5dda939b-b174-46bb-95eb-364f579a6670",
   "metadata": {},
   "source": [
    "<br><br><br><br><br>"
   ]
  },
  {
   "cell_type": "markdown",
   "id": "54bb36a7-7e47-4684-80b8-ccddcd14754f",
   "metadata": {},
   "source": [
    "# Next stop: break time!"
   ]
  },
  {
   "cell_type": "markdown",
   "id": "6e030290-9ef5-4a63-b723-2d641a5b3d26",
   "metadata": {},
   "source": [
    "When we get back, we'll look at [part-4.ipynb](part-4.ipynb), but DO NOT go there yet."
   ]
  }
 ],
 "metadata": {
  "kernelspec": {
   "display_name": "Python 3 (ipykernel)",
   "language": "python",
   "name": "python3"
  },
  "language_info": {
   "codemirror_mode": {
    "name": "ipython",
    "version": 3
   },
   "file_extension": ".py",
   "mimetype": "text/x-python",
   "name": "python",
   "nbconvert_exporter": "python",
   "pygments_lexer": "ipython3",
   "version": "3.9.13"
  }
 },
 "nbformat": 4,
 "nbformat_minor": 5
}
