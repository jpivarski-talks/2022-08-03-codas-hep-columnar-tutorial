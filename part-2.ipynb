{
 "cells": [
  {
   "cell_type": "markdown",
   "id": "0ae7471a-6bf1-44fd-951f-e2b7495e7b85",
   "metadata": {},
   "source": [
    "# CoDaS-HEP Columnar Data Analysis, part 2"
   ]
  },
  {
   "cell_type": "markdown",
   "id": "89f1b028-5e84-45df-9f0e-0ea18ebcd464",
   "metadata": {},
   "source": [
    "This is the second of three sessions on [columnar data analysis](https://indico.cern.ch/event/1151367/timetable/#41-columnar-data-analysis), presented at CoDaS-HEP at 12:30pm on August 3, 2022 by Jim Pivarski and Ioana Ifrim.\n",
    "\n",
    "See the [GitHub repo](https://github.com/jpivarski-talks/2022-08-03-codas-hep-columnar-tutorial#readme) for instructions on how to run it."
   ]
  },
  {
   "cell_type": "markdown",
   "id": "ae02b208-8568-4478-987c-4491278694cd",
   "metadata": {},
   "source": [
    "## From ROOT files into arrays"
   ]
  },
  {
   "cell_type": "markdown",
   "id": "aacaa5ff-867d-4899-ac3a-e2bf05884cd7",
   "metadata": {},
   "source": [
    "<br><br><br><br><br>"
   ]
  },
  {
   "cell_type": "markdown",
   "id": "015d6bfd-7274-42aa-abf7-84cef6b3d52e",
   "metadata": {},
   "source": [
    "### Uproot"
   ]
  },
  {
   "cell_type": "markdown",
   "id": "e69edceb-68ca-4c2d-95e2-725de34308ae",
   "metadata": {},
   "source": [
    "<br><br><br><br><br>"
   ]
  },
  {
   "cell_type": "markdown",
   "id": "97770d27-f5c6-4b6b-9dab-d29a1446c8cd",
   "metadata": {},
   "source": [
    "### Awkward Array"
   ]
  },
  {
   "cell_type": "markdown",
   "id": "24b002fa-aa48-4839-9d51-038b924dafc1",
   "metadata": {},
   "source": [
    "<br><br><br><br><br>"
   ]
  },
  {
   "cell_type": "markdown",
   "id": "fb1e4fba-2299-44c1-b387-cce9c2897179",
   "metadata": {},
   "source": [
    "## Project: H → ZZ → 4ℓ"
   ]
  },
  {
   "cell_type": "markdown",
   "id": "a45571c5-6c72-47a0-b6c9-4249ba027588",
   "metadata": {},
   "source": [
    "<br><br><br><br><br>"
   ]
  },
  {
   "cell_type": "markdown",
   "id": "13d152fd-a8cf-4f63-ba9f-6cb40988c1da",
   "metadata": {},
   "source": [
    "### 4 leptons of the same flavor"
   ]
  },
  {
   "cell_type": "markdown",
   "id": "ee70491e-9fc1-48ed-930b-ec624deffcb1",
   "metadata": {},
   "source": [
    "<br><br><br><br><br>"
   ]
  },
  {
   "cell_type": "markdown",
   "id": "d80df4c6-3809-4ff0-9676-a6d7a77fab2a",
   "metadata": {
    "tags": []
   },
   "source": [
    "### Opposite charges"
   ]
  },
  {
   "cell_type": "markdown",
   "id": "b53590e6-c3f5-4fd1-a8bd-73c1a58c7b1f",
   "metadata": {},
   "source": [
    "<br><br><br><br><br>"
   ]
  },
  {
   "cell_type": "markdown",
   "id": "9000dcf9-59c8-4b2b-b04f-38ba10aaa299",
   "metadata": {},
   "source": [
    "### On your own: the H → ZZ → 2μ2e case"
   ]
  },
  {
   "cell_type": "markdown",
   "id": "8ee93e56-8afb-41bc-8fcc-b407eb05fe24",
   "metadata": {},
   "source": [
    "<br><br><br><br><br>"
   ]
  },
  {
   "cell_type": "markdown",
   "id": "33682c2b-229a-4153-9ab7-4873c8f68cb9",
   "metadata": {},
   "source": [
    "### Hint!"
   ]
  }
 ],
 "metadata": {
  "kernelspec": {
   "display_name": "Python 3 (ipykernel)",
   "language": "python",
   "name": "python3"
  },
  "language_info": {
   "codemirror_mode": {
    "name": "ipython",
    "version": 3
   },
   "file_extension": ".py",
   "mimetype": "text/x-python",
   "name": "python",
   "nbconvert_exporter": "python",
   "pygments_lexer": "ipython3",
   "version": "3.9.13"
  }
 },
 "nbformat": 4,
 "nbformat_minor": 5
}
