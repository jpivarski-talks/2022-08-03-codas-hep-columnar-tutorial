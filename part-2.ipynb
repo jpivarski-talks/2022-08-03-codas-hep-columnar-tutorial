{
 "cells": [
  {
   "cell_type": "markdown",
   "id": "0ae7471a-6bf1-44fd-951f-e2b7495e7b85",
   "metadata": {},
   "source": [
    "# CoDaS-HEP Columnar Data Analysis, part 2"
   ]
  },
  {
   "cell_type": "markdown",
   "id": "89f1b028-5e84-45df-9f0e-0ea18ebcd464",
   "metadata": {},
   "source": [
    "This is the second of three sessions on [columnar data analysis](https://indico.cern.ch/event/1151367/timetable/#41-columnar-data-analysis), presented at CoDaS-HEP at 12:30pm on August 3, 2022 by Jim Pivarski and Ioana Ifrim.\n",
    "\n",
    "See the [GitHub repo](https://github.com/jpivarski-talks/2022-08-03-codas-hep-columnar-tutorial#readme) for instructions on how to run it."
   ]
  },
  {
   "cell_type": "markdown",
   "id": "8e68bf1c-46eb-4558-b1c2-76d26bc3b377",
   "metadata": {},
   "source": [
    "<br><br><br><br><br>"
   ]
  },
  {
   "cell_type": "markdown",
   "id": "ae02b208-8568-4478-987c-4491278694cd",
   "metadata": {},
   "source": [
    "## From ROOT files into arrays"
   ]
  },
  {
   "cell_type": "markdown",
   "id": "c253d4ea-ac4a-42cc-b705-22c4a717906c",
   "metadata": {},
   "source": [
    "Physics data are in ROOT files. For columnar analysis, we'll need to get the data into arrays."
   ]
  },
  {
   "cell_type": "code",
   "execution_count": 4,
   "id": "598d6057-d966-43be-a7d0-c8613d64d845",
   "metadata": {},
   "outputs": [],
   "source": [
    "import ROOT"
   ]
  },
  {
   "cell_type": "code",
   "execution_count": 5,
   "id": "de7a701e-c9c1-4d90-9d2f-83e2c9dc1a4e",
   "metadata": {},
   "outputs": [],
   "source": [
    "rdf = ROOT.RDataFrame(\"Events\", \"data/SMHiggsToZZTo4L.root\")"
   ]
  },
  {
   "cell_type": "code",
   "execution_count": 6,
   "id": "b5fce7c1-e7dc-440c-a7e1-d5399667ae89",
   "metadata": {},
   "outputs": [
    {
     "data": {
      "text/plain": [
       "{'MET_pt': ndarray([21.92993 , 16.972134, 19.061464, ..., 17.671701, 23.999083,\n",
       "          12.943779], dtype=float32),\n",
       " 'MET_phi': ndarray([-2.7301223,  2.8669462, -2.1664631, ...,  1.8889483, -1.973488 ,\n",
       "           1.6512431], dtype=float32)}"
      ]
     },
     "execution_count": 6,
     "metadata": {},
     "output_type": "execute_result"
    }
   ],
   "source": [
    "rdf.AsNumpy([\"MET_pt\", \"MET_phi\"])"
   ]
  },
  {
   "cell_type": "markdown",
   "id": "913cc905-bed9-4f76-9b64-4da460bff346",
   "metadata": {},
   "source": [
    "<br><br><br><br><br>\n",
    "\n",
    "But for variable-length data, such as particle quantities in events with arbitrarily many particles, the NumPy array has `dtype=object`."
   ]
  },
  {
   "cell_type": "code",
   "execution_count": 22,
   "id": "24a55d5b-36e9-4f85-b35e-e8cd75141643",
   "metadata": {},
   "outputs": [
    {
     "data": {
      "text/plain": [
       "{'Muon_pt': ndarray([<cppyy.gbl.ROOT.VecOps.RVec<float> object at 0x7fac8b574010>,\n",
       "          <cppyy.gbl.ROOT.VecOps.RVec<float> object at 0x7fac8b574050>,\n",
       "          <cppyy.gbl.ROOT.VecOps.RVec<float> object at 0x7fac8b574090>,\n",
       "          ...,\n",
       "          <cppyy.gbl.ROOT.VecOps.RVec<float> object at 0x7fac8c7c3090>,\n",
       "          <cppyy.gbl.ROOT.VecOps.RVec<float> object at 0x7fac8c7c30d0>,\n",
       "          <cppyy.gbl.ROOT.VecOps.RVec<float> object at 0x7fac8c7c3110>],\n",
       "         dtype=object),\n",
       " 'Muon_phi': ndarray([<cppyy.gbl.ROOT.VecOps.RVec<float> object at 0x55a6e3d1b4f0>,\n",
       "          <cppyy.gbl.ROOT.VecOps.RVec<float> object at 0x55a6e3d1b530>,\n",
       "          <cppyy.gbl.ROOT.VecOps.RVec<float> object at 0x55a6e3d1b570>,\n",
       "          ...,\n",
       "          <cppyy.gbl.ROOT.VecOps.RVec<float> object at 0x55a6e4f6a570>,\n",
       "          <cppyy.gbl.ROOT.VecOps.RVec<float> object at 0x55a6e4f6a5b0>,\n",
       "          <cppyy.gbl.ROOT.VecOps.RVec<float> object at 0x55a6e4f6a5f0>],\n",
       "         dtype=object)}"
      ]
     },
     "execution_count": 22,
     "metadata": {},
     "output_type": "execute_result"
    }
   ],
   "source": [
    "muon_quantities = rdf.AsNumpy([\"Muon_pt\", \"Muon_phi\"])\n",
    "muon_quantities"
   ]
  },
  {
   "cell_type": "markdown",
   "id": "98c0ff08-b1ca-470d-aa6e-6dafcea014ea",
   "metadata": {},
   "source": [
    "<br><br><br><br><br>\n",
    "\n",
    "NumPy `dtype=object` arrays are essentially lists: every element is a Python object and NumPy does not know the internal structure.\n",
    "\n",
    "On the one hand, this limits speed of calculation:"
   ]
  },
  {
   "cell_type": "code",
   "execution_count": 8,
   "id": "5a5319b0-f731-464e-8d4a-a66e3c651005",
   "metadata": {},
   "outputs": [],
   "source": [
    "import numpy as np\n",
    "\n",
    "numeric_array = np.arange(1000000, dtype=np.int64)\n",
    "python_objects = np.array(range(1000000), dtype=object)"
   ]
  },
  {
   "cell_type": "code",
   "execution_count": 9,
   "id": "4b34815a-235a-4936-a0d4-d0675a58e39a",
   "metadata": {},
   "outputs": [
    {
     "name": "stdout",
     "output_type": "stream",
     "text": [
      "279 µs ± 15.6 µs per loop (mean ± std. dev. of 7 runs, 1,000 loops each)\n"
     ]
    }
   ],
   "source": [
    "%%timeit\n",
    "\n",
    "numeric_array**2"
   ]
  },
  {
   "cell_type": "code",
   "execution_count": 10,
   "id": "47404116-9eff-4c61-8633-f437a8fad4ae",
   "metadata": {},
   "outputs": [
    {
     "name": "stdout",
     "output_type": "stream",
     "text": [
      "148 ms ± 960 µs per loop (mean ± std. dev. of 7 runs, 10 loops each)\n"
     ]
    }
   ],
   "source": [
    "%%timeit\n",
    "\n",
    "python_objects**2"
   ]
  },
  {
   "cell_type": "markdown",
   "id": "eb4ef5af-7697-4347-9f95-677f2a089c4f",
   "metadata": {},
   "source": [
    "And on the other hand, it limits expressiveness:"
   ]
  },
  {
   "cell_type": "code",
   "execution_count": 17,
   "id": "99eed7c7-f024-4c56-a5ea-88072e37fab1",
   "metadata": {},
   "outputs": [],
   "source": [
    "numeric_array = np.empty((2, 2, 3), dtype=np.int64)\n",
    "python_objects = np.empty(2, dtype=object)\n",
    "\n",
    "numeric_array[:] = [[[1, 2, 3], [4, 5, 6]], [[10, 20, 30], [40, 50, 60]]]\n",
    "python_objects[:] = [[[1, 2, 3], [4, 5, 6]], [[10, 20, 30], [40, 50, 60]]]"
   ]
  },
  {
   "cell_type": "code",
   "execution_count": 20,
   "id": "c16b9d30-c596-4307-93f4-75a15090ea99",
   "metadata": {},
   "outputs": [
    {
     "data": {
      "text/plain": [
       "array([[[ 2,  3],\n",
       "        [ 5,  6]],\n",
       "\n",
       "       [[20, 30],\n",
       "        [50, 60]]])"
      ]
     },
     "execution_count": 20,
     "metadata": {},
     "output_type": "execute_result"
    }
   ],
   "source": [
    "numeric_array[:, :, 1:]    # drop first element from innermost dimension"
   ]
  },
  {
   "cell_type": "code",
   "execution_count": 21,
   "id": "a06f93d2-99b5-47bf-bb49-be06849ed1f9",
   "metadata": {
    "tags": [
     "raises-exception"
    ]
   },
   "outputs": [
    {
     "ename": "IndexError",
     "evalue": "too many indices for array: array is 1-dimensional, but 3 were indexed",
     "output_type": "error",
     "traceback": [
      "\u001b[0;31m---------------------------------------------------------------------------\u001b[0m",
      "\u001b[0;31mIndexError\u001b[0m                                Traceback (most recent call last)",
      "Input \u001b[0;32mIn [21]\u001b[0m, in \u001b[0;36m<cell line: 1>\u001b[0;34m()\u001b[0m\n\u001b[0;32m----> 1\u001b[0m \u001b[43mpython_objects\u001b[49m\u001b[43m[\u001b[49m\u001b[43m:\u001b[49m\u001b[43m,\u001b[49m\u001b[43m \u001b[49m\u001b[43m:\u001b[49m\u001b[43m,\u001b[49m\u001b[43m \u001b[49m\u001b[38;5;241;43m1\u001b[39;49m\u001b[43m:\u001b[49m\u001b[43m]\u001b[49m\n",
      "\u001b[0;31mIndexError\u001b[0m: too many indices for array: array is 1-dimensional, but 3 were indexed"
     ]
    }
   ],
   "source": [
    "python_objects[:, :, 1:]   # can't manipulate anything past the first dimension"
   ]
  },
  {
   "cell_type": "markdown",
   "id": "3b52c502-af5e-49a6-828d-4540b19ef676",
   "metadata": {},
   "source": [
    "<br><br><br><br><br>"
   ]
  },
  {
   "cell_type": "markdown",
   "id": "ead9c5a5-0e5f-425e-8243-dbbd50b7e7fa",
   "metadata": {},
   "source": [
    "Thus, to compute $p_x$ and $p_y$ from muon $p_T$ and $\\phi$ in Python, we'd have to drop down into imperative or list comprehensions (functional):"
   ]
  },
  {
   "cell_type": "code",
   "execution_count": 34,
   "id": "335097f9-0259-4c0b-b863-390993dbaa0e",
   "metadata": {},
   "outputs": [
    {
     "data": {
      "text/plain": [
       "(array([list([-62.09642131826239, 19.5441283607252, 2.05475040026448]),\n",
       "        list([]), list([]), ...,\n",
       "        list([2.37480227860668, 3.9543648339704807, 3.018615575574286, 2.254885007906879]),\n",
       "        list([]), list([])], dtype=object),\n",
       " array([list([10.888704252275756, -32.729005959017954, 3.4885342087314886]),\n",
       "        list([]), list([]), ...,\n",
       "        list([3.604087973668882, 1.8335333778519876, 4.755512408592984, 4.181554816344941]),\n",
       "        list([]), list([])], dtype=object))"
      ]
     },
     "execution_count": 34,
     "metadata": {},
     "output_type": "execute_result"
    }
   ],
   "source": [
    "all_pt, all_phi = muon_quantities[\"Muon_pt\"], muon_quantities[\"Muon_phi\"]\n",
    "\n",
    "all_px = np.array([[pt * np.cos(phi) for pt, phi in zip(event_pt, event_phi)] for event_pt, event_phi in zip(all_pt, all_phi)], dtype=object)\n",
    "all_py = np.array([[pt * np.sin(phi) for pt, phi in zip(event_pt, event_phi)] for event_pt, event_phi in zip(all_pt, all_phi)], dtype=object)\n",
    "\n",
    "all_px, all_py"
   ]
  },
  {
   "cell_type": "markdown",
   "id": "e5a8d14d-8244-458d-accf-80a76888469a",
   "metadata": {},
   "source": [
    "<br><br><br><br><br>"
   ]
  },
  {
   "cell_type": "markdown",
   "id": "b56c2e9d-966f-4949-b99c-f28cbd5042c3",
   "metadata": {},
   "source": [
    "However, if we instead read the file with Uproot (to be described later),"
   ]
  },
  {
   "cell_type": "code",
   "execution_count": 29,
   "id": "6f938fd1-09e0-48d3-8b4d-74ebef259a9a",
   "metadata": {},
   "outputs": [],
   "source": [
    "import uproot"
   ]
  },
  {
   "cell_type": "code",
   "execution_count": 33,
   "id": "6c2b9558-869c-4eae-b83b-5f395879cb7b",
   "metadata": {},
   "outputs": [
    {
     "name": "stdout",
     "output_type": "stream",
     "text": [
      "[{Muon_pt: [63, 38.1, 4.05], Muon_phi: [2.97, ..., 1.04]},\n",
      " {Muon_pt: [], Muon_phi: []},\n",
      " {Muon_pt: [], Muon_phi: []},\n",
      " {Muon_pt: [54.3, 23.5, ..., 8.39, 3.49], Muon_phi: [...]},\n",
      " {Muon_pt: [], Muon_phi: []},\n",
      " {Muon_pt: [38.5, 47], Muon_phi: [2.05, -1.15]},\n",
      " {Muon_pt: [4.45], Muon_phi: [1.12]},\n",
      " {Muon_pt: [], Muon_phi: []},\n",
      " {Muon_pt: [], Muon_phi: []},\n",
      " {Muon_pt: [], Muon_phi: []},\n",
      " ...,\n",
      " {Muon_pt: [37.2, 50.1], Muon_phi: [-0.875, 2.65]},\n",
      " {Muon_pt: [43.2, 24], Muon_phi: [-1.3, 1.38]},\n",
      " {Muon_pt: [24.2, 79.5], Muon_phi: [-0.997, 2.51]},\n",
      " {Muon_pt: [], Muon_phi: []},\n",
      " {Muon_pt: [9.81, 25.5], Muon_phi: [1.66, -3.09]},\n",
      " {Muon_pt: [32.6, 43.1], Muon_phi: [-0.981, 2.27]},\n",
      " {Muon_pt: [4.32, 4.36, 5.63, 4.75], Muon_phi: [0.988, ...]},\n",
      " {Muon_pt: [], Muon_phi: []},\n",
      " {Muon_pt: [], Muon_phi: []}]\n"
     ]
    }
   ],
   "source": [
    "with uproot.open(\"data/SMHiggsToZZTo4L.root:Events\") as events:\n",
    "    muon_quantities2 = events.arrays([\"Muon_pt\", \"Muon_phi\"])\n",
    "\n",
    "muon_quantities2.show()"
   ]
  },
  {
   "cell_type": "markdown",
   "id": "af426787-7df7-4275-ae34-3ab0987a2f96",
   "metadata": {},
   "source": [
    "Operations on these Awkward Arrays (to be described later) can be expressed in an array-oriented way:"
   ]
  },
  {
   "cell_type": "code",
   "execution_count": 35,
   "id": "2c7526bb-897d-434f-a113-44bb819465c8",
   "metadata": {},
   "outputs": [
    {
     "data": {
      "text/plain": [
       "(<Array [[-62.1, 19.5, 2.05], [], [], ..., [], []] type='299973 * var * float32'>,\n",
       " <Array [[10.9, -32.7, 3.49], [], [], ..., [], []] type='299973 * var * float32'>)"
      ]
     },
     "execution_count": 35,
     "metadata": {},
     "output_type": "execute_result"
    }
   ],
   "source": [
    "all_pt, all_phi = muon_quantities2[\"Muon_pt\"], muon_quantities2[\"Muon_phi\"]\n",
    "\n",
    "all_px = all_pt * np.cos(all_phi)\n",
    "all_py = all_pt * np.sin(all_phi)\n",
    "\n",
    "all_px, all_py"
   ]
  },
  {
   "cell_type": "markdown",
   "id": "52584395-8c4b-4e67-b254-fb8f1f9517ce",
   "metadata": {},
   "source": [
    "<br><br><br><br><br>"
   ]
  },
  {
   "cell_type": "markdown",
   "id": "5bb30888-236b-4db6-970a-d6ce07efd909",
   "metadata": {},
   "source": [
    "To be fair, that's not how RDataFrame is _supposed_ to be used: it's a functional programming framework that takes functions as strings of C++ code (which it compiles).\n",
    "\n",
    "The `ROOT::VecOps` library presents an array-oriented style _per event_."
   ]
  },
  {
   "cell_type": "code",
   "execution_count": 37,
   "id": "42ec6003-4e32-4f67-b519-3fd0db9742e8",
   "metadata": {},
   "outputs": [
    {
     "data": {
      "text/plain": [
       "{'px': ndarray([<cppyy.gbl.ROOT.VecOps.RVec<float> object at 0x7fac79678010>,\n",
       "          <cppyy.gbl.ROOT.VecOps.RVec<float> object at 0x7fac79678050>,\n",
       "          <cppyy.gbl.ROOT.VecOps.RVec<float> object at 0x7fac79678090>,\n",
       "          ...,\n",
       "          <cppyy.gbl.ROOT.VecOps.RVec<float> object at 0x7fac7a8c7090>,\n",
       "          <cppyy.gbl.ROOT.VecOps.RVec<float> object at 0x7fac7a8c70d0>,\n",
       "          <cppyy.gbl.ROOT.VecOps.RVec<float> object at 0x7fac7a8c7110>],\n",
       "         dtype=object),\n",
       " 'py': ndarray([<cppyy.gbl.ROOT.VecOps.RVec<float> object at 0x55a6e96880a0>,\n",
       "          <cppyy.gbl.ROOT.VecOps.RVec<float> object at 0x55a6e96880e0>,\n",
       "          <cppyy.gbl.ROOT.VecOps.RVec<float> object at 0x55a6e9688120>,\n",
       "          ...,\n",
       "          <cppyy.gbl.ROOT.VecOps.RVec<float> object at 0x55a6ea8d7120>,\n",
       "          <cppyy.gbl.ROOT.VecOps.RVec<float> object at 0x55a6ea8d7160>,\n",
       "          <cppyy.gbl.ROOT.VecOps.RVec<float> object at 0x55a6ea8d71a0>],\n",
       "         dtype=object)}"
      ]
     },
     "execution_count": 37,
     "metadata": {},
     "output_type": "execute_result"
    }
   ],
   "source": [
    "(\n",
    "    rdf.Define(\"px\", \"Muon_pt * ROOT::VecOps::cos(Muon_phi)\")\n",
    "       .Define(\"py\", \"Muon_pt * ROOT::VecOps::sin(Muon_phi)\")\n",
    "       .AsNumpy([\"px\", \"py\"])\n",
    ")"
   ]
  },
  {
   "cell_type": "markdown",
   "id": "c6f51979-8eca-447b-8707-03ecb784739b",
   "metadata": {},
   "source": [
    "<br><br><br><br><br>"
   ]
  },
  {
   "cell_type": "markdown",
   "id": "015d6bfd-7274-42aa-abf7-84cef6b3d52e",
   "metadata": {},
   "source": [
    "### Uproot"
   ]
  },
  {
   "cell_type": "markdown",
   "id": "e69edceb-68ca-4c2d-95e2-725de34308ae",
   "metadata": {},
   "source": [
    "<br><br><br><br><br>"
   ]
  },
  {
   "cell_type": "markdown",
   "id": "97770d27-f5c6-4b6b-9dab-d29a1446c8cd",
   "metadata": {},
   "source": [
    "### Awkward Array"
   ]
  },
  {
   "cell_type": "markdown",
   "id": "24b002fa-aa48-4839-9d51-038b924dafc1",
   "metadata": {},
   "source": [
    "<br><br><br><br><br>"
   ]
  },
  {
   "cell_type": "markdown",
   "id": "fb1e4fba-2299-44c1-b387-cce9c2897179",
   "metadata": {},
   "source": [
    "## Project: H → ZZ → 4ℓ"
   ]
  },
  {
   "cell_type": "markdown",
   "id": "a45571c5-6c72-47a0-b6c9-4249ba027588",
   "metadata": {},
   "source": [
    "<br><br><br><br><br>"
   ]
  },
  {
   "cell_type": "markdown",
   "id": "13d152fd-a8cf-4f63-ba9f-6cb40988c1da",
   "metadata": {},
   "source": [
    "### 4 leptons of the same flavor"
   ]
  },
  {
   "cell_type": "markdown",
   "id": "ee70491e-9fc1-48ed-930b-ec624deffcb1",
   "metadata": {},
   "source": [
    "<br><br><br><br><br>"
   ]
  },
  {
   "cell_type": "markdown",
   "id": "d80df4c6-3809-4ff0-9676-a6d7a77fab2a",
   "metadata": {
    "tags": []
   },
   "source": [
    "### Opposite charges"
   ]
  },
  {
   "cell_type": "markdown",
   "id": "b53590e6-c3f5-4fd1-a8bd-73c1a58c7b1f",
   "metadata": {},
   "source": [
    "<br><br><br><br><br>"
   ]
  },
  {
   "cell_type": "markdown",
   "id": "9000dcf9-59c8-4b2b-b04f-38ba10aaa299",
   "metadata": {},
   "source": [
    "### On your own: the H → ZZ → 2μ2e case"
   ]
  },
  {
   "cell_type": "markdown",
   "id": "8ee93e56-8afb-41bc-8fcc-b407eb05fe24",
   "metadata": {},
   "source": [
    "<br><br><br><br><br>"
   ]
  },
  {
   "cell_type": "markdown",
   "id": "33682c2b-229a-4153-9ab7-4873c8f68cb9",
   "metadata": {},
   "source": [
    "### Hint!"
   ]
  }
 ],
 "metadata": {
  "kernelspec": {
   "display_name": "Python 3 (ipykernel)",
   "language": "python",
   "name": "python3"
  },
  "language_info": {
   "codemirror_mode": {
    "name": "ipython",
    "version": 3
   },
   "file_extension": ".py",
   "mimetype": "text/x-python",
   "name": "python",
   "nbconvert_exporter": "python",
   "pygments_lexer": "ipython3",
   "version": "3.9.13"
  }
 },
 "nbformat": 4,
 "nbformat_minor": 5
}
