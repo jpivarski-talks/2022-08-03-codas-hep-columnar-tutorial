{
 "cells": [
  {
   "cell_type": "markdown",
   "id": "08e809da-bff8-47a6-a86d-109efcef24e9",
   "metadata": {
    "tags": []
   },
   "source": [
    "# CoDaS-HEP Columnar Data Analysis, part 2"
   ]
  },
  {
   "cell_type": "markdown",
   "id": "b91af225-e48f-4fed-888d-97c9f2172b78",
   "metadata": {},
   "source": [
    "This is the second of two sessions on [columnar data analysis](https://indico.cern.ch/event/1151367/timetable/#41-columnar-data-analysis), presented at CoDaS-HEP at 12:30pm on August 3, 2022 by Jim Pivarski and Ioana Ifrim.\n",
    "\n",
    "See the [GitHub repo](https://github.com/jpivarski-talks/2022-08-03-codas-hep-columnar-tutorial#readme) for instructions on how to run it.\n",
    "\n",
    "DO NOT start this one before part 1 because this notebook starts with solutions for the \"on your own\" problem posed at the end of part 1."
   ]
  },
  {
   "cell_type": "markdown",
   "id": "7f98b486-444a-4303-98d1-4336d124ae71",
   "metadata": {},
   "source": [
    "<br><br><br><br><br>"
   ]
  },
  {
   "cell_type": "markdown",
   "id": "e7a29011-51bb-4fda-979a-0b709a57251f",
   "metadata": {},
   "source": [
    "## Review H → ZZ → 2μ2e"
   ]
  },
  {
   "cell_type": "markdown",
   "id": "e66a6e72-549d-4ae0-ad1e-f0e469ea8dec",
   "metadata": {},
   "source": [
    "<br><br><br><br><br>"
   ]
  },
  {
   "cell_type": "markdown",
   "id": "55d5e4f9-24d0-4eb4-ab73-c9630dc3cfe5",
   "metadata": {},
   "source": [
    "## What about \"iterate until converged\" algorithms?"
   ]
  },
  {
   "cell_type": "markdown",
   "id": "0c924fb7-dcd2-44bf-b724-bfc1228d8623",
   "metadata": {},
   "source": [
    "<br><br><br><br><br>"
   ]
  },
  {
   "cell_type": "markdown",
   "id": "f9b88eee-9470-427b-a0b7-16a14146b01f",
   "metadata": {},
   "source": [
    "### Special functions"
   ]
  },
  {
   "cell_type": "markdown",
   "id": "0acc69b6-7c71-46d9-8f40-2f9b688fcc77",
   "metadata": {},
   "source": [
    "<br><br><br><br><br>"
   ]
  },
  {
   "cell_type": "markdown",
   "id": "d5032eb1-9f37-48ad-932e-679724588cf2",
   "metadata": {},
   "source": [
    "### Mandelbrot set"
   ]
  },
  {
   "cell_type": "markdown",
   "id": "0d38448e-8e97-4dac-ad6e-172a594e4863",
   "metadata": {},
   "source": [
    "<br><br><br><br><br>"
   ]
  },
  {
   "cell_type": "markdown",
   "id": "3d3da2b7-f2c0-42aa-b60c-dd85e385be85",
   "metadata": {},
   "source": [
    "## Tale of two JIT compilers: Numba and JAX"
   ]
  },
  {
   "cell_type": "markdown",
   "id": "185e8483-511d-48e0-ab48-900836c5e80a",
   "metadata": {},
   "source": [
    "<br><br><br><br><br>"
   ]
  },
  {
   "cell_type": "markdown",
   "id": "1d4f1363-cf2e-44e3-bc92-aa08b5409896",
   "metadata": {},
   "source": [
    "### H → ZZ → 4ℓ in Numba"
   ]
  },
  {
   "cell_type": "markdown",
   "id": "9113ea1b-4244-49ea-afcb-2a2e9e390f17",
   "metadata": {},
   "source": [
    "<br><br><br><br><br>"
   ]
  },
  {
   "cell_type": "markdown",
   "id": "170bed94-1851-4cc4-81f3-4578ad0f994e",
   "metadata": {},
   "source": [
    "### H → ZZ → 4ℓ in JAX"
   ]
  },
  {
   "cell_type": "markdown",
   "id": "38048bdc-0071-4d95-b875-381c6badd028",
   "metadata": {},
   "source": [
    "<br><br><br><br><br>"
   ]
  },
  {
   "cell_type": "markdown",
   "id": "22e6a675-fd66-42c5-b578-822f6d9b7128",
   "metadata": {},
   "source": [
    "## Awkward Array 2.0"
   ]
  },
  {
   "cell_type": "markdown",
   "id": "894b16db-45ac-46d4-9042-36f4e24541b9",
   "metadata": {},
   "source": [
    "<br><br><br><br><br>"
   ]
  },
  {
   "cell_type": "markdown",
   "id": "375a7500-58cb-475b-8268-502beb89893d",
   "metadata": {},
   "source": [
    "### Parquet file format"
   ]
  },
  {
   "cell_type": "markdown",
   "id": "ab0cf63d-5e58-49cb-a386-93f28be4cc6b",
   "metadata": {},
   "source": [
    "<br><br><br><br><br>"
   ]
  },
  {
   "cell_type": "markdown",
   "id": "1e3141cf-2d21-4439-a8e6-97300d027dc9",
   "metadata": {},
   "source": [
    "### RDataFrame"
   ]
  },
  {
   "cell_type": "markdown",
   "id": "deeea829-ce50-4b32-be24-d61c7e4513e2",
   "metadata": {},
   "source": [
    "<br><br><br><br><br>"
   ]
  },
  {
   "cell_type": "markdown",
   "id": "ed381651-f410-4707-833d-92540976a343",
   "metadata": {},
   "source": [
    "### Dask"
   ]
  }
 ],
 "metadata": {
  "kernelspec": {
   "display_name": "Python 3 (ipykernel)",
   "language": "python",
   "name": "python3"
  },
  "language_info": {
   "codemirror_mode": {
    "name": "ipython",
    "version": 3
   },
   "file_extension": ".py",
   "mimetype": "text/x-python",
   "name": "python",
   "nbconvert_exporter": "python",
   "pygments_lexer": "ipython3",
   "version": "3.9.13"
  }
 },
 "nbformat": 4,
 "nbformat_minor": 5
}
