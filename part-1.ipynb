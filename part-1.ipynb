{
 "cells": [
  {
   "cell_type": "markdown",
   "id": "75d48a37-ce97-44e6-a4ae-445a6c08d055",
   "metadata": {},
   "source": [
    "# CoDaS-HEP Columnar Data Analysis, part 1"
   ]
  },
  {
   "cell_type": "markdown",
   "id": "2c5f7647-184a-418c-a8a3-a3b4d8454a97",
   "metadata": {},
   "source": [
    "This is the first of two sessions on [columnar data analysis](https://indico.cern.ch/event/1151367/timetable/#41-columnar-data-analysis), presented at CoDaS-HEP at 12:30pm on August 3, 2022 by Jim Pivarski and Ioana Ifrim.\n",
    "\n",
    "See the [GitHub repo](https://github.com/jpivarski-talks/2022-08-03-codas-hep-columnar-tutorial#readme) for instructions on how to run it."
   ]
  },
  {
   "cell_type": "markdown",
   "id": "16e3a8d8-d499-4e1c-940e-9060116dfcfa",
   "metadata": {},
   "source": [
    "<br><br><br><br><br>"
   ]
  },
  {
   "cell_type": "markdown",
   "id": "7ed8fcbc-d4af-4ebf-b107-3a9aa2364248",
   "metadata": {},
   "source": [
    "## Programming paradigms"
   ]
  },
  {
   "cell_type": "markdown",
   "id": "5f1e3653-32ab-40fb-b230-a1917a9ac8ee",
   "metadata": {},
   "source": [
    "Programming languages are for humans, not computers.\n",
    "\n",
    "<br><br>\n",
    "\n",
    "They bridge the gap between patterns of flowing electrons and the way humans conceptualize logical necessity (i.e. math).\n",
    "\n",
    "<br><br>\n",
    "\n",
    "Humans don't all think the same way about math, and one person doesn't always think about it the same way in different problems. That's why we need different **programming languages**.\n",
    "\n",
    "<br><br>\n",
    "\n",
    "But there are only a few ways that programming languages can be fundamentally different from each other, and even these have overlaps. They're called **programming paradigms**.\n",
    "\n",
    "<br><br>\n",
    "\n",
    "You might have heard of a few, or at least recognize them when you see them."
   ]
  },
  {
   "cell_type": "markdown",
   "id": "8d2b5192-0326-46ec-b274-fcafa66c9e90",
   "metadata": {},
   "source": [
    "<br><br><br><br><br>"
   ]
  },
  {
   "cell_type": "markdown",
   "id": "08c14f91-be8f-449c-9825-3596b04b25ee",
   "metadata": {},
   "source": [
    "### Sample problem"
   ]
  },
  {
   "cell_type": "markdown",
   "id": "cec36e52-a68c-40bb-8f50-79884b794fd4",
   "metadata": {},
   "source": [
    "Let's illustrate a few in the context of a single problem.\n",
    "\n",
    "Suppose that we have a 1D array `A` and a 2D array `B`, and we want to\n",
    "\n",
    "   * multiply `A[i]` and `B[i, j]` for each horizontal index `i`,\n",
    "   * sum over those products along vertical index `j`,\n",
    "   * resulting in a 1D array, indexed only by `i`."
   ]
  },
  {
   "cell_type": "markdown",
   "id": "70a40ce9-09dd-4c12-8304-8ea54bb3a938",
   "metadata": {},
   "source": [
    "<img src=\"img/paradigms-problem.svg\" width=\"500\">"
   ]
  },
  {
   "cell_type": "code",
   "execution_count": 1,
   "id": "c4077269-8dc7-49e1-b067-d015b54e1028",
   "metadata": {},
   "outputs": [],
   "source": [
    "import numpy as np"
   ]
  },
  {
   "cell_type": "code",
   "execution_count": 2,
   "id": "2a3f8b30-683b-4ecb-b6e8-22a179868c91",
   "metadata": {},
   "outputs": [],
   "source": [
    "A = np.array([10, 20, 30])\n",
    "\n",
    "B = np.array([[ 0,  1,  2,  3],\n",
    "              [ 4,  5,  6,  7],\n",
    "              [ 8,  9, 10, 11]])"
   ]
  },
  {
   "cell_type": "markdown",
   "id": "3a653abf-3692-4da3-92eb-e51616b4546e",
   "metadata": {},
   "source": [
    "We want to get an output that is"
   ]
  },
  {
   "cell_type": "code",
   "execution_count": 3,
   "id": "a0a57417-7262-4ca3-bbce-6a62fcceaa71",
   "metadata": {},
   "outputs": [
    {
     "data": {
      "text/plain": [
       "array([  60,  440, 1140])"
      ]
     },
     "execution_count": 3,
     "metadata": {},
     "output_type": "execute_result"
    }
   ],
   "source": [
    "np.array([\n",
    "    A[0]*B[0, 0] + A[0]*B[0, 1] + A[0]*B[0, 2] + A[0]*B[0, 3],\n",
    "    A[1]*B[1, 0] + A[1]*B[1, 1] + A[1]*B[1, 2] + A[1]*B[1, 3],\n",
    "    A[2]*B[2, 0] + A[2]*B[2, 1] + A[2]*B[2, 2] + A[2]*B[2, 3],\n",
    "])"
   ]
  },
  {
   "cell_type": "markdown",
   "id": "7c57054c-a275-4402-befe-e537d3753c71",
   "metadata": {},
   "source": [
    "<br><br><br><br><br>"
   ]
  },
  {
   "cell_type": "markdown",
   "id": "672fa987-a4c8-4c75-9bc2-d271d8ff4983",
   "metadata": {},
   "source": [
    "### Imperative"
   ]
  },
  {
   "cell_type": "markdown",
   "id": "9a772aa7-5f92-414d-ba23-0f1734f93442",
   "metadata": {},
   "source": [
    "The imperative paradigm is probably the most familiar: you tell the computer exactly what to do for each element, step by step."
   ]
  },
  {
   "cell_type": "code",
   "execution_count": 4,
   "id": "056225d9-2541-41f8-893d-ca124fb21ba8",
   "metadata": {},
   "outputs": [
    {
     "data": {
      "text/plain": [
       "array([  60,  440, 1140])"
      ]
     },
     "execution_count": 4,
     "metadata": {},
     "output_type": "execute_result"
    }
   ],
   "source": [
    "output = np.zeros(len(A), dtype=int)\n",
    "\n",
    "for i in range(len(A)):\n",
    "    ai = A[i]\n",
    "    bi = B[i]\n",
    "    for bij in bi:\n",
    "        output[i] += ai * bij\n",
    "\n",
    "output"
   ]
  },
  {
   "cell_type": "markdown",
   "id": "2422c64a-a85d-478c-b256-daace53649e2",
   "metadata": {},
   "source": [
    "If this had been written in another language, like C++, it would look fairly similar.\n",
    "\n",
    "```c++\n",
    "std::vector<int> output(A.size(), 0);\n",
    "\n",
    "for (int i = 0; i < A.size(); i++) {\n",
    "    int              ai = A[i];\n",
    "    std::vector<int> bi = B[i];\n",
    "    for (int bij : bi) {\n",
    "        output[i] += ai * bij;\n",
    "    }\n",
    "}\n",
    "```\n",
    "\n",
    "Imperative programs involve explicit instructions, loop blocks, and if/then/else blocks (indented in Python and in curly brackets in C).\n",
    "\n",
    "For most of us today, this is just \"normal programming,\" but it wasn't a part of the first programming languages. It was introduced by ALGOL (1958) and only became mainstream after it was [proven capable of universal computation](https://en.wikipedia.org/wiki/Structured_program_theorem) (1966), such that programming languages [wouldn't need a GOTO statement anymore](https://doi.org/10.1145%2F362929.362947) (1968). Most physicists have been using this style [since Fortran 77](https://en.wikipedia.org/wiki/Fortran#FORTRAN_77) (1977), and some [a little earlier](https://onlinelibrary.wiley.com/doi/10.1002/spe.4380050408) (1975).\n",
    "\n",
    "The downsides of imperative programming are:\n",
    "\n",
    "   * it can be _too_ prescriptive, preventing compilers from finding faster algorithms than the one you wrote,\n",
    "   * some languages, like Python, have considerable overhead for each statement.\n",
    "\n",
    "Imperative programming in Python is slow."
   ]
  },
  {
   "cell_type": "markdown",
   "id": "1f174d5c-b31f-4033-8aa6-89ad820c9c74",
   "metadata": {},
   "source": [
    "<br><br><br><br><br>"
   ]
  },
  {
   "cell_type": "markdown",
   "id": "dfbe9041-c9f9-48f4-b72c-e2bcc0776060",
   "metadata": {},
   "source": [
    "### Functional"
   ]
  },
  {
   "cell_type": "markdown",
   "id": "d74c0108-de4d-434a-bde3-439b06dccb0f",
   "metadata": {},
   "source": [
    "The functional paradigm replaces blocks of code—that which is indented in Python and between curly brackets in C—with functions.\n",
    "\n",
    "Instead of `if` and loop syntax like `for` and `while`, functional languages have \"functors\" that take functions as arguments, and the functors do that work.\n",
    "\n",
    "Most functional programming languages use the same names for these common functors: `map`, `reduce`, `filter`, `scan`, `fold`, `flatten`, `flatmap`, ... ([in Python](https://web.mit.edu/6.005/www/fa15/classes/25-map-filter-reduce/), [in LISP](https://www.cs.cmu.edu/Groups/AI/html/cltl/clm/node143.html), [in Java](https://belief-driven-design.com/functional-programm-with-java-map-filter-reduce-77e479bd73e/), [in Swift](https://abhimuralidharan.medium.com/higher-order-functions-in-swift-filter-map-reduce-flatmap-1837646a63e8)...)\n",
    "\n",
    "If you're familiar with [ROOT's RDataFrame](https://root.cern/doc/master/classROOT_1_1RDataFrame.html), this is an example of functional programming in physics.\n",
    "\n",
    "Here is a functional solution to the sample problem:"
   ]
  },
  {
   "cell_type": "code",
   "execution_count": 5,
   "id": "6f549f7b-9676-4e5c-9dde-eb8de6b5a6a5",
   "metadata": {},
   "outputs": [
    {
     "data": {
      "text/plain": [
       "array([  60,  440, 1140])"
      ]
     },
     "execution_count": 5,
     "metadata": {},
     "output_type": "execute_result"
    }
   ],
   "source": [
    "def fun(args):\n",
    "    i, (ai, bi) = args\n",
    "    return sum(map(lambda bij: ai * bij, bi))\n",
    "\n",
    "np.fromiter(map(fun, enumerate(zip(A, B))), dtype=int)"
   ]
  },
  {
   "cell_type": "markdown",
   "id": "1b8fe721-1ee5-46f1-b6c1-f2440f9845c0",
   "metadata": {},
   "source": [
    "In the above,\n",
    "\n",
    "   * `lambda` makes an inline user-defined function and `def` makes one capable of multiple statements,\n",
    "   * `zip` makes a sequence by pairing elements of `A` with elements of `B`,\n",
    "   * `enumerate` pairs indexes with the sequence,\n",
    "   * `map` applies a function to every element of a sequence: `x[i] → f(x[i])`,\n",
    "   * `sum` is a reducer that applies the function \"`+`\" to every pair of neighbors in the sequence, turning the sequence into a scalar.\n",
    "\n",
    "In Python, list comprehensions are more common than explicit functions and `map` because the syntax is more streamlined. The above could be written as"
   ]
  },
  {
   "cell_type": "code",
   "execution_count": 6,
   "id": "bcca36a7-b6bd-4bf5-9b20-38bb519b2db2",
   "metadata": {},
   "outputs": [
    {
     "data": {
      "text/plain": [
       "array([  60,  440, 1140])"
      ]
     },
     "execution_count": 6,
     "metadata": {},
     "output_type": "execute_result"
    }
   ],
   "source": [
    "np.array([sum(ai * bij for bij in bi) for i, (ai, bi) in enumerate(zip(A, B))])"
   ]
  },
  {
   "cell_type": "markdown",
   "id": "5a24e509-a001-4109-bfeb-a3d92be5cd38",
   "metadata": {},
   "source": [
    "The advantage of functional programming is that these functional primitives—`map`, `reduce`, `filter`, etc.—can be parallelized, as long as the user-supplied function can be called on different arguments in any order. This can be guaranteed with [pure functions](https://en.wikipedia.org/wiki/Pure_function), which do not modify any variables outside of themselves.\n",
    "\n",
    "[Google MapReduce](https://research.google/pubs/pub62/)/Hadoop started the \"Big Data\" sensation by implementing `map+filter` and `reduce` on distributed datasets (2004). Today, it's how distributed computing in Apache Spark works, as well as RDataFrame in ROOT.\n",
    "\n",
    "The disadvantage _in Python_ is that the functional primitives are implemented imperatively, so it's still slow."
   ]
  },
  {
   "cell_type": "markdown",
   "id": "8937f209-8da5-45ee-9fe0-86b363f4acd4",
   "metadata": {},
   "source": [
    "<br><br><br><br><br>"
   ]
  },
  {
   "cell_type": "markdown",
   "id": "de2813cd-c9f0-47b3-b2aa-39ccf1b5ef8c",
   "metadata": {},
   "source": [
    "### Object-oriented"
   ]
  },
  {
   "cell_type": "markdown",
   "id": "bb930b2a-1f7e-45c0-8c49-e6275f8829ba",
   "metadata": {},
   "source": [
    "Object-oriented programming is another big one; you've probably heard of it.\n",
    "\n",
    "It has more to do with organizing the large-scale structure of a program into units, so while it can be applied to a small problem like this one, it doesn't help much."
   ]
  },
  {
   "cell_type": "code",
   "execution_count": 7,
   "id": "c82391ec-70c1-41a8-9ecc-91ae75932172",
   "metadata": {},
   "outputs": [
    {
     "data": {
      "text/plain": [
       "array([  60,  440, 1140])"
      ]
     },
     "execution_count": 7,
     "metadata": {},
     "output_type": "execute_result"
    }
   ],
   "source": [
    "class ABProductSum:\n",
    "    def __init__(self):\n",
    "        self._value = 0\n",
    "\n",
    "    def accumulate(self, ai, bij):\n",
    "        self._value += int(ai * bij)\n",
    "\n",
    "    def __int__(self):\n",
    "        return self._value\n",
    "\n",
    "output = [ABProductSum(), ABProductSum(), ABProductSum()]\n",
    "\n",
    "for i, (ai, bi) in enumerate(zip(A, B)):\n",
    "    for bij in bi:\n",
    "        output[i].accumulate(ai, bij)\n",
    "\n",
    "np.array(output, dtype=int)"
   ]
  },
  {
   "cell_type": "markdown",
   "id": "9c1e96b5-9807-4f3b-b6f6-755f71022423",
   "metadata": {},
   "source": [
    "Above, each `ABProductSum` is only responsible for its own sum. It changes values in place, but in a localized way.\n",
    "\n",
    "Object-oriented programming is often contrasted with functional programming because objects are often designed around modifying their own state and pure functions avoid any mutable state.\n",
    "\n",
    "However, they're not incompatible: objects don't _need_ to have mutable state, and in some languages, class definitions are the only way to pass functions as arguments."
   ]
  },
  {
   "cell_type": "code",
   "execution_count": 8,
   "id": "b45df25d-d974-4a3c-9d43-53b401d81e44",
   "metadata": {},
   "outputs": [
    {
     "data": {
      "text/plain": [
       "array([  60,  440, 1140])"
      ]
     },
     "execution_count": 8,
     "metadata": {},
     "output_type": "execute_result"
    }
   ],
   "source": [
    "class Map:\n",
    "    def apply(self, function, sequence):\n",
    "        out = []\n",
    "        for x in sequence:\n",
    "            out.append(function.apply(x))   # expects the function object to have an 'apply' method\n",
    "        return out\n",
    "\n",
    "class Sum:\n",
    "    def apply(self, sequence):\n",
    "        out = 0\n",
    "        for x in sequence:\n",
    "            out += x\n",
    "        return out\n",
    "\n",
    "class UserFun1:\n",
    "    def __init__(self, ai):   # UserFun1 knows about 'ai'; in functional programming, this is called a closure\n",
    "        self._ai = ai\n",
    "\n",
    "    def apply(self, bij):     # the actual function only depends on 'bij'\n",
    "        return self._ai * bij\n",
    "\n",
    "class UserFun2:\n",
    "    def apply(self, args):\n",
    "        i, (ai, bi) = args\n",
    "        return Sum().apply(Map().apply(UserFun1(ai), bi))\n",
    "\n",
    "np.fromiter(Map().apply(UserFun2(), enumerate(zip(A, B))), dtype=int)"
   ]
  },
  {
   "cell_type": "markdown",
   "id": "6a3f3798-35f5-48ee-817c-15b36ce11c64",
   "metadata": {},
   "source": [
    "The advantage of object-oriented programming is that it is verbose: naming things and limiting scope within names helps large-scale programming.\n",
    "\n",
    "The disadvantage of object-oriented programming is that it is verbose: this scaffolding is not always needed and can get in the way of solving small problems.\n",
    "\n",
    "Also, it's implemented imperatively in Python, so no speed-up."
   ]
  },
  {
   "cell_type": "markdown",
   "id": "28cbf78b-729d-44f8-87f2-46ec7d797b6e",
   "metadata": {},
   "source": [
    "<br><br><br><br><br>"
   ]
  },
  {
   "cell_type": "markdown",
   "id": "519d8cc2-477f-4206-bb9d-176bc40f1525",
   "metadata": {},
   "source": [
    "### Array-oriented"
   ]
  },
  {
   "cell_type": "markdown",
   "id": "bc8cf4a6-17ce-4c28-8556-1f8f90dc224a",
   "metadata": {},
   "source": [
    "Array-oriented (or \"columnar\") programming consists of operations on arrays. Most statements do something to a whole array.\n",
    "\n",
    "Here's an array-oriented solution to the sample problem in one line:"
   ]
  },
  {
   "cell_type": "code",
   "execution_count": 9,
   "id": "b4d17476-a2bb-4a4d-a638-d7dedb8a5b05",
   "metadata": {},
   "outputs": [
    {
     "data": {
      "text/plain": [
       "array([  60,  440, 1140])"
      ]
     },
     "execution_count": 9,
     "metadata": {},
     "output_type": "execute_result"
    }
   ],
   "source": [
    "np.sum(A[:, np.newaxis] * B, axis=1)"
   ]
  },
  {
   "cell_type": "markdown",
   "id": "477954ea-9d2b-40c3-a9ec-13aebf2591e2",
   "metadata": {},
   "source": [
    "Did you catch that? Array-oriented programming is usually concise, which is only good when you know what's going on.\n",
    "\n",
    "Breaking down the above,"
   ]
  },
  {
   "cell_type": "code",
   "execution_count": 10,
   "id": "ee28ce79-bd92-4626-88f5-ad2be0667e0d",
   "metadata": {},
   "outputs": [
    {
     "data": {
      "text/plain": [
       "array([10, 20, 30])"
      ]
     },
     "execution_count": 10,
     "metadata": {},
     "output_type": "execute_result"
    }
   ],
   "source": [
    "A"
   ]
  },
  {
   "cell_type": "code",
   "execution_count": 11,
   "id": "7b9dda4a-126a-422c-8845-2b6a72982dd5",
   "metadata": {},
   "outputs": [
    {
     "data": {
      "text/plain": [
       "array([[ 0,  1,  2,  3],\n",
       "       [ 4,  5,  6,  7],\n",
       "       [ 8,  9, 10, 11]])"
      ]
     },
     "execution_count": 11,
     "metadata": {},
     "output_type": "execute_result"
    }
   ],
   "source": [
    "B"
   ]
  },
  {
   "cell_type": "markdown",
   "id": "1bce4ced-74ed-498f-bab2-f9b5dfed84a7",
   "metadata": {},
   "source": [
    "**Step 1:** NumPy has a rich slicing syntax. \"`:`\" means \"pass a dimension through unchanged\" and \"`np.newaxis`\" means \"make a length-1 dimension here, at this depth of the slice.\""
   ]
  },
  {
   "cell_type": "code",
   "execution_count": 12,
   "id": "38578401-f12e-4b93-bb09-351a7cdae3e8",
   "metadata": {},
   "outputs": [
    {
     "data": {
      "text/plain": [
       "array([[10],\n",
       "       [20],\n",
       "       [30]])"
      ]
     },
     "execution_count": 12,
     "metadata": {},
     "output_type": "execute_result"
    }
   ],
   "source": [
    "A[:, np.newaxis]"
   ]
  },
  {
   "cell_type": "markdown",
   "id": "56aca493-fc4d-4461-bc27-545fc3a9dc83",
   "metadata": {},
   "source": [
    "**Step 2:** Binary operations, such as \"`*`\", _broadcast_ arrays of different shapes.\n",
    "\n",
    "Each row of `A[:, np.newaxis]` has 1 element; each row of `B` has 4, the 1 element is duplicated for each of the 4."
   ]
  },
  {
   "cell_type": "code",
   "execution_count": 13,
   "id": "8afcf9ae-7dc2-4548-85a1-0f79854266ae",
   "metadata": {},
   "outputs": [
    {
     "data": {
      "text/plain": [
       "array([[  0,  10,  20,  30],\n",
       "       [ 80, 100, 120, 140],\n",
       "       [240, 270, 300, 330]])"
      ]
     },
     "execution_count": 13,
     "metadata": {},
     "output_type": "execute_result"
    }
   ],
   "source": [
    "A[:, np.newaxis] * B"
   ]
  },
  {
   "cell_type": "markdown",
   "id": "ca1d6453-1207-455a-9eff-655880b40d19",
   "metadata": {},
   "source": [
    "**Step 3:** Reducers, such as `np.sum`, apply at a given `axis` (dimension).\n",
    "\n",
    "We want to sum over the inner lists, not the outer lists, so that's `axis=1`, not `axis=0`."
   ]
  },
  {
   "cell_type": "code",
   "execution_count": 14,
   "id": "922011fb-5492-4647-9d85-d09ad31b9800",
   "metadata": {},
   "outputs": [
    {
     "data": {
      "text/plain": [
       "array([  60,  440, 1140])"
      ]
     },
     "execution_count": 14,
     "metadata": {},
     "output_type": "execute_result"
    }
   ],
   "source": [
    "np.sum(A[:, np.newaxis] * B, axis=1)"
   ]
  },
  {
   "cell_type": "markdown",
   "id": "23c112b5-e38d-44e0-987c-1bb10a370dd6",
   "metadata": {},
   "source": [
    "More on array-oriented programming later (the rest of this whole tutorial), but\n",
    "\n",
    "   * the advantages are that it's concise (short expression) and explicit (you say exactly what happens to each array),\n",
    "   * the disadvantages are that it's concise (too short to understand?) and explicit (interpreter can't optimize intermediate steps).\n",
    "\n",
    "Array-oriented programming is how most scientific Python libraries manage to be _expressive_ and _fast_ (because loops over arrays are implemented in compiled code)."
   ]
  },
  {
   "cell_type": "markdown",
   "id": "1f26e66d-0f41-4cc6-906e-4e757043b3e3",
   "metadata": {},
   "source": [
    "<br><br><br><br><br>"
   ]
  },
  {
   "cell_type": "markdown",
   "id": "87de4e18-e5ac-499f-87c5-5e46ef99e03f",
   "metadata": {},
   "source": [
    "### Declarative"
   ]
  },
  {
   "cell_type": "markdown",
   "id": "3226f202-746c-48a9-aadf-4c32bd212542",
   "metadata": {},
   "source": [
    "Most often, physicists use the word \"declarative programming\" to mean functional programming or array-oriented programming.\n",
    "\n",
    "I try to avoid being the Semantics Police, but conflating \"declarative programming\" with either of the above makes it impossible to talk about declarative programming in its own right.\n",
    "\n",
    "Here is a solution to the sample problem in a truly declarative language:"
   ]
  },
  {
   "cell_type": "code",
   "execution_count": 15,
   "id": "54062a0a-1379-4cd8-a4c3-68f51b72ed94",
   "metadata": {},
   "outputs": [
    {
     "data": {
      "text/plain": [
       "array([  60,  440, 1140])"
      ]
     },
     "execution_count": 15,
     "metadata": {},
     "output_type": "execute_result"
    }
   ],
   "source": [
    "np.einsum(\"i,ij -> i\", A, B)"
   ]
  },
  {
   "cell_type": "markdown",
   "id": "98f65a3c-87df-4b20-a4ee-3ffbec6d20df",
   "metadata": {},
   "source": [
    "[NumPy's einsum language](https://ajcr.net/Basic-guide-to-einsum/) can only multiply values from `A` with values from `B`, sum over axes, and transpose axes, but it does so in a way that\n",
    "\n",
    "   * never says what order they should be performed in (as imperative programming would)\n",
    "   * does not take arbitrary functions as arguments (as functional programming would)\n",
    "   * doesn't refer to any intermediate arrays (as array-oriented programming would)\n",
    "\n",
    "It just associates letters on the left of `->` with axes of the input arrays, letters on the right of `->` with axes of the output array, repeated letters with same-index, and omitted letters (in the output) with summed-over axes."
   ]
  },
  {
   "cell_type": "markdown",
   "id": "160779b7-3520-4a8e-9764-cd2c4099ca8d",
   "metadata": {
    "jp-MarkdownHeadingCollapsed": true,
    "tags": []
   },
   "source": [
    "#### Minor aside: the name \"einsum\""
   ]
  },
  {
   "cell_type": "markdown",
   "id": "74d14dc6-f580-41a4-b105-ffb1a6b5ab91",
   "metadata": {},
   "source": [
    "The language in `np.einsum` is more general than [the notation Einstein invented](https://en.wikipedia.org/wiki/Einstein_notation), and our sample problem needs that generality.\n",
    "\n",
    "However, without the `->`,"
   ]
  },
  {
   "cell_type": "code",
   "execution_count": 16,
   "id": "766de94f-f48a-4cf7-85ab-8b006f8b5562",
   "metadata": {},
   "outputs": [
    {
     "data": {
      "text/plain": [
       "array([320, 380, 440, 500])"
      ]
     },
     "execution_count": 16,
     "metadata": {},
     "output_type": "execute_result"
    }
   ],
   "source": [
    "np.einsum(\"i,ij\", A, B)"
   ]
  },
  {
   "cell_type": "markdown",
   "id": "8dd62b70-34c8-4d0f-a5db-b40340746a1b",
   "metadata": {},
   "source": [
    "is the same as $A_i \\, B^i_j$, as Einstein would write it.\n",
    "\n",
    "That solves a different problem, though: one in which the sum is over `axis=0`, rather than `axis=1`:"
   ]
  },
  {
   "cell_type": "code",
   "execution_count": 17,
   "id": "02b23e29-0b92-45fb-801e-384c840047fe",
   "metadata": {},
   "outputs": [
    {
     "data": {
      "text/plain": [
       "array([320, 380, 440, 500])"
      ]
     },
     "execution_count": 17,
     "metadata": {},
     "output_type": "execute_result"
    }
   ],
   "source": [
    "np.sum(A[:, np.newaxis] * B, axis=0)"
   ]
  },
  {
   "cell_type": "markdown",
   "id": "66de7453-783b-4f62-ac80-17fd46da842d",
   "metadata": {},
   "source": [
    "I don't know of a way to solve the sample problem in classical Einstein notation."
   ]
  },
  {
   "cell_type": "markdown",
   "id": "0156d997-7edc-4324-83aa-e850cfefce14",
   "metadata": {},
   "source": [
    "#### Other declarative languages"
   ]
  },
  {
   "cell_type": "markdown",
   "id": "d9b7fcb3-5c11-40bb-ab97-f3a2c3f952ff",
   "metadata": {},
   "source": [
    "The most common declarative language you're likely to encounter is regular expressions:"
   ]
  },
  {
   "cell_type": "code",
   "execution_count": 18,
   "id": "ff43d656-bc52-427e-a804-1e58537850d0",
   "metadata": {},
   "outputs": [],
   "source": [
    "import re"
   ]
  },
  {
   "cell_type": "code",
   "execution_count": 19,
   "id": "e22413b4-ba85-44fe-bdec-dc14fbf11920",
   "metadata": {},
   "outputs": [
    {
     "name": "stdout",
     "output_type": "stream",
     "text": [
      "<re.Match object; span=(4, 5), match='e'>\n",
      "<re.Match object; span=(7, 8), match='o'>\n",
      "<re.Match object; span=(10, 11), match='e'>\n",
      "<re.Match object; span=(14, 15), match='e'>\n",
      "<re.Match object; span=(16, 17), match='a'>\n",
      "<re.Match object; span=(29, 30), match='e'>\n",
      "<re.Match object; span=(38, 39), match='a'>\n"
     ]
    }
   ],
   "source": [
    "for match in re.finditer(r\"[aeiou]\\b\", \"Where do we see a vowel at the end of a word?\"):\n",
    "    print(match)"
   ]
  },
  {
   "cell_type": "markdown",
   "id": "b454e99d-d211-4328-bb33-5a6a8d974f36",
   "metadata": {},
   "source": [
    "Or configuration files in YAML, or templates in C++, or SQL, etc.\n",
    "\n",
    "They're usually _mini-languages_.\n",
    "\n",
    "The advantages are that they can be very suited to their task—concise and easy to read—and they can be implemented in a highly optimized way.\n",
    "\n",
    "The disadvantage is that they rarely generalize, and when they do, they lose their declarativeness."
   ]
  },
  {
   "cell_type": "markdown",
   "id": "e463e967-1e84-4d79-9381-e15ad268d6ab",
   "metadata": {},
   "source": [
    "<br><br><br><br><br>"
   ]
  },
  {
   "cell_type": "markdown",
   "id": "e8f5f115-a778-4c92-ae0e-55734fa1d84b",
   "metadata": {},
   "source": [
    "### ~~Which is best?~~ Which problems are each best suited for?"
   ]
  },
  {
   "cell_type": "markdown",
   "id": "97ef1e47-4a70-4e27-8656-77693ba504fb",
   "metadata": {},
   "source": [
    "| | Good for... | Bad for... |\n",
    "|:-|:-|:-|\n",
    "| **Imperative** | General-purpose programming that you know how to optimize. | Verbosity. Letting the compiler optimize it for you. |\n",
    "| **Functional** | General-purpose programming that you want a framework to distribute or delay for you. | Verbosity. Following the chain of which functions call which. |\n",
    "| **Object-oriented** | Organizing the large-scale structure of a program. | Ultra-verbosity in small problems. Localizing mutable state isn't as good as eliminating it. |\n",
    "| **Array-oriented** | Concise numerical processing, interactivity, fast (compiled) operations. | Iterative algorithms. Large or many intermediate arrays. |\n",
    "| **Declarative** | Ultra-concise expressions for specific tasks. | General-purpose programming. |"
   ]
  },
  {
   "cell_type": "markdown",
   "id": "e974b212-6b86-4a20-a33c-a426f446c4b0",
   "metadata": {},
   "source": [
    "History of programming paradigms mentioned at CHEP (Computing in HEP conferences from 1985 through present)."
   ]
  },
  {
   "cell_type": "markdown",
   "id": "f3fffeba-fff7-4172-ab78-f706db33c36e",
   "metadata": {},
   "source": [
    "<img src=\"img/chep-papers-paradigm.svg\" width=\"700\">"
   ]
  },
  {
   "cell_type": "markdown",
   "id": "f14dcc99-dd86-474e-acd6-dd0f9a635dad",
   "metadata": {},
   "source": [
    "<br><br><br><br><br>"
   ]
  },
  {
   "cell_type": "markdown",
   "id": "e653d713-4cb2-4325-9d3d-fcccc4d0e0f5",
   "metadata": {},
   "source": [
    "## Array-oriented programming"
   ]
  },
  {
   "cell_type": "markdown",
   "id": "43aec465-8b08-4f24-9ef2-21ba38a19afb",
   "metadata": {},
   "source": [
    "<br><br><br><br><br>"
   ]
  },
  {
   "cell_type": "markdown",
   "id": "9feb94f4-45f0-42fd-906f-286b45770d14",
   "metadata": {},
   "source": [
    "### History"
   ]
  },
  {
   "cell_type": "markdown",
   "id": "1e0de4eb-74f7-408c-99f0-d3c532d520ff",
   "metadata": {},
   "source": [
    "<br><br><br><br><br>"
   ]
  },
  {
   "cell_type": "markdown",
   "id": "f8ea1af7-972c-40d4-b5c5-a2f5ab895069",
   "metadata": {},
   "source": [
    "### Synergy with data analysis"
   ]
  },
  {
   "cell_type": "markdown",
   "id": "3bcaf0ab-dceb-4e2b-b693-ca374f9e8676",
   "metadata": {},
   "source": [
    "<br><br><br><br><br>"
   ]
  },
  {
   "cell_type": "markdown",
   "id": "37b6bf41-601b-41b9-b091-901b69b4c742",
   "metadata": {},
   "source": [
    "### Array-oriented in Python: NumPy and everything else"
   ]
  },
  {
   "cell_type": "markdown",
   "id": "0f4cf97b-377f-4f9b-bde1-09c9220726f4",
   "metadata": {},
   "source": [
    "<br><br><br><br><br>"
   ]
  },
  {
   "cell_type": "markdown",
   "id": "29c0765e-2719-4603-b1bd-cf882fc83abe",
   "metadata": {},
   "source": [
    "### Limitations of array-oriented programming"
   ]
  },
  {
   "cell_type": "markdown",
   "id": "438ad3f1-3b4b-4168-8e56-eba2ec27ef08",
   "metadata": {},
   "source": [
    "<br><br><br><br><br>"
   ]
  },
  {
   "cell_type": "markdown",
   "id": "16d57fab-8b47-490a-86f2-e59729574c75",
   "metadata": {},
   "source": [
    "### Accelerating code in Python"
   ]
  },
  {
   "cell_type": "markdown",
   "id": "7c03a8e4-4200-46af-becc-f562d10e7e03",
   "metadata": {},
   "source": [
    "<br><br><br><br><br>"
   ]
  },
  {
   "cell_type": "markdown",
   "id": "15004edd-abe6-427e-b064-fe9711553b1d",
   "metadata": {},
   "source": [
    "## From ROOT files into arrays"
   ]
  },
  {
   "cell_type": "markdown",
   "id": "2d457c5b-a6fb-4fd3-8145-0ca771db8689",
   "metadata": {},
   "source": [
    "<br><br><br><br><br>"
   ]
  },
  {
   "cell_type": "markdown",
   "id": "1cbc85f6-8fde-4a4e-b63d-63401cff42f7",
   "metadata": {},
   "source": [
    "### Uproot"
   ]
  },
  {
   "cell_type": "markdown",
   "id": "266397c6-3bbf-4a0c-9f85-deeb35dc7193",
   "metadata": {},
   "source": [
    "<br><br><br><br><br>"
   ]
  },
  {
   "cell_type": "markdown",
   "id": "fc653616-ca89-4faf-9e64-2ff9c4c37d71",
   "metadata": {},
   "source": [
    "### Awkward Array"
   ]
  },
  {
   "cell_type": "markdown",
   "id": "ad342666-34b7-4606-970a-9e96b9fb8d38",
   "metadata": {},
   "source": [
    "<br><br><br><br><br>"
   ]
  },
  {
   "cell_type": "markdown",
   "id": "6a5e63ef-018f-49c5-912e-55e88fcc9e88",
   "metadata": {},
   "source": [
    "## Project: H → ZZ → 4ℓ"
   ]
  },
  {
   "cell_type": "markdown",
   "id": "f762bdde-31dd-47c8-ac4f-bb9ba9eae1ae",
   "metadata": {},
   "source": [
    "<br><br><br><br><br>"
   ]
  },
  {
   "cell_type": "markdown",
   "id": "ca08b8e9-3f4c-4df1-a5a5-a5b6513abc26",
   "metadata": {},
   "source": [
    "### 4 leptons of the same flavor"
   ]
  },
  {
   "cell_type": "markdown",
   "id": "897e44ed-9777-48af-85e4-61d3f56d48e3",
   "metadata": {},
   "source": [
    "<br><br><br><br><br>"
   ]
  },
  {
   "cell_type": "markdown",
   "id": "50233d49-8978-4ac5-8214-850d4df663cf",
   "metadata": {
    "tags": []
   },
   "source": [
    "### Opposite charges"
   ]
  },
  {
   "cell_type": "markdown",
   "id": "14a0899f-ac5c-4866-ac18-3acd58f03f0e",
   "metadata": {},
   "source": [
    "<br><br><br><br><br>"
   ]
  },
  {
   "cell_type": "markdown",
   "id": "f75dbf1f-c0eb-4044-a066-9f9fa82f5db4",
   "metadata": {},
   "source": [
    "### On your own: the H → ZZ → 2μ2e case"
   ]
  },
  {
   "cell_type": "markdown",
   "id": "1935b1d3-f9f8-4530-931e-689c4d0dc36e",
   "metadata": {},
   "source": [
    "<br><br><br><br><br>"
   ]
  },
  {
   "cell_type": "markdown",
   "id": "919ba63a-c32a-49de-9955-28517b4e56e3",
   "metadata": {},
   "source": [
    "### Hint!"
   ]
  }
 ],
 "metadata": {
  "kernelspec": {
   "display_name": "Python 3 (ipykernel)",
   "language": "python",
   "name": "python3"
  },
  "language_info": {
   "codemirror_mode": {
    "name": "ipython",
    "version": 3
   },
   "file_extension": ".py",
   "mimetype": "text/x-python",
   "name": "python",
   "nbconvert_exporter": "python",
   "pygments_lexer": "ipython3",
   "version": "3.9.13"
  }
 },
 "nbformat": 4,
 "nbformat_minor": 5
}
