{
 "cells": [
  {
   "cell_type": "markdown",
   "id": "75d48a37-ce97-44e6-a4ae-445a6c08d055",
   "metadata": {},
   "source": [
    "# CoDaS-HEP Columnar Data Analysis, part 1"
   ]
  },
  {
   "cell_type": "markdown",
   "id": "7ed8fcbc-d4af-4ebf-b107-3a9aa2364248",
   "metadata": {},
   "source": [
    "## Programming paradigms"
   ]
  },
  {
   "cell_type": "markdown",
   "id": "672fa987-a4c8-4c75-9bc2-d271d8ff4983",
   "metadata": {},
   "source": [
    "### Imperative"
   ]
  },
  {
   "cell_type": "markdown",
   "id": "dfbe9041-c9f9-48f4-b72c-e2bcc0776060",
   "metadata": {},
   "source": [
    "### Functional"
   ]
  },
  {
   "cell_type": "markdown",
   "id": "de2813cd-c9f0-47b3-b2aa-39ccf1b5ef8c",
   "metadata": {},
   "source": [
    "### Object-oriented"
   ]
  },
  {
   "cell_type": "markdown",
   "id": "519d8cc2-477f-4206-bb9d-176bc40f1525",
   "metadata": {},
   "source": [
    "### Array-oriented"
   ]
  },
  {
   "cell_type": "markdown",
   "id": "87de4e18-e5ac-499f-87c5-5e46ef99e03f",
   "metadata": {},
   "source": [
    "### Declarative"
   ]
  },
  {
   "cell_type": "markdown",
   "id": "e8f5f115-a778-4c92-ae0e-55734fa1d84b",
   "metadata": {},
   "source": [
    "### ~~Which is best?~~ Which problems are each best suited for?"
   ]
  },
  {
   "cell_type": "markdown",
   "id": "e653d713-4cb2-4325-9d3d-fcccc4d0e0f5",
   "metadata": {},
   "source": [
    "## Array-oriented programming"
   ]
  },
  {
   "cell_type": "markdown",
   "id": "9feb94f4-45f0-42fd-906f-286b45770d14",
   "metadata": {},
   "source": [
    "### History"
   ]
  },
  {
   "cell_type": "markdown",
   "id": "f8ea1af7-972c-40d4-b5c5-a2f5ab895069",
   "metadata": {},
   "source": [
    "### Synergy with data analysis"
   ]
  },
  {
   "cell_type": "markdown",
   "id": "37b6bf41-601b-41b9-b091-901b69b4c742",
   "metadata": {},
   "source": [
    "### Array-oriented in Python: NumPy and everything else"
   ]
  },
  {
   "cell_type": "markdown",
   "id": "29c0765e-2719-4603-b1bd-cf882fc83abe",
   "metadata": {},
   "source": [
    "### Limitations of array-oriented programming"
   ]
  },
  {
   "cell_type": "markdown",
   "id": "16d57fab-8b47-490a-86f2-e59729574c75",
   "metadata": {},
   "source": [
    "### Accelerating code in Python"
   ]
  },
  {
   "cell_type": "markdown",
   "id": "15004edd-abe6-427e-b064-fe9711553b1d",
   "metadata": {},
   "source": [
    "## From ROOT files into arrays"
   ]
  },
  {
   "cell_type": "markdown",
   "id": "1cbc85f6-8fde-4a4e-b63d-63401cff42f7",
   "metadata": {},
   "source": [
    "### Uproot"
   ]
  },
  {
   "cell_type": "markdown",
   "id": "fc653616-ca89-4faf-9e64-2ff9c4c37d71",
   "metadata": {},
   "source": [
    "### Awkward Array"
   ]
  },
  {
   "cell_type": "markdown",
   "id": "6a5e63ef-018f-49c5-912e-55e88fcc9e88",
   "metadata": {},
   "source": [
    "## Project: H → ZZ → 4ℓ"
   ]
  },
  {
   "cell_type": "markdown",
   "id": "ca08b8e9-3f4c-4df1-a5a5-a5b6513abc26",
   "metadata": {},
   "source": [
    "### 4 leptons of the same flavor"
   ]
  },
  {
   "cell_type": "markdown",
   "id": "50233d49-8978-4ac5-8214-850d4df663cf",
   "metadata": {},
   "source": [
    "### Opposite charges"
   ]
  },
  {
   "cell_type": "markdown",
   "id": "f75dbf1f-c0eb-4044-a066-9f9fa82f5db4",
   "metadata": {},
   "source": [
    "### On your own: the H → ZZ → 2μ2e case"
   ]
  },
  {
   "cell_type": "markdown",
   "id": "919ba63a-c32a-49de-9955-28517b4e56e3",
   "metadata": {},
   "source": [
    "### Hint!"
   ]
  }
 ],
 "metadata": {
  "kernelspec": {
   "display_name": "Python 3 (ipykernel)",
   "language": "python",
   "name": "python3"
  },
  "language_info": {
   "codemirror_mode": {
    "name": "ipython",
    "version": 3
   },
   "file_extension": ".py",
   "mimetype": "text/x-python",
   "name": "python",
   "nbconvert_exporter": "python",
   "pygments_lexer": "ipython3",
   "version": "3.9.13"
  }
 },
 "nbformat": 4,
 "nbformat_minor": 5
}
