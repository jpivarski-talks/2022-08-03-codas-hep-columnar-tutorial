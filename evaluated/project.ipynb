{
 "cells": [
  {
   "cell_type": "markdown",
   "id": "76987c2b-29f7-47dc-8393-47d278f48e67",
   "metadata": {
    "tags": []
   },
   "source": [
    "# CoDaS-HEP Columnar Data Analysis, hands-on project"
   ]
  },
  {
   "cell_type": "markdown",
   "id": "f7521a23-e6e7-433f-92e6-8263ee2b977f",
   "metadata": {},
   "source": [
    "This is the third of three notebooks on [columnar data analysis](https://indico.cern.ch/event/1151367/timetable/#41-columnar-data-analysis), presented at CoDaS-HEP at 13:30pm on July 20, 2023 by Jim Pivarski and Ioana Ifrim.\n",
    "\n",
    "See the [GitHub repo](https://github.com/jpivarski-talks/2022-08-03-codas-hep-columnar-tutorial#readme) for instructions on how to run it."
   ]
  },
  {
   "cell_type": "markdown",
   "id": "a5fac634-c124-4846-8643-173ae6a2fdcc",
   "metadata": {},
   "source": [
    "<br><br><br><br><br>"
   ]
  },
  {
   "cell_type": "markdown",
   "id": "7ca5ec8d-2d8f-414d-94d8-10a2657589c2",
   "metadata": {},
   "source": [
    "## Project: H → ZZ → 4ℓ"
   ]
  },
  {
   "cell_type": "markdown",
   "id": "8e15980d-d334-4d90-b269-680a0cbb973c",
   "metadata": {},
   "source": [
    "In this exercise, we'll reconstruct Z masses and the Higgs mass from four leptons (4μ, 4e, 2μ2e)."
   ]
  },
  {
   "cell_type": "markdown",
   "id": "b8620f92-e18a-4c04-a9bf-2c1ac007b9a1",
   "metadata": {},
   "source": [
    "<br><br><br><br><br>"
   ]
  },
  {
   "cell_type": "markdown",
   "id": "657faf88-b836-4207-b010-a48fbd51da6b",
   "metadata": {},
   "source": [
    "### Getting the data"
   ]
  },
  {
   "cell_type": "markdown",
   "id": "d93e046d-f383-42a7-9b42-3435c2440c87",
   "metadata": {},
   "source": [
    "We'll use Vector, which requires Awkward 1, both versions of Awkward are installed, but the installed version of Uproot only supports Awkward 2.\n",
    "\n",
    "So we'll get the data from a Parquet file, which does not require Uproot."
   ]
  },
  {
   "cell_type": "code",
   "execution_count": 1,
   "id": "23d19cbe-99eb-4f4f-bed0-1c34907110a5",
   "metadata": {},
   "outputs": [],
   "source": [
    "import numpy as np\n",
    "import matplotlib.pyplot as plt\n",
    "import hist"
   ]
  },
  {
   "cell_type": "code",
   "execution_count": 2,
   "id": "8ad850f4-56db-4a56-b2a8-3dd13bdae2ac",
   "metadata": {},
   "outputs": [],
   "source": [
    "import awkward as ak   # version 1\n",
    "import vector\n",
    "vector.register_awkward()"
   ]
  },
  {
   "cell_type": "code",
   "execution_count": 3,
   "id": "d6fd0067-6e7a-42cd-9c35-6743872ea867",
   "metadata": {},
   "outputs": [
    {
     "data": {
      "text/plain": [
       "<Array [{run: 1, ... MET_phi: 1.65}] type='299973 * {\"run\": int32, \"luminosityBl...'>"
      ]
     },
     "execution_count": 3,
     "metadata": {},
     "output_type": "execute_result"
    }
   ],
   "source": [
    "raw_data = ak.from_parquet(\"data/SMHiggsToZZTo4L.parquet\")\n",
    "raw_data"
   ]
  },
  {
   "cell_type": "markdown",
   "id": "a7bdb76d-3b93-4f69-9e1a-28783089e4f2",
   "metadata": {},
   "source": [
    "(We can't call `raw_data.show()` or `raw_data.type.show()`. ☹)"
   ]
  },
  {
   "cell_type": "code",
   "execution_count": 4,
   "id": "d6ad9f8c-5ede-4b3d-9e4e-bd92635749e8",
   "metadata": {},
   "outputs": [
    {
     "data": {
      "text/plain": [
       "{'run': 299973 * int32,\n",
       " 'luminosityBlock': 299973 * int64,\n",
       " 'event': 299973 * uint64,\n",
       " 'PV_npvs': 299973 * int32,\n",
       " 'PV_x': 299973 * float32,\n",
       " 'PV_y': 299973 * float32,\n",
       " 'PV_z': 299973 * float32,\n",
       " 'nMuon': 299973 * int64,\n",
       " 'Muon_pt': 299973 * var * float32,\n",
       " 'Muon_eta': 299973 * var * float32,\n",
       " 'Muon_phi': 299973 * var * float32,\n",
       " 'Muon_mass': 299973 * var * float32,\n",
       " 'Muon_charge': 299973 * var * int32,\n",
       " 'Muon_pfRelIso03_all': 299973 * var * float32,\n",
       " 'Muon_pfRelIso04_all': 299973 * var * float32,\n",
       " 'Muon_dxy': 299973 * var * float32,\n",
       " 'Muon_dxyErr': 299973 * var * float32,\n",
       " 'Muon_dz': 299973 * var * float32,\n",
       " 'Muon_dzErr': 299973 * var * float32,\n",
       " 'nElectron': 299973 * int64,\n",
       " 'Electron_pt': 299973 * var * float32,\n",
       " 'Electron_eta': 299973 * var * float32,\n",
       " 'Electron_phi': 299973 * var * float32,\n",
       " 'Electron_mass': 299973 * var * float32,\n",
       " 'Electron_charge': 299973 * var * int32,\n",
       " 'Electron_pfRelIso03_all': 299973 * var * float32,\n",
       " 'Electron_dxy': 299973 * var * float32,\n",
       " 'Electron_dxyErr': 299973 * var * float32,\n",
       " 'Electron_dz': 299973 * var * float32,\n",
       " 'Electron_dzErr': 299973 * var * float32,\n",
       " 'MET_pt': 299973 * float32,\n",
       " 'MET_phi': 299973 * float32}"
      ]
     },
     "execution_count": 4,
     "metadata": {},
     "output_type": "execute_result"
    }
   ],
   "source": [
    "{field_name: raw_data[field_name].type for field_name in raw_data.fields}"
   ]
  },
  {
   "cell_type": "markdown",
   "id": "d1df6d44-a304-4a37-9432-11817e4dc4bc",
   "metadata": {},
   "source": [
    "<br><br><br><br><br>"
   ]
  },
  {
   "cell_type": "markdown",
   "id": "95c57dab-f513-447a-96eb-7f34a28a8efd",
   "metadata": {},
   "source": [
    "### Reformatting for more object-oriented arrays"
   ]
  },
  {
   "cell_type": "markdown",
   "id": "7da07ac4-92c6-4f1a-95b3-cdc7faae851a",
   "metadata": {},
   "source": [
    "Vector requires arrays to be formatted with fields named `pt`, `phi`, `eta`, `mass` with name `\"Momentum4D\"`. [ak.zip](https://awkward-array.readthedocs.io/en/latest/_auto/ak.zip.html) can do that.\n",
    "\n",
    "They don't need `charge` or isolation variables, but having extra fields is not a problem."
   ]
  },
  {
   "cell_type": "code",
   "execution_count": 5,
   "id": "0bbf97c8-04fe-4ca6-bc00-9ad5888a3d2d",
   "metadata": {
    "tags": []
   },
   "outputs": [
    {
     "data": {
      "text/plain": [
       "<Array [{PV: {x: 0.244, ... phi: 1.65}}] type='299973 * {\"PV\": Vector3D[\"x\": flo...'>"
      ]
     },
     "execution_count": 5,
     "metadata": {},
     "output_type": "execute_result"
    }
   ],
   "source": [
    "events = ak.zip({\n",
    "    \"PV\": ak.zip({\n",
    "        \"x\": raw_data[\"PV_x\"],\n",
    "        \"y\": raw_data[\"PV_y\"],\n",
    "        \"z\": raw_data[\"PV_z\"],\n",
    "    }, with_name=\"Vector3D\"),\n",
    "    \"muons\": ak.zip({\n",
    "        \"pt\": raw_data[\"Muon_pt\"],\n",
    "        \"phi\": raw_data[\"Muon_phi\"],\n",
    "        \"eta\": raw_data[\"Muon_eta\"],\n",
    "        \"mass\": raw_data[\"Muon_mass\"],\n",
    "        \"charge\": raw_data[\"Muon_charge\"],\n",
    "        \"pfRelIso03\": raw_data[\"Muon_pfRelIso03_all\"],\n",
    "        \"pfRelIso04\": raw_data[\"Muon_pfRelIso04_all\"],\n",
    "    }, with_name=\"Momentum4D\"),\n",
    "    \"electrons\": ak.zip({\n",
    "        \"pt\": raw_data[\"Electron_pt\"],\n",
    "        \"phi\": raw_data[\"Electron_phi\"],\n",
    "        \"eta\": raw_data[\"Electron_eta\"],\n",
    "        \"mass\": raw_data[\"Electron_mass\"],\n",
    "        \"charge\": raw_data[\"Electron_charge\"],\n",
    "        \"pfRelIso03\": raw_data[\"Electron_pfRelIso03_all\"],\n",
    "    }, with_name=\"Momentum4D\"),\n",
    "    \"MET\": ak.zip({\n",
    "        \"pt\": raw_data[\"MET_pt\"],\n",
    "        \"phi\": raw_data[\"MET_phi\"],\n",
    "    }, with_name=\"Momentum2D\"),\n",
    "}, depth_limit=1)\n",
    "\n",
    "events"
   ]
  },
  {
   "cell_type": "markdown",
   "id": "a9be1358-ef57-4610-bc90-67cd42f54537",
   "metadata": {},
   "source": [
    "<br><br><br><br><br>"
   ]
  },
  {
   "cell_type": "markdown",
   "id": "72d0af01-0d3e-4852-b836-d75db0c8fb69",
   "metadata": {},
   "source": [
    "Without `.show()`, we can get a sense of the structure by converting the first few events into lists and dicts."
   ]
  },
  {
   "cell_type": "code",
   "execution_count": 6,
   "id": "02f19571-2329-41f4-90f0-951da8a89bfc",
   "metadata": {},
   "outputs": [
    {
     "data": {
      "text/plain": [
       "[{'PV': {'x': 0.24369880557060242,\n",
       "   'y': 0.3936990201473236,\n",
       "   'z': 1.451307773590088},\n",
       "  'muons': [{'pt': 63.04386901855469,\n",
       "    'phi': 2.968005895614624,\n",
       "    'eta': -0.7186822295188904,\n",
       "    'mass': 0.10565836727619171,\n",
       "    'charge': 1,\n",
       "    'pfRelIso03': 0.0,\n",
       "    'pfRelIso04': 0.0},\n",
       "   {'pt': 38.12034606933594,\n",
       "    'phi': -1.0324749946594238,\n",
       "    'eta': -0.8794569969177246,\n",
       "    'mass': 0.10565836727619171,\n",
       "    'charge': -1,\n",
       "    'pfRelIso03': 0.0,\n",
       "    'pfRelIso04': 0.0},\n",
       "   {'pt': 4.04868745803833,\n",
       "    'phi': 1.0385035276412964,\n",
       "    'eta': -0.320764422416687,\n",
       "    'mass': 0.10565836727619171,\n",
       "    'charge': 1,\n",
       "    'pfRelIso03': 0.0,\n",
       "    'pfRelIso04': 0.17997965216636658}],\n",
       "  'electrons': [],\n",
       "  'MET': {'pt': 21.929929733276367, 'phi': -2.7301223278045654}},\n",
       " {'PV': {'x': 0.24427825212478638,\n",
       "   'y': 0.3952622413635254,\n",
       "   'z': -2.879779100418091},\n",
       "  'muons': [],\n",
       "  'electrons': [{'pt': 21.902679443359375,\n",
       "    'phi': 0.1339961737394333,\n",
       "    'eta': -0.7021886706352234,\n",
       "    'mass': 0.00543835386633873,\n",
       "    'charge': 1,\n",
       "    'pfRelIso03': 0.15310849249362946},\n",
       "   {'pt': 42.63296890258789,\n",
       "    'phi': -1.8634047508239746,\n",
       "    'eta': -0.9796805381774902,\n",
       "    'mass': 0.008667422458529472,\n",
       "    'charge': 1,\n",
       "    'pfRelIso03': 0.07332895696163177},\n",
       "   {'pt': 78.01239013671875,\n",
       "    'phi': -2.2078325748443604,\n",
       "    'eta': -0.9338527917861938,\n",
       "    'mass': 0.018527036532759666,\n",
       "    'charge': -1,\n",
       "    'pfRelIso03': 0.02972797304391861},\n",
       "   {'pt': 23.835430145263672,\n",
       "    'phi': -0.6215649247169495,\n",
       "    'eta': -1.362490177154541,\n",
       "    'mass': 0.008162532933056355,\n",
       "    'charge': -1,\n",
       "    'pfRelIso03': 0.074398934841156}],\n",
       "  'MET': {'pt': 16.97213363647461, 'phi': 2.866946220397949}},\n",
       " {'PV': {'x': 0.24243676662445068,\n",
       "   'y': 0.39509689807891846,\n",
       "   'z': 1.8682630062103271},\n",
       "  'muons': [],\n",
       "  'electrons': [{'pt': 11.5711669921875,\n",
       "    'phi': 2.180452585220337,\n",
       "    'eta': -0.8493275046348572,\n",
       "    'mass': -0.00608546519652009,\n",
       "    'charge': -1,\n",
       "    'pfRelIso03': -999.0},\n",
       "   {'pt': 6.690738201141357,\n",
       "    'phi': 1.6866998672485352,\n",
       "    'eta': 2.065934658050537,\n",
       "    'mass': -0.005329584237188101,\n",
       "    'charge': 1,\n",
       "    'pfRelIso03': 0.5880627036094666}],\n",
       "  'MET': {'pt': 19.061464309692383, 'phi': -2.1664631366729736}}]"
      ]
     },
     "execution_count": 6,
     "metadata": {},
     "output_type": "execute_result"
    }
   ],
   "source": [
    "events[:3].tolist()"
   ]
  },
  {
   "cell_type": "markdown",
   "id": "fd5b376a-7891-46e5-a1f3-9851ea0a7f22",
   "metadata": {},
   "source": [
    "<br><br><br><br><br>"
   ]
  },
  {
   "cell_type": "markdown",
   "id": "efaebd12-e329-4413-8a56-ffe79866c161",
   "metadata": {},
   "source": [
    "### Vector calculations and plotting"
   ]
  },
  {
   "cell_type": "markdown",
   "id": "f0408f5f-9348-402d-b362-f69069088537",
   "metadata": {},
   "source": [
    "Since we have called `vector.register_awkward()` and named these records `\"Momentum4D\"`, they also have a momentum interpretation."
   ]
  },
  {
   "cell_type": "code",
   "execution_count": 7,
   "id": "7cf30245-91be-4d26-ba66-d642cb4d937e",
   "metadata": {},
   "outputs": [
    {
     "data": {
      "text/plain": [
       "<Array [[], [21.9, 42.6, ... [48.1, 38.7]] type='299973 * var * float32'>"
      ]
     },
     "execution_count": 7,
     "metadata": {},
     "output_type": "execute_result"
    }
   ],
   "source": [
    "events.electrons.pt   # this is one of the fields (returned as-is)"
   ]
  },
  {
   "cell_type": "code",
   "execution_count": 8,
   "id": "a2c4a95e-23e8-46c3-813d-2cf34d167a0e",
   "metadata": {},
   "outputs": [
    {
     "data": {
      "text/plain": [
       "<Array [[], [-16.7, -48.8, ... [26.8, 74]] type='299973 * var * float32'>"
      ]
     },
     "execution_count": 8,
     "metadata": {},
     "output_type": "execute_result"
    }
   ],
   "source": [
    "events.electrons.pz   # this is in a different coordinate system (computed)"
   ]
  },
  {
   "cell_type": "code",
   "execution_count": 9,
   "id": "c01f2388-2444-4b24-9063-e71e6f89f7db",
   "metadata": {},
   "outputs": [
    {
     "data": {
      "image/png": "[encoded data removed]",
      "text/plain": [
       "<Figure size 432x288 with 1 Axes>"
      ]
     },
     "metadata": {
      "needs_background": "light"
     },
     "output_type": "display_data"
    }
   ],
   "source": [
    "hist.Hist.new.Regular(100, 0, 0.2).Double().fill(ak.ravel(events.muons.mass)).plot();     # one of the fields"
   ]
  },
  {
   "cell_type": "code",
   "execution_count": 10,
   "id": "ba4afe22-8a02-4087-8f4e-34ec912245d7",
   "metadata": {},
   "outputs": [
    {
     "data": {
      "image/png": "[encoded data removed]",
      "text/plain": [
       "<Figure size 432x288 with 1 Axes>"
      ]
     },
     "metadata": {
      "needs_background": "light"
     },
     "output_type": "display_data"
    }
   ],
   "source": [
    "hist.Hist.new.Regular(100, 0, 300).Double().fill(ak.ravel(events.muons.energy)).plot();   # computed"
   ]
  },
  {
   "cell_type": "markdown",
   "id": "3415483c-e25f-46b2-be0d-565d654827c7",
   "metadata": {},
   "source": [
    "<br><br><br><br><br>\n",
    "\n",
    "Just for fun, I also added PV (primary vertexes) and MET (missing energy).\n",
    "\n",
    "The primary vertexes are geometric, not momentum, so you have to say `x` instead of `px`, `rho` instead of `pt`, etc."
   ]
  },
  {
   "cell_type": "code",
   "execution_count": 11,
   "id": "fcf8a8c0-08d1-4237-aae2-e5aabd52caab",
   "metadata": {},
   "outputs": [
    {
     "data": {
      "text/plain": [
       "(<Array [-20.1, -16.3, -10.7, ... -9.41, -1.04] type='299973 * float32'>,\n",
       " <Array [-8.77, 4.6, -15.8, ... -22.1, 12.9] type='299973 * float32'>)"
      ]
     },
     "execution_count": 11,
     "metadata": {},
     "output_type": "execute_result"
    }
   ],
   "source": [
    "events.MET.px, events.MET.py"
   ]
  },
  {
   "cell_type": "code",
   "execution_count": 12,
   "id": "bad78144-6236-406d-8274-0b7b05c0104c",
   "metadata": {},
   "outputs": [
    {
     "data": {
      "text/plain": [
       "<Array [0.463, 0.465, 0.464, ... 0.459, 0.463] type='299973 * float32'>"
      ]
     },
     "execution_count": 12,
     "metadata": {},
     "output_type": "execute_result"
    }
   ],
   "source": [
    "events.PV.rho"
   ]
  },
  {
   "cell_type": "code",
   "execution_count": 13,
   "id": "32f1722e-cce8-498f-9b17-132be4bb3f94",
   "metadata": {},
   "outputs": [
    {
     "data": {
      "text/plain": [
       "<Array [1.52, 2.92, 1.92, ... 2.11, 5.07, 6.53] type='299973 * float32'>"
      ]
     },
     "execution_count": 13,
     "metadata": {},
     "output_type": "execute_result"
    }
   ],
   "source": [
    "abs(events.PV)"
   ]
  },
  {
   "cell_type": "code",
   "execution_count": 14,
   "id": "27e83ef4-3a96-4d6a-b224-47edbb537cf0",
   "metadata": {},
   "outputs": [
    {
     "data": {
      "text/plain": [
       "(0.24398008320748868, 0.3928394961796562, 0.41964120520846876)"
      ]
     },
     "execution_count": 14,
     "metadata": {},
     "output_type": "execute_result"
    }
   ],
   "source": [
    "beamspot_x, beamspot_y, beamspot_z = ak.mean(events.PV.x), ak.mean(events.PV.y), ak.mean(events.PV.z)\n",
    "beamspot_x, beamspot_y, beamspot_z"
   ]
  },
  {
   "cell_type": "code",
   "execution_count": 15,
   "id": "6999aa3f-060f-4caf-b739-24a99cf7d01b",
   "metadata": {},
   "outputs": [
    {
     "data": {
      "text/plain": [
       "<VectorArray3D [{x: -0.000281, y: 0.00086, ... z: 6.1}] type='299973 * Vector3D[...'>"
      ]
     },
     "execution_count": 15,
     "metadata": {},
     "output_type": "execute_result"
    }
   ],
   "source": [
    "beamspot_PV = ak.zip({\n",
    "    \"x\": events.PV.x - beamspot_x,\n",
    "    \"y\": events.PV.y - beamspot_y,\n",
    "    \"z\": events.PV.z - beamspot_z,\n",
    "}, with_name=\"Vector3D\")\n",
    "beamspot_PV"
   ]
  },
  {
   "cell_type": "markdown",
   "id": "3a9d1e74-6dd6-4b97-97f3-cfb56e69813f",
   "metadata": {},
   "source": [
    "<br><br><br><br><br>\n",
    "\n",
    "You can add new columns to an existing array of records..."
   ]
  },
  {
   "cell_type": "code",
   "execution_count": 16,
   "id": "8a28c847-121c-405d-86c1-53bd59fbd390",
   "metadata": {},
   "outputs": [],
   "source": [
    "events[\"beamspot_PV\"] = beamspot_PV"
   ]
  },
  {
   "cell_type": "code",
   "execution_count": 17,
   "id": "4ff5adb3-d7b0-4d6b-a635-7ae83c7429ba",
   "metadata": {},
   "outputs": [
    {
     "data": {
      "text/plain": [
       "{'PV': {'x': 0.24369880557060242,\n",
       "  'y': 0.3936990201473236,\n",
       "  'z': 1.451307773590088},\n",
       " 'muons': [{'pt': 63.04386901855469,\n",
       "   'phi': 2.968005895614624,\n",
       "   'eta': -0.7186822295188904,\n",
       "   'mass': 0.10565836727619171,\n",
       "   'charge': 1,\n",
       "   'pfRelIso03': 0.0,\n",
       "   'pfRelIso04': 0.0},\n",
       "  {'pt': 38.12034606933594,\n",
       "   'phi': -1.0324749946594238,\n",
       "   'eta': -0.8794569969177246,\n",
       "   'mass': 0.10565836727619171,\n",
       "   'charge': -1,\n",
       "   'pfRelIso03': 0.0,\n",
       "   'pfRelIso04': 0.0},\n",
       "  {'pt': 4.04868745803833,\n",
       "   'phi': 1.0385035276412964,\n",
       "   'eta': -0.320764422416687,\n",
       "   'mass': 0.10565836727619171,\n",
       "   'charge': 1,\n",
       "   'pfRelIso03': 0.0,\n",
       "   'pfRelIso04': 0.17997965216636658}],\n",
       " 'electrons': [],\n",
       " 'MET': {'pt': 21.929929733276367, 'phi': -2.7301223278045654},\n",
       " 'beamspot_PV': {'x': -0.00028127431869506836,\n",
       "  'y': 0.0008595287799835205,\n",
       "  'z': 1.0316665172576904}}"
      ]
     },
     "execution_count": 17,
     "metadata": {},
     "output_type": "execute_result"
    }
   ],
   "source": [
    "events[0].tolist()"
   ]
  },
  {
   "cell_type": "markdown",
   "id": "fb644ff8-1b27-48a7-ae93-c6f4b91f03b3",
   "metadata": {},
   "source": [
    "...but you usually don't have to.\n",
    "\n",
    "It would have been just as easy to work with `events` and `beamspot_PV` as separate Python variables.\n",
    "\n",
    "Unless you want to make sure that a cut is applied to each (and don't want to slice both `events` and `beamspot_PV` separately)."
   ]
  },
  {
   "cell_type": "code",
   "execution_count": 18,
   "id": "311b5120-af91-4697-8281-070b19191904",
   "metadata": {},
   "outputs": [
    {
     "data": {
      "image/png": "[encoded data removed]",
      "text/plain": [
       "<Figure size 432x288 with 1 Axes>"
      ]
     },
     "metadata": {
      "needs_background": "light"
     },
     "output_type": "display_data"
    }
   ],
   "source": [
    "hist.Hist.new.Regular(100, 0, 0.03).Double().fill(beamspot_PV.rho).plot();"
   ]
  },
  {
   "cell_type": "code",
   "execution_count": 19,
   "id": "8a710bf1-eb99-4cb5-9a49-42c9e53a4bb4",
   "metadata": {},
   "outputs": [
    {
     "data": {
      "text/plain": [
       "<Array [True, True, True, ... True, True, True] type='299973 * bool'>"
      ]
     },
     "execution_count": 19,
     "metadata": {},
     "output_type": "execute_result"
    }
   ],
   "source": [
    "beamspot_PV.rho < 0.008"
   ]
  },
  {
   "cell_type": "code",
   "execution_count": 20,
   "id": "9401bc7f-732b-4ed7-9029-3d512d524eb3",
   "metadata": {},
   "outputs": [
    {
     "data": {
      "text/plain": [
       "<Array [{PV: {x: 0.244, y: 0.394, ... z: 6.1}}] type='295947 * {\"PV\": Vector3D[\"...'>"
      ]
     },
     "execution_count": 20,
     "metadata": {},
     "output_type": "execute_result"
    }
   ],
   "source": [
    "events[beamspot_PV.rho < 0.008]"
   ]
  },
  {
   "cell_type": "markdown",
   "id": "4ac89998-ad19-4ccb-824d-0030d725a22b",
   "metadata": {},
   "source": [
    "The above selected all fields in `events`. With `events` and `beamspot_PV` as separate arrays, they'd have to both be sliced."
   ]
  },
  {
   "cell_type": "markdown",
   "id": "716fad4b-8cb4-4665-885c-0b7a00d230b4",
   "metadata": {},
   "source": [
    "<br><br><br><br><br>"
   ]
  },
  {
   "cell_type": "markdown",
   "id": "c7c89296-6bca-4108-8693-22b683836fcf",
   "metadata": {},
   "source": [
    "### Combinatorics"
   ]
  },
  {
   "cell_type": "markdown",
   "id": "842289a9-1808-4b2a-b514-2c4bbf84034d",
   "metadata": {},
   "source": [
    "It's possible to use slices to pick the first and second muon of each event..."
   ]
  },
  {
   "cell_type": "code",
   "execution_count": 21,
   "id": "d7262c51-fbc6-4092-917c-cd51d1b0c370",
   "metadata": {
    "tags": [
     "raises-exception"
    ]
   },
   "outputs": [
    {
     "ename": "ValueError",
     "evalue": "in ListOffsetArray64 attempting to get 0, index out of range\n\n(https://github.com/scikit-hep/awkward-1.0/blob/1.9.0rc10/src/cpu-kernels/awkward_NumpyArray_getitem_next_at.cpp#L21)",
     "output_type": "error",
     "traceback": [
      "\u001b[0;31m---------------------------------------------------------------------------\u001b[0m",
      "\u001b[0;31mValueError\u001b[0m                                Traceback (most recent call last)",
      "Input \u001b[0;32mIn [21]\u001b[0m, in \u001b[0;36m<cell line: 1>\u001b[0;34m()\u001b[0m\n\u001b[0;32m----> 1\u001b[0m \u001b[43mevents\u001b[49m\u001b[38;5;241;43m.\u001b[39;49m\u001b[43mmuons\u001b[49m\u001b[43m[\u001b[49m\u001b[43m:\u001b[49m\u001b[43m,\u001b[49m\u001b[43m \u001b[49m\u001b[38;5;241;43m0\u001b[39;49m\u001b[43m]\u001b[49m\n",
      "File \u001b[0;32m~/irishep/vector/src/vector/backends/awkward.py:614\u001b[0m, in \u001b[0;36mVectorAwkward.__getitem__\u001b[0;34m(self, where)\u001b[0m\n\u001b[1;32m    610\u001b[0m \u001b[38;5;28;01mdef\u001b[39;00m \u001b[38;5;21m__getitem__\u001b[39m(\n\u001b[1;32m    611\u001b[0m     \u001b[38;5;28mself\u001b[39m, where: typing\u001b[38;5;241m.\u001b[39mAny\n\u001b[1;32m    612\u001b[0m ) \u001b[38;5;241m-\u001b[39m\u001b[38;5;241m>\u001b[39m typing\u001b[38;5;241m.\u001b[39mOptional[typing\u001b[38;5;241m.\u001b[39mUnion[\u001b[38;5;28mfloat\u001b[39m, ak\u001b[38;5;241m.\u001b[39mArray, ak\u001b[38;5;241m.\u001b[39mRecord]]:\n\u001b[1;32m    613\u001b[0m     \u001b[38;5;66;03m# \"__getitem__\" undefined in superclass\u001b[39;00m\n\u001b[0;32m--> 614\u001b[0m     \u001b[38;5;28;01mreturn\u001b[39;00m \u001b[38;5;28;43msuper\u001b[39;49m\u001b[43m(\u001b[49m\u001b[43m)\u001b[49m\u001b[38;5;241;43m.\u001b[39;49m\u001b[38;5;21;43m__getitem__\u001b[39;49m\u001b[43m(\u001b[49m\u001b[43mwhere\u001b[49m\u001b[43m)\u001b[49m\n",
      "File \u001b[0;32m~/mambaforge/lib/python3.9/site-packages/awkward/highlevel.py:991\u001b[0m, in \u001b[0;36mArray.__getitem__\u001b[0;34m(self, where)\u001b[0m\n\u001b[1;32m    579\u001b[0m \u001b[38;5;124;03m\"\"\"\u001b[39;00m\n\u001b[1;32m    580\u001b[0m \u001b[38;5;124;03mArgs:\u001b[39;00m\n\u001b[1;32m    581\u001b[0m \u001b[38;5;124;03m    where (many types supported; see below): Index of positions to\u001b[39;00m\n\u001b[0;32m   (...)\u001b[0m\n\u001b[1;32m    988\u001b[0m \u001b[38;5;124;03mhave the same dimension as the array being indexed.\u001b[39;00m\n\u001b[1;32m    989\u001b[0m \u001b[38;5;124;03m\"\"\"\u001b[39;00m\n\u001b[1;32m    990\u001b[0m \u001b[38;5;28;01mif\u001b[39;00m \u001b[38;5;129;01mnot\u001b[39;00m \u001b[38;5;28mhasattr\u001b[39m(\u001b[38;5;28mself\u001b[39m, \u001b[38;5;124m\"\u001b[39m\u001b[38;5;124m_tracers\u001b[39m\u001b[38;5;124m\"\u001b[39m):\n\u001b[0;32m--> 991\u001b[0m     tmp \u001b[38;5;241m=\u001b[39m ak\u001b[38;5;241m.\u001b[39m_util\u001b[38;5;241m.\u001b[39mwrap(\u001b[38;5;28;43mself\u001b[39;49m\u001b[38;5;241;43m.\u001b[39;49m\u001b[43mlayout\u001b[49m\u001b[43m[\u001b[49m\u001b[43mwhere\u001b[49m\u001b[43m]\u001b[49m, \u001b[38;5;28mself\u001b[39m\u001b[38;5;241m.\u001b[39m_behavior)\n\u001b[1;32m    992\u001b[0m \u001b[38;5;28;01melse\u001b[39;00m:\n\u001b[1;32m    993\u001b[0m     tmp \u001b[38;5;241m=\u001b[39m ak\u001b[38;5;241m.\u001b[39m_connect\u001b[38;5;241m.\u001b[39m_jax\u001b[38;5;241m.\u001b[39mjax_utils\u001b[38;5;241m.\u001b[39m_jaxtracers_getitem(\u001b[38;5;28mself\u001b[39m, where)\n",
      "\u001b[0;31mValueError\u001b[0m: in ListOffsetArray64 attempting to get 0, index out of range\n\n(https://github.com/scikit-hep/awkward-1.0/blob/1.9.0rc10/src/cpu-kernels/awkward_NumpyArray_getitem_next_at.cpp#L21)"
     ]
    }
   ],
   "source": [
    "events.muons[:, 0]"
   ]
  },
  {
   "cell_type": "markdown",
   "id": "ffc7b87d-c7fa-4d82-ae9b-e455b4070ea1",
   "metadata": {},
   "source": [
    "...but only after ensuring that the events _have_ 2 muons (using [ak.num](https://awkward-array.readthedocs.io/en/latest/_auto/ak.num.html))."
   ]
  },
  {
   "cell_type": "code",
   "execution_count": 22,
   "id": "51809056-0594-433e-917c-7675cb6e0120",
   "metadata": {},
   "outputs": [
    {
     "data": {
      "text/plain": [
       "<Array [3, 0, 0, 7, 0, 2, ... 0, 2, 2, 4, 0, 0] type='299973 * int64'>"
      ]
     },
     "execution_count": 22,
     "metadata": {},
     "output_type": "execute_result"
    }
   ],
   "source": [
    "ak.num(events.muons)"
   ]
  },
  {
   "cell_type": "code",
   "execution_count": 23,
   "id": "3670c927-cc33-4ea5-9322-278ca534d8e1",
   "metadata": {},
   "outputs": [
    {
     "data": {
      "text/plain": [
       "<Array [True, False, False, ... False, False] type='299973 * bool'>"
      ]
     },
     "execution_count": 23,
     "metadata": {},
     "output_type": "execute_result"
    }
   ],
   "source": [
    "ak.num(events.muons) >= 2"
   ]
  },
  {
   "cell_type": "code",
   "execution_count": 24,
   "id": "8898cb95-97c7-44d2-9a00-5b40daaaef6e",
   "metadata": {},
   "outputs": [
    {
     "data": {
      "text/plain": [
       "<Array [{PV: {x: 0.244, ... z: 1.64}}] type='145597 * {\"PV\": Vector3D[\"x\": float...'>"
      ]
     },
     "execution_count": 24,
     "metadata": {},
     "output_type": "execute_result"
    }
   ],
   "source": [
    "events[ak.num(events.muons) >= 2]"
   ]
  },
  {
   "cell_type": "code",
   "execution_count": 25,
   "id": "36dac661-2c16-4194-9534-03860b644408",
   "metadata": {},
   "outputs": [
    {
     "data": {
      "text/plain": [
       "<MomentumArray4D [{pt: 63, ... pfRelIso04: 3.45}] type='145597 * Momentum4D[\"pt\"...'>"
      ]
     },
     "execution_count": 25,
     "metadata": {},
     "output_type": "execute_result"
    }
   ],
   "source": [
    "events[ak.num(events.muons) >= 2].muons[:, 0]"
   ]
  },
  {
   "cell_type": "markdown",
   "id": "22d1cca0-fb41-413f-a997-e31b43b3d091",
   "metadata": {},
   "source": [
    "The following is equivalent, doing the selection for at least two muons and the selection for the first muon in a single slice."
   ]
  },
  {
   "cell_type": "code",
   "execution_count": 26,
   "id": "dc5d896d-d20e-4734-ab89-a088836d9f1a",
   "metadata": {},
   "outputs": [
    {
     "data": {
      "text/plain": [
       "<MomentumArray4D [{pt: 63, ... pfRelIso04: 3.45}] type='145597 * Momentum4D[\"pt\"...'>"
      ]
     },
     "execution_count": 26,
     "metadata": {},
     "output_type": "execute_result"
    }
   ],
   "source": [
    "events.muons[ak.num(events.muons) >= 2, 0]"
   ]
  },
  {
   "cell_type": "code",
   "execution_count": 27,
   "id": "aad7519f-3eaa-468d-8881-aa03f50b21d2",
   "metadata": {},
   "outputs": [],
   "source": [
    "first_muons, second_muons = (\n",
    "    events.muons[ak.num(events.muons) >= 2, 0],\n",
    "    events.muons[ak.num(events.muons) >= 2, 1],\n",
    ")"
   ]
  },
  {
   "cell_type": "code",
   "execution_count": 28,
   "id": "e5ae2379-324e-47e5-aa1d-c5534192aaf4",
   "metadata": {},
   "outputs": [
    {
     "data": {
      "text/plain": [
       "<MomentumArray4D [{rho: 47.8, phi: -2.67, ... tau: 2.4}] type='145597 * Momentum...'>"
      ]
     },
     "execution_count": 28,
     "metadata": {},
     "output_type": "execute_result"
    }
   ],
   "source": [
    "first_muons + second_muons"
   ]
  },
  {
   "cell_type": "code",
   "execution_count": 29,
   "id": "9a09db8f-9834-41b8-8ce4-544a35301d04",
   "metadata": {},
   "outputs": [
    {
     "data": {
      "text/plain": [
       "<Array [89.5, 29.8, 87.1, ... 27.9, 90.5, 2.4] type='145597 * float32'>"
      ]
     },
     "execution_count": 29,
     "metadata": {},
     "output_type": "execute_result"
    }
   ],
   "source": [
    "(first_muons + second_muons).mass"
   ]
  },
  {
   "cell_type": "code",
   "execution_count": 30,
   "id": "a32a3381-da8a-4399-a63a-cb4aa33da821",
   "metadata": {},
   "outputs": [
    {
     "data": {
      "image/png": "[encoded data removed]",
      "text/plain": [
       "<Figure size 432x288 with 1 Axes>"
      ]
     },
     "metadata": {
      "needs_background": "light"
     },
     "output_type": "display_data"
    }
   ],
   "source": [
    "hist.Hist.new.Regular(100, 0, 150).Double().fill((first_muons + second_muons).mass).plot();"
   ]
  },
  {
   "cell_type": "markdown",
   "id": "c367f252-4a88-4397-a8bc-c563e62f755c",
   "metadata": {},
   "source": [
    "<br><br><br><br><br>"
   ]
  },
  {
   "cell_type": "markdown",
   "id": "525af142-6680-4ff0-9d9d-91cf2213cf5b",
   "metadata": {},
   "source": [
    "Although we see a nice Z peak, there are a couple of problems with the above.\n",
    "\n",
    "   * You have to keep track of which arrays you've required to have two muons and which you haven't. If you try to do calculations with an array that has been cut and another array that hasn't been cut (or has been cut differently), they won't align and you'll get an error.\n",
    "   * The first and second muons in the list aren't necessarily daughters of the same Z.\n",
    "\n",
    "You'll want to compute combinations within the collections, separately for each event.\n",
    "\n",
    "<br><br>\n",
    "\n",
    "Awkward Array has two combinatorial primitives:\n",
    "\n",
    "<table style=\"margin-left: 0px\">\n",
    "    <tr style=\"background: white\"><td style=\"font-size: 1.75em; font-weight: bold; text-align: center\"><a href=\"https://awkward-array.readthedocs.io/en/latest/_auto/ak.cartesian.html\">ak.cartesian</a></td><td style=\"font-size: 1.75em; font-weight: bold; text-align: center\"><a href=\\\"https://awkward-array.readthedocs.io/en/latest/_auto/ak.combinations.html\\\">ak.combinations</a></td></tr>\n",
    "    <tr style=\"background: white\"><td><img src=\"img/cartoon-cartesian.svg\" width=\"300\"></td><td><img src=\"img/cartoon-combinations.svg\" width=\"300\"></td></tr>\n",
    "</table>"
   ]
  },
  {
   "cell_type": "code",
   "execution_count": 31,
   "id": "012decc2-6bd5-4e37-9b76-f2750e57afdf",
   "metadata": {},
   "outputs": [
    {
     "data": {
      "text/plain": [
       "[[(1, 'a'), (1, 'b'), (2, 'a'), (2, 'b'), (3, 'a'), (3, 'b')],\n",
       " [],\n",
       " [(4, 'd'), (4, 'e')]]"
      ]
     },
     "execution_count": 31,
     "metadata": {},
     "output_type": "execute_result"
    }
   ],
   "source": [
    "ak.cartesian(([[1, 2, 3], [], [4]], [[\"a\", \"b\"], [\"c\"], [\"d\", \"e\"]])).tolist()"
   ]
  },
  {
   "cell_type": "code",
   "execution_count": 32,
   "id": "45d89827-a1e1-4f6b-9db3-42b1c7bac57f",
   "metadata": {},
   "outputs": [
    {
     "data": {
      "text/plain": [
       "[[(1.1, 2.2), (1.1, 3.3), (1.1, 4.4), (2.2, 3.3), (2.2, 4.4), (3.3, 4.4)],\n",
       " [],\n",
       " [(5.5, 6.6)]]"
      ]
     },
     "execution_count": 32,
     "metadata": {},
     "output_type": "execute_result"
    }
   ],
   "source": [
    "ak.combinations([[1.1, 2.2, 3.3, 4.4], [], [5.5, 6.6]], 2).tolist()"
   ]
  },
  {
   "cell_type": "markdown",
   "id": "c32277e2-737e-4bce-a1be-a2307b5f4ad3",
   "metadata": {},
   "source": [
    "<br><br>\n",
    "\n",
    "Note the data type of what this creates: tuples (_not lists_) of the left and right of each pairing."
   ]
  },
  {
   "cell_type": "code",
   "execution_count": 33,
   "id": "c3e105ae-ae18-45a6-8028-1cd06a0ff0dd",
   "metadata": {},
   "outputs": [
    {
     "name": "stdout",
     "output_type": "stream",
     "text": [
      "3 * var * (int64, string)\n"
     ]
    }
   ],
   "source": [
    "print(ak.cartesian(([[1, 2, 3], [], [4]], [[\"a\", \"b\"], [\"c\"], [\"d\", \"e\"]])).type)"
   ]
  },
  {
   "cell_type": "code",
   "execution_count": 34,
   "id": "16e3dffd-d46e-45fe-b33e-e2416e68ce19",
   "metadata": {},
   "outputs": [
    {
     "name": "stdout",
     "output_type": "stream",
     "text": [
      "3 * var * (float64, float64)\n"
     ]
    }
   ],
   "source": [
    "print(ak.combinations([[1.1, 2.2, 3.3, 4.4], [], [5.5, 6.6]], 2).type)"
   ]
  },
  {
   "cell_type": "markdown",
   "id": "a4afba7d-0e13-435a-82b0-914250b6baa2",
   "metadata": {},
   "source": [
    "<br><br>\n",
    "\n",
    "There is a different number of combinations than there are of objects in the original lists.\n",
    "\n",
    "It's often useful to get all the lefts of each tuple into one array and all the rights of each tuple into another array (with [ak.unzip](https://awkward-array.readthedocs.io/en/latest/_auto/ak.unzip.html) or slicing with `\"0\"` and `\"1\"`)."
   ]
  },
  {
   "cell_type": "code",
   "execution_count": 35,
   "id": "c2d1244d-41d9-410e-baa6-8c490024aa5c",
   "metadata": {},
   "outputs": [],
   "source": [
    "lefts, rights = ak.unzip(ak.cartesian(([[1, 2, 3], [], [4]], [[\"a\", \"b\"], [\"c\"], [\"d\", \"e\"]])))"
   ]
  },
  {
   "cell_type": "code",
   "execution_count": 36,
   "id": "27f99920-0016-4816-8a3a-6dddcb05c3b0",
   "metadata": {},
   "outputs": [
    {
     "data": {
      "text/plain": [
       "<Array [[1, 1, 2, 2, 3, 3], [], [4, 4]] type='3 * var * int64'>"
      ]
     },
     "execution_count": 36,
     "metadata": {},
     "output_type": "execute_result"
    }
   ],
   "source": [
    "lefts"
   ]
  },
  {
   "cell_type": "code",
   "execution_count": 37,
   "id": "0f5ee400-3df8-4a70-a67f-c7e169060356",
   "metadata": {},
   "outputs": [
    {
     "data": {
      "text/plain": [
       "<Array [['a', 'b', 'a', 'b', ... ['d', 'e']] type='3 * var * string'>"
      ]
     },
     "execution_count": 37,
     "metadata": {},
     "output_type": "execute_result"
    }
   ],
   "source": [
    "rights"
   ]
  },
  {
   "cell_type": "code",
   "execution_count": 38,
   "id": "8ca64305-4797-41b7-a296-dee906dfcd86",
   "metadata": {},
   "outputs": [
    {
     "data": {
      "text/plain": [
       "(<Array [6, 0, 2] type='3 * int64'>, <Array [6, 0, 2] type='3 * int64'>)"
      ]
     },
     "execution_count": 38,
     "metadata": {},
     "output_type": "execute_result"
    }
   ],
   "source": [
    "ak.num(lefts), ak.num(rights)"
   ]
  },
  {
   "cell_type": "markdown",
   "id": "69f2dc5d-c4fa-4320-9c64-3f153aeaedd5",
   "metadata": {},
   "source": [
    "<br>"
   ]
  },
  {
   "cell_type": "code",
   "execution_count": 39,
   "id": "7936513f-fd55-4fc9-8697-ddeb060ace3d",
   "metadata": {},
   "outputs": [],
   "source": [
    "pairs = ak.combinations([[1.1, 2.2, 3.3, 4.4], [], [5.5, 6.6]], 2)"
   ]
  },
  {
   "cell_type": "code",
   "execution_count": 40,
   "id": "2e3d0a7f-9801-4eee-ab5b-b140f025ba66",
   "metadata": {},
   "outputs": [
    {
     "data": {
      "text/plain": [
       "<Array [[1.1, 1.1, 1.1, 2.2, ... [], [5.5]] type='3 * var * float64'>"
      ]
     },
     "execution_count": 40,
     "metadata": {},
     "output_type": "execute_result"
    }
   ],
   "source": [
    "pairs[\"0\"]   # NOT pairs[0], the string \"0\" is the NAME of the first tuple field"
   ]
  },
  {
   "cell_type": "code",
   "execution_count": 41,
   "id": "52eebe7b-6220-4a0b-89ce-eff2044f4e8c",
   "metadata": {},
   "outputs": [
    {
     "data": {
      "text/plain": [
       "<Array [[2.2, 3.3, 4.4, 3.3, ... [], [6.6]] type='3 * var * float64'>"
      ]
     },
     "execution_count": 41,
     "metadata": {},
     "output_type": "execute_result"
    }
   ],
   "source": [
    "pairs[\"1\"]"
   ]
  },
  {
   "cell_type": "code",
   "execution_count": 42,
   "id": "bdab6a3f-22fe-4b11-872b-de5019acb442",
   "metadata": {},
   "outputs": [
    {
     "data": {
      "text/plain": [
       "(<Array [6, 0, 1] type='3 * int64'>, <Array [6, 0, 1] type='3 * int64'>)"
      ]
     },
     "execution_count": 42,
     "metadata": {},
     "output_type": "execute_result"
    }
   ],
   "source": [
    "ak.num(pairs[\"0\"]), ak.num(pairs[\"1\"])"
   ]
  },
  {
   "cell_type": "markdown",
   "id": "f0764042-7efb-4de2-b68d-130f0ee47371",
   "metadata": {},
   "source": [
    "<br><br><br><br><br>"
   ]
  },
  {
   "cell_type": "markdown",
   "id": "540e1593-c2ee-443a-9c25-45ffa3f0b23c",
   "metadata": {},
   "source": [
    "And so..."
   ]
  },
  {
   "cell_type": "code",
   "execution_count": 43,
   "id": "8206ed7b-4b6f-49b6-a534-d2a76cd7b5d7",
   "metadata": {},
   "outputs": [
    {
     "data": {
      "image/png": "[encoded data removed]",
      "text/plain": [
       "<Figure size 432x288 with 1 Axes>"
      ]
     },
     "metadata": {
      "needs_background": "light"
     },
     "output_type": "display_data"
    }
   ],
   "source": [
    "mu1, mu2 = ak.unzip(ak.combinations(events.muons, 2))\n",
    "hist.Hist.new.Regular(100, 0, 150).Double().fill(ak.ravel((mu1 + mu2).mass)).plot();"
   ]
  },
  {
   "cell_type": "markdown",
   "id": "4f3125af-4dc3-4762-8ef2-d0f365bd89fc",
   "metadata": {},
   "source": [
    "In the above, we're looking at all combinations of 2 muons in H → ZZ → 4μ, 4e, or 2μ2e.\n",
    "\n",
    "Some of these combinations even have the wrong charges."
   ]
  },
  {
   "cell_type": "code",
   "execution_count": 44,
   "id": "14bf45f5-ee92-4bd0-a9f8-d99f2a2a0b77",
   "metadata": {},
   "outputs": [
    {
     "data": {
      "text/plain": [
       "<Array [[0, 2, 0], [], ... 0, 0, 2], [], []] type='299973 * var * int32'>"
      ]
     },
     "execution_count": 44,
     "metadata": {},
     "output_type": "execute_result"
    }
   ],
   "source": [
    "mu1.charge + mu2.charge"
   ]
  },
  {
   "cell_type": "code",
   "execution_count": 45,
   "id": "7e298aec-adbf-45e2-91d5-6a1745e53916",
   "metadata": {},
   "outputs": [
    {
     "data": {
      "image/png": "[encoded data removed]",
      "text/plain": [
       "<Figure size 432x288 with 1 Axes>"
      ]
     },
     "metadata": {
      "needs_background": "light"
     },
     "output_type": "display_data"
    }
   ],
   "source": [
    "hist.Hist.new.Regular(100, 0, 150).Double().fill(ak.ravel((mu1 + mu2)[mu1.charge + mu2.charge == 0].mass)).plot();"
   ]
  },
  {
   "cell_type": "markdown",
   "id": "5704a52f-e498-4949-aeba-5bd7b7f59444",
   "metadata": {},
   "source": [
    "In the above, we're only looking at μ⁺μ⁻, but some of those pairs have a μ⁺ from one Z and a μ⁻ from the other Z.\n",
    "\n",
    "That wouldn't happen in the 2μ2e final state."
   ]
  },
  {
   "cell_type": "code",
   "execution_count": 46,
   "id": "d3de8d42-4558-403f-a71d-86b96281d864",
   "metadata": {},
   "outputs": [
    {
     "data": {
      "text/plain": [
       "<Array [False, True, True, ... True, True] type='299973 * bool'>"
      ]
     },
     "execution_count": 46,
     "metadata": {},
     "output_type": "execute_result"
    }
   ],
   "source": [
    "event_selection = ak.num(events.electrons) >= 2\n",
    "event_selection"
   ]
  },
  {
   "cell_type": "code",
   "execution_count": 47,
   "id": "244b3c57-be32-43a8-805d-da1abf4306cf",
   "metadata": {},
   "outputs": [
    {
     "data": {
      "text/plain": [
       "<Array [[], [], [], [], ... True], [], [], []] type='137140 * var * bool'>"
      ]
     },
     "execution_count": 47,
     "metadata": {},
     "output_type": "execute_result"
    }
   ],
   "source": [
    "candidate_selection = mu1[event_selection].charge + mu2[event_selection].charge == 0\n",
    "candidate_selection"
   ]
  },
  {
   "cell_type": "code",
   "execution_count": 48,
   "id": "48ac09e5-38b4-492f-b164-c3f1a8ccc141",
   "metadata": {},
   "outputs": [
    {
     "data": {
      "image/png": "[encoded data removed]",
      "text/plain": [
       "<Figure size 432x288 with 1 Axes>"
      ]
     },
     "metadata": {
      "needs_background": "light"
     },
     "output_type": "display_data"
    }
   ],
   "source": [
    "mumu_candidates_in_2mu2e = (mu1[event_selection] + mu2[event_selection])[candidate_selection]\n",
    "\n",
    "hist.Hist.new.Regular(100, 0, 150).Double().fill(ak.ravel(mumu_candidates_in_2mu2e.mass)).plot();"
   ]
  },
  {
   "cell_type": "markdown",
   "id": "5a101997-8bda-4f3f-a993-f08e0f0a01b9",
   "metadata": {},
   "source": [
    "There are still some non-Z muon pairs in this sample, but maybe isolation or a minimum $p_T$ would clean that up."
   ]
  },
  {
   "cell_type": "markdown",
   "id": "4e078b4c-1c97-4a4e-9599-50c51ad26928",
   "metadata": {},
   "source": [
    "<br><br><br><br><br>"
   ]
  },
  {
   "cell_type": "markdown",
   "id": "b236d398-1cd6-4553-bcb2-5101515499b9",
   "metadata": {},
   "source": [
    "## Project: discover the Higgs!"
   ]
  },
  {
   "cell_type": "markdown",
   "id": "9ebf41d8-1f4c-43b7-9d5b-354fe6518a96",
   "metadata": {},
   "source": [
    "Gather into groups of 2 or 3 to work on the problems posed in the rest of this notebook.\n",
    "\n",
    "Jim and Ioana will be walking around the room, answering questions and providing hints."
   ]
  },
  {
   "cell_type": "markdown",
   "id": "e8fb8ebc-8127-4b9b-add2-2e38c68c2dee",
   "metadata": {},
   "source": [
    "<br><br><br><br><br>"
   ]
  },
  {
   "cell_type": "markdown",
   "id": "1f1508f5-ae16-41ab-9d2a-61e22768a697",
   "metadata": {},
   "source": [
    "### Higgs mass peak: 4 leptons of the same flavor"
   ]
  },
  {
   "cell_type": "markdown",
   "id": "dfb0246b-dfb9-4b65-976e-fc65493b3036",
   "metadata": {},
   "source": [
    "Instead of a Z mass peak, formed with 2 muons (or 2 electrons), draw a Higgs mass peak with 4 muons (or 4 electrons).\n",
    "\n",
    "No need for any cuts, yet. Focus only on the combinatorics.\n",
    "\n",
    "**Hint:** look at the [ak.combinations](https://awkward-array.readthedocs.io/en/latest/_auto/ak.combinations.html) documentation to find the argument you need to change.\n",
    "\n",
    "**Hint:** do it in small steps! That's what an interactive environment is for."
   ]
  },
  {
   "cell_type": "code",
   "execution_count": 49,
   "id": "6a4f2ed6-d549-4065-82ae-35026b8bf839",
   "metadata": {},
   "outputs": [],
   "source": [
    "# your work goes here; make new cells if you need to!"
   ]
  },
  {
   "cell_type": "code",
   "execution_count": null,
   "id": "dc1f176b-be70-4004-8e36-79f1e602b4a5",
   "metadata": {},
   "outputs": [],
   "source": []
  },
  {
   "cell_type": "code",
   "execution_count": null,
   "id": "19fe98a1-4fa7-4ed3-a622-9af6be6e8697",
   "metadata": {},
   "outputs": [],
   "source": []
  },
  {
   "cell_type": "code",
   "execution_count": null,
   "id": "5f03dd76-2550-4f0a-ab02-be23e485aebd",
   "metadata": {},
   "outputs": [],
   "source": []
  },
  {
   "cell_type": "code",
   "execution_count": null,
   "id": "dd0f3bda-7371-4ee6-be11-d3ac030fe1c6",
   "metadata": {},
   "outputs": [],
   "source": []
  },
  {
   "attachments": {
    "eb9d1a70-c990-49b5-9c3f-98afcaf4478c.png": {
     "image/png": "[encoded data removed]"
    }
   },
   "cell_type": "markdown",
   "id": "c2de34d2-a4ff-4969-829f-33b47a343a02",
   "metadata": {},
   "source": [
    "Should look like:\n",
    "\n",
    "![image.png](attachment:eb9d1a70-c990-49b5-9c3f-98afcaf4478c.png)"
   ]
  },
  {
   "cell_type": "markdown",
   "id": "88b7504c-f569-4a5a-bfbe-da8d7606a6c7",
   "metadata": {},
   "source": [
    "<br><br><br><br><br>"
   ]
  },
  {
   "cell_type": "markdown",
   "id": "b516bd97-af41-421f-bbc6-bc36e17cbacf",
   "metadata": {
    "tags": []
   },
   "source": [
    "### Charge-based collections"
   ]
  },
  {
   "cell_type": "markdown",
   "id": "a4091d2a-b274-452f-bf0d-67f058cbbfe6",
   "metadata": {},
   "source": [
    "Because of the way that particles are measured and reconstructed, different particle types (electron versus muon) are in different collections, but different charges are not.\n",
    "\n",
    "But physically, charge is a quantum number just like flavor (particle type), and it can be convenient to put different charges into different collections."
   ]
  },
  {
   "cell_type": "code",
   "execution_count": 50,
   "id": "2cc4393c-ba64-406c-a555-486195f44665",
   "metadata": {},
   "outputs": [],
   "source": [
    "muons_plus  = events.muons[events.muons.charge > 0]\n",
    "muons_minus = events.muons[events.muons.charge < 0]\n",
    "electrons_plus  = events.electrons[events.electrons.charge > 0]\n",
    "electrons_minus = events.electrons[events.electrons.charge < 0]"
   ]
  },
  {
   "cell_type": "markdown",
   "id": "4d3d070a-f658-48ae-ad48-9e278e3b2fd1",
   "metadata": {},
   "source": [
    "<br><br><br><br><br>\n",
    "\n",
    "Now we can make opposite-sign Z peaks without applying a cut to the combinations.\n",
    "\n",
    "Also, the [ak.combinations](https://awkward-array.readthedocs.io/en/latest/_auto/ak.combinations.html) problem (picking $n$ items from a single collection) has become an [ak.cartesian](https://awkward-array.readthedocs.io/en/latest/_auto/ak.cartesian.html) problem (finding all pairs of items drawn from different collections)."
   ]
  },
  {
   "cell_type": "code",
   "execution_count": 51,
   "id": "cf47f132-0296-471f-9db1-69cc12413654",
   "metadata": {},
   "outputs": [
    {
     "data": {
      "image/png": "[encoded data removed]",
      "text/plain": [
       "<Figure size 432x288 with 1 Axes>"
      ]
     },
     "metadata": {
      "needs_background": "light"
     },
     "output_type": "display_data"
    }
   ],
   "source": [
    "mu1, mu2 = ak.unzip(ak.cartesian((muons_plus, muons_minus)))\n",
    "hist.Hist.new.Regular(100, 0, 150).Double().fill(ak.ravel((mu1 + mu2).mass)).plot();"
   ]
  },
  {
   "cell_type": "markdown",
   "id": "17fa9a03-c235-4706-b324-ba878fcf3325",
   "metadata": {},
   "source": [
    "<br><br>\n",
    "\n",
    "(This section doesn't have any questions; it's to set things up for the next section.)"
   ]
  },
  {
   "cell_type": "markdown",
   "id": "bb8e9940-c94f-4880-a599-b0f605400b6b",
   "metadata": {},
   "source": [
    "<br><br><br><br><br>"
   ]
  },
  {
   "cell_type": "markdown",
   "id": "4d907502-82f2-439c-b8c6-be325b9c4725",
   "metadata": {},
   "source": [
    "### Higgs mass peak: the H → ZZ → 2μ2e final state"
   ]
  },
  {
   "cell_type": "markdown",
   "id": "bddbd99b-c6bf-4ef2-adef-5c3a1093eba9",
   "metadata": {},
   "source": [
    "Now that you have `muons_plus`, `muons_minus`, `electrons_plus`, and `electrons_minus`, how would you make a Higgs mass peak for decays into 2 muons and 2 electrons?\n",
    "\n",
    "**Hint:** [ak.cartesian](https://awkward-array.readthedocs.io/en/latest/_auto/ak.cartesian.html) can take more than two input collections.\n",
    "\n",
    "**Hint:** still no need for cuts, thanks to the input collections already having the charge-cut applied."
   ]
  },
  {
   "cell_type": "code",
   "execution_count": 52,
   "id": "e3647185-3cc0-40d0-bdd7-805eb0c79c81",
   "metadata": {},
   "outputs": [],
   "source": [
    "# your work goes here; make new cells if you need to!"
   ]
  },
  {
   "cell_type": "code",
   "execution_count": null,
   "id": "acfc20c5-6bdf-497b-ae17-4b49eacb4554",
   "metadata": {},
   "outputs": [],
   "source": []
  },
  {
   "cell_type": "code",
   "execution_count": null,
   "id": "5113ac27-2435-4620-9ead-46f14df67284",
   "metadata": {},
   "outputs": [],
   "source": []
  },
  {
   "cell_type": "code",
   "execution_count": null,
   "id": "c194f129-326d-43c7-aa55-4cfebe1418a8",
   "metadata": {},
   "outputs": [],
   "source": []
  },
  {
   "cell_type": "code",
   "execution_count": null,
   "id": "75b5d306-7384-4874-b4e5-4072d0b482be",
   "metadata": {},
   "outputs": [],
   "source": []
  },
  {
   "attachments": {
    "1b990144-5727-4197-a3e9-3723a853a454.png": {
     "image/png": "[encoded data removed]"
    }
   },
   "cell_type": "markdown",
   "id": "c46e7bda-c663-48a2-a3a6-6f9bd458ee7b",
   "metadata": {},
   "source": [
    "Should look like:\n",
    "\n",
    "![image.png](attachment:1b990144-5727-4197-a3e9-3723a853a454.png)"
   ]
  },
  {
   "cell_type": "markdown",
   "id": "faea1e66-2032-4b82-b92c-f190b9e0e540",
   "metadata": {},
   "source": [
    "<br><br><br><br><br>"
   ]
  },
  {
   "cell_type": "markdown",
   "id": "3b8e8b64-df3b-4541-90f3-fb2f03689e95",
   "metadata": {},
   "source": [
    "### Select on-shell Z in the 2μ2e final state"
   ]
  },
  {
   "cell_type": "markdown",
   "id": "cf4aa2f2-1ff4-49d3-b0e7-7744bd215597",
   "metadata": {},
   "source": [
    "In H → ZZ, one of the two Z bosons will usually be close to its \"on-shell\" mass of 91 GeV."
   ]
  },
  {
   "cell_type": "code",
   "execution_count": 53,
   "id": "e93f3b1a-fa78-4bd1-be8a-7a662f296188",
   "metadata": {},
   "outputs": [
    {
     "data": {
      "text/plain": [
       "91.1876"
      ]
     },
     "execution_count": 53,
     "metadata": {},
     "output_type": "execute_result"
    }
   ],
   "source": [
    "import particle\n",
    "import hepunits\n",
    "\n",
    "ZMASS = particle.Particle.findall(\"Z0\")[0].mass / hepunits.GeV\n",
    "ZMASS"
   ]
  },
  {
   "cell_type": "markdown",
   "id": "96f8a78c-cd42-4ff2-a9c8-0f30a95b7c7d",
   "metadata": {},
   "source": [
    "With a pair of muons,"
   ]
  },
  {
   "cell_type": "code",
   "execution_count": 54,
   "id": "20c4950b-e2f9-4c95-8c32-647ff4af226a",
   "metadata": {},
   "outputs": [],
   "source": [
    "mu1, mu2 = ak.unzip(ak.cartesian((muons_plus, muons_minus)))"
   ]
  },
  {
   "cell_type": "code",
   "execution_count": 55,
   "id": "b5a00ad5-88ab-4eaa-9dac-5a2b5b67cd2d",
   "metadata": {},
   "outputs": [
    {
     "data": {
      "image/png": "[encoded data removed]",
      "text/plain": [
       "<Figure size 432x288 with 1 Axes>"
      ]
     },
     "metadata": {
      "needs_background": "light"
     },
     "output_type": "display_data"
    }
   ],
   "source": [
    "hist.Hist.new.Regular(100, 0, 150).Double().fill(ak.ravel((mu1 + mu2).mass)).plot();"
   ]
  },
  {
   "cell_type": "markdown",
   "id": "7e08bddd-feec-4a3b-b091-daa6a14b0862",
   "metadata": {},
   "source": [
    "We can construct a dimuon mass and compute the absolute distance between that and the on-shell mass of 91 GeV."
   ]
  },
  {
   "cell_type": "code",
   "execution_count": 56,
   "id": "42c8bcd5-a16b-4c37-98c2-40d0a1290377",
   "metadata": {},
   "outputs": [
    {
     "data": {
      "text/plain": [
       "<Array [[1.7, 68.7], [], ... 88.2], [], []] type='299973 * var * float32'>"
      ]
     },
     "execution_count": 56,
     "metadata": {},
     "output_type": "execute_result"
    }
   ],
   "source": [
    "abs((mu1 + mu2).mass - ZMASS)"
   ]
  },
  {
   "cell_type": "code",
   "execution_count": 57,
   "id": "05df3466-9004-4807-b883-d160c9880cc9",
   "metadata": {},
   "outputs": [
    {
     "data": {
      "text/plain": [
       "<Array [1.7, 68.7, 61.3, ... 88.8, 88.4, 88.2] type='272832 * float32'>"
      ]
     },
     "execution_count": 57,
     "metadata": {},
     "output_type": "execute_result"
    }
   ],
   "source": [
    "ak.ravel(abs((mu1 + mu2).mass - ZMASS))"
   ]
  },
  {
   "cell_type": "markdown",
   "id": "52b1a83f-0efd-4bc9-b7af-ab7bf06ef7c6",
   "metadata": {},
   "source": [
    "When this is close enough—let's say 20 GeV—we can call a given dimuon pair to be \"on shell.\""
   ]
  },
  {
   "cell_type": "code",
   "execution_count": 58,
   "id": "e32e385b-0e83-4133-94fb-dc5e53517529",
   "metadata": {},
   "outputs": [],
   "source": [
    "onshell_mumu = abs((mu1 + mu2).mass - ZMASS) < 20"
   ]
  },
  {
   "cell_type": "markdown",
   "id": "ccb3abb3-d1d9-4c7a-96f8-9bf5dccb27b4",
   "metadata": {},
   "source": [
    "The effect of this is a sharp cut-off in the Z mass distribution."
   ]
  },
  {
   "cell_type": "code",
   "execution_count": 59,
   "id": "9f76ae3f-fabc-4548-b913-ef4375532d5e",
   "metadata": {},
   "outputs": [
    {
     "data": {
      "image/png": "[encoded data removed]",
      "text/plain": [
       "<Figure size 432x288 with 1 Axes>"
      ]
     },
     "metadata": {
      "needs_background": "light"
     },
     "output_type": "display_data"
    }
   ],
   "source": [
    "hist.Hist.new.Regular(100, 0, 150).Double().fill(ak.ravel((mu1 + mu2)[onshell_mumu].mass)).plot();"
   ]
  },
  {
   "cell_type": "markdown",
   "id": "39cb92c7-bfe9-48a6-a98d-ba28e012dbe9",
   "metadata": {},
   "source": [
    "In this section, make another 2μ2e mass peak in which _either_ the 2μ is on-shell _or_ the 2e is on-shell.\n",
    "\n",
    "(That's an \"inclusive or\": having both be close to 91 GeV is allowed.)\n",
    "\n",
    "**Hint:** You'll have to compute the Z mass constraint from muons and electrons in a 4-way Cartesian product, not just the 2 muons as in my example above.\n",
    "\n",
    "**Hint:** To make logical combinations of cuts, use `|` for \"or\" and `&` for \"and\". Also, put parentheses around any comparisons: e.g. `is_good & ((1 < x) | (x < 2))`."
   ]
  },
  {
   "cell_type": "code",
   "execution_count": null,
   "id": "ec1b2ad6-8409-490b-a681-779494245b0f",
   "metadata": {},
   "outputs": [],
   "source": []
  },
  {
   "cell_type": "code",
   "execution_count": null,
   "id": "9576d6de-4823-4593-a446-46a1aa93bd9a",
   "metadata": {},
   "outputs": [],
   "source": []
  },
  {
   "cell_type": "code",
   "execution_count": null,
   "id": "52742270-2126-49c8-94e4-9401923a5544",
   "metadata": {},
   "outputs": [],
   "source": []
  },
  {
   "cell_type": "code",
   "execution_count": null,
   "id": "17d89584-f206-4d0d-ac6e-dbab2fe5ce3d",
   "metadata": {},
   "outputs": [],
   "source": []
  },
  {
   "cell_type": "code",
   "execution_count": null,
   "id": "f19df688-433f-4800-8624-02a79b97b60e",
   "metadata": {},
   "outputs": [],
   "source": []
  },
  {
   "attachments": {
    "c1dbdd8a-bb09-479b-97c7-3037ec7c0930.png": {
     "image/png": "[encoded data removed]"
    }
   },
   "cell_type": "markdown",
   "id": "28b080bd-e4f0-4e13-8148-0037135e6fd6",
   "metadata": {},
   "source": [
    "Should look like:\n",
    "\n",
    "![image.png](attachment:c1dbdd8a-bb09-479b-97c7-3037ec7c0930.png)"
   ]
  },
  {
   "cell_type": "markdown",
   "id": "ec935062-ba17-40a9-bf2b-5df8ce3be1a4",
   "metadata": {},
   "source": [
    "<br><br><br><br><br>"
   ]
  },
  {
   "cell_type": "markdown",
   "id": "f1faf562-443f-4bc7-b818-6dcca73f0cc7",
   "metadata": {},
   "source": [
    "## Select on-shell Z in the 4μ final state"
   ]
  },
  {
   "cell_type": "markdown",
   "id": "a4fe776d-42e8-4b9c-83b4-81542ca498ae",
   "metadata": {},
   "source": [
    "Addressing Z boson properties in the 2μ2e case is easier than in the 4μ or 4e cases because with each (μ⁺, μ⁻, e⁺, e⁻) quad-tuple, there is only one way to identify each of the two Z bosons: Zᵤᵤ → μ⁺μ⁻ and Zₑₑ → e⁺e⁻.\n",
    "\n",
    "In a same-flavor final state, you have quad-tuples like (μ⁺₁, μ⁻₁, μ⁺₂, μ⁻₂).\n",
    "\n",
    "The possible decays are\n",
    "\n",
    "   * Z₁₁ → μ⁺₁, μ⁻₁ and Z₂₂ → μ⁺₂, μ⁻₂\n",
    "   * Z₁₂ → μ⁺₁, μ⁻₂ and Z₂₁ → μ⁺₂, μ⁻₁\n",
    "\n",
    "and within each of the two possibilities, only one of the Z bosons will be on-shell. (The Higgs doesn't have enough mass for both to be on-shell.)\n",
    "\n",
    "To apply Z cuts in this case, we need to apply a combinatoric primitive to the result of a combinatoric primitive: nested combinatorics.\n",
    "\n",
    "First, from the `muons_plus` collection, we draw two distinct muons and call them `muplus1` and `muplus2`.\n",
    "\n",
    "Then, from the `muons_minus` collection, we draw two distinct muons and call them `muminus1` and `muminus2`."
   ]
  },
  {
   "cell_type": "code",
   "execution_count": 60,
   "id": "9207b225-c36a-4779-a4c3-e0dc1687af09",
   "metadata": {},
   "outputs": [],
   "source": [
    "muplus1, muplus2 = ak.unzip(ak.combinations(muons_plus, 2))\n",
    "muminus1, muminus2 = ak.unzip(ak.combinations(muons_minus, 2))"
   ]
  },
  {
   "cell_type": "markdown",
   "id": "2a1cca0e-1aa3-4314-af38-20e398a66230",
   "metadata": {},
   "source": [
    "Next, we need to find pairwise Cartesian products of each opposite-charge combination:\n",
    "\n",
    "   * pairs of `muplus1 ⊗ muminus1`, which can be labeled \"11\"\n",
    "   * pairs of `muplus1 ⊗ muminus2`, which can be labeled \"12\"\n",
    "   * pairs of `muplus2 ⊗ muminus1`, which can be labeled \"21\"\n",
    "   * pairs of `muplus2 ⊗ muminus2`, which can be labeled \"22\"\n",
    "\n",
    "Note that every real combination will either be a \"11\" and \"22\" or it will be a \"12\" and \"21\"."
   ]
  },
  {
   "cell_type": "code",
   "execution_count": 61,
   "id": "519b2504-fc44-49ed-9a63-0a95b27c1307",
   "metadata": {},
   "outputs": [],
   "source": [
    "muplus11, muminus11 = ak.unzip(ak.cartesian((muplus1, muminus1)))\n",
    "muplus12, muminus12 = ak.unzip(ak.cartesian((muplus1, muminus2)))\n",
    "muplus21, muminus21 = ak.unzip(ak.cartesian((muplus2, muminus1)))\n",
    "muplus22, muminus22 = ak.unzip(ak.cartesian((muplus2, muminus2)))"
   ]
  },
  {
   "cell_type": "markdown",
   "id": "5a524653-282e-4f9b-903b-da46194599f4",
   "metadata": {},
   "source": [
    "By construction each of these four collections has the same number of items in each event."
   ]
  },
  {
   "cell_type": "code",
   "execution_count": 62,
   "id": "0770c35d-172f-4fdf-ae9a-954ef3ff6564",
   "metadata": {},
   "outputs": [
    {
     "data": {
      "text/plain": [
       "(<Array [0, 0, 0, 18, 0, 0, ... 0, 0, 0, 0, 0] type='299973 * int64'>,\n",
       " <Array [0, 0, 0, 18, 0, 0, ... 0, 0, 0, 0, 0] type='299973 * int64'>,\n",
       " <Array [0, 0, 0, 18, 0, 0, ... 0, 0, 0, 0, 0] type='299973 * int64'>,\n",
       " <Array [0, 0, 0, 18, 0, 0, ... 0, 0, 0, 0, 0] type='299973 * int64'>)"
      ]
     },
     "execution_count": 62,
     "metadata": {},
     "output_type": "execute_result"
    }
   ],
   "source": [
    "ak.num(muplus11), ak.num(muplus12), ak.num(muplus21), ak.num(muplus22)"
   ]
  },
  {
   "cell_type": "code",
   "execution_count": 63,
   "id": "5fda22ac-bab1-494d-9f6b-c181eabdd9ae",
   "metadata": {},
   "outputs": [
    {
     "data": {
      "text/plain": [
       "True"
      ]
     },
     "execution_count": 63,
     "metadata": {},
     "output_type": "execute_result"
    }
   ],
   "source": [
    "ak.all((ak.num(muplus11) == ak.num(muplus12)) & (ak.num(muplus21) == ak.num(muplus22)) & (ak.num(muplus11) == ak.num(muplus22)))"
   ]
  },
  {
   "cell_type": "markdown",
   "id": "4f762d7c-eb9a-4458-9f78-da7a435b977d",
   "metadata": {},
   "source": [
    "We can look at the four possible Z bosons individually.\n",
    "\n",
    "First the \"11\" and \"22\":"
   ]
  },
  {
   "cell_type": "code",
   "execution_count": 64,
   "id": "68c6e0bd-9490-4881-b23f-9231ab7b6487",
   "metadata": {},
   "outputs": [
    {
     "data": {
      "image/png": "[encoded data removed]",
      "text/plain": [
       "<Figure size 432x288 with 1 Axes>"
      ]
     },
     "metadata": {
      "needs_background": "light"
     },
     "output_type": "display_data"
    }
   ],
   "source": [
    "hist.Hist.new.Regular(100, 0, 150).Double().fill(ak.ravel((muplus11 + muminus11).mass)).plot();"
   ]
  },
  {
   "cell_type": "code",
   "execution_count": 65,
   "id": "e67ca40d-b011-4dc2-b568-bd2fa26c5c9d",
   "metadata": {},
   "outputs": [
    {
     "data": {
      "image/png": "[encoded data removed]",
      "text/plain": [
       "<Figure size 432x288 with 1 Axes>"
      ]
     },
     "metadata": {
      "needs_background": "light"
     },
     "output_type": "display_data"
    }
   ],
   "source": [
    "hist.Hist.new.Regular(100, 0, 150).Double().fill(ak.ravel((muplus22 + muminus22).mass)).plot();"
   ]
  },
  {
   "cell_type": "markdown",
   "id": "03f5cd5c-d291-42e4-8347-4daddb466d8f",
   "metadata": {},
   "source": [
    "Now the \"12\" and \"21\":"
   ]
  },
  {
   "cell_type": "code",
   "execution_count": 66,
   "id": "1e191756-2743-49c3-8338-f41c2c9317f0",
   "metadata": {},
   "outputs": [
    {
     "data": {
      "image/png": "[encoded data removed]",
      "text/plain": [
       "<Figure size 432x288 with 1 Axes>"
      ]
     },
     "metadata": {
      "needs_background": "light"
     },
     "output_type": "display_data"
    }
   ],
   "source": [
    "hist.Hist.new.Regular(100, 0, 150).Double().fill(ak.ravel((muplus12 + muminus12).mass)).plot();"
   ]
  },
  {
   "cell_type": "code",
   "execution_count": 67,
   "id": "b75ce982-98cb-4591-8e44-98ded896c08f",
   "metadata": {},
   "outputs": [
    {
     "data": {
      "image/png": "[encoded data removed]",
      "text/plain": [
       "<Figure size 432x288 with 1 Axes>"
      ]
     },
     "metadata": {
      "needs_background": "light"
     },
     "output_type": "display_data"
    }
   ],
   "source": [
    "hist.Hist.new.Regular(100, 0, 150).Double().fill(ak.ravel((muplus21 + muminus21).mass)).plot();"
   ]
  },
  {
   "cell_type": "markdown",
   "id": "6b4eceb9-6800-490e-9625-29f0991186ea",
   "metadata": {},
   "source": [
    "They all have large backgrounds because they're often not the right combination.\n",
    "\n",
    "Now we'll make distances as we did in the previous section."
   ]
  },
  {
   "cell_type": "code",
   "execution_count": 68,
   "id": "f57f6cd1-c14e-4870-aa3e-b319cf544f9e",
   "metadata": {},
   "outputs": [],
   "source": [
    "dist11 = abs((muplus11 + muminus11).mass - ZMASS)\n",
    "dist12 = abs((muplus12 + muminus12).mass - ZMASS)\n",
    "dist21 = abs((muplus21 + muminus21).mass - ZMASS)\n",
    "dist22 = abs((muplus22 + muminus22).mass - ZMASS)"
   ]
  },
  {
   "cell_type": "markdown",
   "id": "09d20609-1ae4-404f-982b-0c42e39ff94a",
   "metadata": {},
   "source": [
    "Because we have so many possibilities, let's define cuts like `onshell_11` to mean \"11 is the closest to being on-shell.\"\n",
    "\n",
    "That doesn't mean it's within 20 GeV of 91 GeV; it just means that it's closer than the others.\n",
    "\n",
    "(The organization of the cuts is as follows: for each \"11\", \"12\", \"21\", \"22\", the relevant `dist` is to the left of `<` in all comparisons, and the three other `dist` values it's being compared to are every other \"11\", \"12\", \"21\", \"22\" combination.)"
   ]
  },
  {
   "cell_type": "code",
   "execution_count": 69,
   "id": "187f1b3a-a179-4193-badf-4d6690faef50",
   "metadata": {},
   "outputs": [],
   "source": [
    "onshell_11 = (dist11 < dist12) & (dist11 < dist21) & (dist11 < dist22)\n",
    "onshell_12 = (dist12 < dist11) & (dist12 < dist21) & (dist12 < dist22)\n",
    "onshell_21 = (dist21 < dist11) & (dist21 < dist12) & (dist21 < dist22)\n",
    "onshell_22 = (dist22 < dist11) & (dist22 < dist12) & (dist22 < dist21)"
   ]
  },
  {
   "cell_type": "markdown",
   "id": "ad4e1a94-ed5d-4a2c-bf6e-fb8dfe35b287",
   "metadata": {},
   "source": [
    "Now let's look at a Z → 2μ mass plot of \"11\" in which \"11\" is the closest to being on-shell.\n",
    "\n",
    "Naturally, there's a more pronounced peak."
   ]
  },
  {
   "cell_type": "code",
   "execution_count": 70,
   "id": "4f7e3a39-8686-4224-9eea-530233644d8c",
   "metadata": {},
   "outputs": [
    {
     "data": {
      "image/png": "[encoded data removed]",
      "text/plain": [
       "<Figure size 432x288 with 1 Axes>"
      ]
     },
     "metadata": {
      "needs_background": "light"
     },
     "output_type": "display_data"
    }
   ],
   "source": [
    "h = hist.Hist.new.Regular(100, 0, 150).Double()\n",
    "\n",
    "h.fill(ak.ravel((muplus11 + muminus11)[onshell_11].mass))\n",
    "\n",
    "h.plot();"
   ]
  },
  {
   "cell_type": "markdown",
   "id": "29fcb624-41fe-472a-9453-326454074598",
   "metadata": {},
   "source": [
    "Now let's look at H → ZZ → 4μ for\n",
    "\n",
    "   * \"11\" and \"22\" if \"11\" is on-shell or \"22\" is on-shell\n",
    "   * \"12\" and \"21\" if \"12\" is on-shell or \"21\" is on-shell"
   ]
  },
  {
   "cell_type": "code",
   "execution_count": 71,
   "id": "393ecd62-7e6e-4710-af68-4e14274517b0",
   "metadata": {},
   "outputs": [
    {
     "data": {
      "image/png": "[encoded data removed]",
      "text/plain": [
       "<Figure size 432x288 with 1 Axes>"
      ]
     },
     "metadata": {
      "needs_background": "light"
     },
     "output_type": "display_data"
    }
   ],
   "source": [
    "h = hist.Hist.new.Regular(100, 0, 150).Double()\n",
    "\n",
    "h.fill(ak.ravel((muplus11 + muminus11 + muplus22 + muminus22)[onshell_11 | onshell_22].mass))\n",
    "h.fill(ak.ravel((muplus12 + muminus21 + muplus12 + muminus21)[onshell_12 | onshell_21].mass))\n",
    "\n",
    "h.plot();"
   ]
  },
  {
   "cell_type": "markdown",
   "id": "4a968eff-2520-45c4-b553-021b69433886",
   "metadata": {},
   "source": [
    "To go further and require \"11\" to be within 20 GeV of 91 GeV when it's already the closest to it would be a cut like the following:"
   ]
  },
  {
   "cell_type": "code",
   "execution_count": 72,
   "id": "24a9a70e-9082-4717-ad5c-e57dc1f6fa14",
   "metadata": {},
   "outputs": [
    {
     "data": {
      "text/plain": [
       "<Array [[], [], [], [False, ... [], [], [], []] type='299973 * var * bool'>"
      ]
     },
     "execution_count": 72,
     "metadata": {},
     "output_type": "execute_result"
    }
   ],
   "source": [
    "onshell_11 & (dist11 < 20)"
   ]
  },
  {
   "cell_type": "markdown",
   "id": "ac0e3f8d-ad8a-4673-aab6-03e5e02d47f2",
   "metadata": {},
   "source": [
    "Now re-make the above plot, but require whichever muon pair is closest to being on-shell to be within 20 GeV of it."
   ]
  },
  {
   "cell_type": "code",
   "execution_count": 73,
   "id": "da68cb71-e458-4dba-b9c1-1e8e726664fb",
   "metadata": {},
   "outputs": [],
   "source": [
    "# your work goes here; make new cells if you need to!"
   ]
  },
  {
   "cell_type": "code",
   "execution_count": null,
   "id": "ded38687-3b48-41ca-99ee-678d5d361f28",
   "metadata": {},
   "outputs": [],
   "source": []
  },
  {
   "cell_type": "code",
   "execution_count": null,
   "id": "18c8d7e0-ec93-4b26-a031-b2066ac56d91",
   "metadata": {},
   "outputs": [],
   "source": []
  },
  {
   "cell_type": "code",
   "execution_count": null,
   "id": "49cfac2b-eb6d-4938-b00c-43fe732087eb",
   "metadata": {},
   "outputs": [],
   "source": []
  },
  {
   "cell_type": "code",
   "execution_count": null,
   "id": "fd38a4cc-10e0-4390-9d52-dd3038f8dcef",
   "metadata": {},
   "outputs": [],
   "source": []
  },
  {
   "attachments": {
    "532c2bed-fb68-4d0f-872d-b35b43b1c51c.png": {
     "image/png": "[encoded data removed]"
    }
   },
   "cell_type": "markdown",
   "id": "ce1f95fc-b135-4b02-9165-a6d8d31b5cff",
   "metadata": {},
   "source": [
    "Should look like:\n",
    "\n",
    "![image.png](attachment:532c2bed-fb68-4d0f-872d-b35b43b1c51c.png)\n",
    "\n",
    "(And compare that to the 4 muon mass without any Z mass constraints!)"
   ]
  },
  {
   "cell_type": "markdown",
   "id": "5dda939b-b174-46bb-95eb-364f579a6670",
   "metadata": {},
   "source": [
    "<br><br><br><br><br>"
   ]
  },
  {
   "cell_type": "markdown",
   "id": "2ecc0cef-833f-4be0-ba38-d848b18a480e",
   "metadata": {},
   "source": [
    "### Commentary"
   ]
  },
  {
   "cell_type": "markdown",
   "id": "afd8710b-0a0a-414e-8fc5-fa2cd407c30a",
   "metadata": {},
   "source": [
    "Dealing with combinatorics is complex, but by reducing the single μ collection into a μ⁺ collection and a μ⁻ collection, it becomes easier (and more memory efficient) to consider all combinations without having to apply charge constraints after the fact.\n",
    "\n",
    "Objects like `muplus11`, representing the μ⁺ in all \"11\" combinations, can be dealt with like scalars, like the single \"11\" μ⁺ inside a nested loop over combinations in imperative programming. (No array-length changing operations were performed after the two [ak.combinations](https://awkward-array.readthedocs.io/en/latest/_auto/ak.combinations.html), [ak.cartesian](https://awkward-array.readthedocs.io/en/latest/_auto/ak.cartesian.html) steps in the last section.)\n",
    "\n",
    "But because the `muplus11` object represents the μ⁺ in _all_ \"11\" combinations, we can plot distributions of what we're computing at every step, rather than just once at the end of a script, which is great for debugging.\n",
    "\n",
    "That's the value of array-oriented programming—the ability to look at _distributions_ of each step while you develop the script—if you take advantage of that opportunity."
   ]
  },
  {
   "cell_type": "markdown",
   "id": "12797811-c3e7-4bbc-b636-5f34128fad3c",
   "metadata": {},
   "source": [
    "<br><br><br><br><br>"
   ]
  },
  {
   "cell_type": "markdown",
   "id": "54bb36a7-7e47-4684-80b8-ccddcd14754f",
   "metadata": {
    "tags": []
   },
   "source": [
    "# The end!"
   ]
  }
 ],
 "metadata": {
  "kernelspec": {
   "display_name": "Python 3 (ipykernel)",
   "language": "python",
   "name": "python3"
  },
  "language_info": {
   "codemirror_mode": {
    "name": "ipython",
    "version": 3
   },
   "file_extension": ".py",
   "mimetype": "text/x-python",
   "name": "python",
   "nbconvert_exporter": "python",
   "pygments_lexer": "ipython3",
   "version": "3.9.7"
  }
 },
 "nbformat": 4,
 "nbformat_minor": 5
}
