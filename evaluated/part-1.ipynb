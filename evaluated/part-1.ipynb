{
 "cells": [
  {
   "attachments": {},
   "cell_type": "markdown",
   "id": "75d48a37-ce97-44e6-a4ae-445a6c08d055",
   "metadata": {},
   "source": [
    "# CoDaS-HEP Columnar Data Analysis, part 1"
   ]
  },
  {
   "attachments": {},
   "cell_type": "markdown",
   "id": "2c5f7647-184a-418c-a8a3-a3b4d8454a97",
   "metadata": {},
   "source": [
    "This is the first of three notebooks on [columnar data analysis](https://indico.cern.ch/event/1151367/timetable/#41-columnar-data-analysis), presented at CoDaS-HEP at 13:30pm on July 20, 2023 by Jim Pivarski and Ioana Ifrim.\n",
    "\n",
    "See the [GitHub repo](https://github.com/jpivarski-talks/2022-08-03-codas-hep-columnar-tutorial#readme) for instructions on how to run it."
   ]
  },
  {
   "attachments": {},
   "cell_type": "markdown",
   "id": "16e3a8d8-d499-4e1c-940e-9060116dfcfa",
   "metadata": {},
   "source": [
    "<br><br><br><br><br>"
   ]
  },
  {
   "attachments": {},
   "cell_type": "markdown",
   "id": "7ed8fcbc-d4af-4ebf-b107-3a9aa2364248",
   "metadata": {},
   "source": [
    "## Programming paradigms"
   ]
  },
  {
   "attachments": {},
   "cell_type": "markdown",
   "id": "5f1e3653-32ab-40fb-b230-a1917a9ac8ee",
   "metadata": {},
   "source": [
    "Programming languages are for humans, not computers.\n",
    "\n",
    "<br><br>\n",
    "\n",
    "They bridge the gap between patterns of flowing electrons and the way humans conceptualize logical necessity (i.e. math).\n",
    "\n",
    "<br><br>\n",
    "\n",
    "Humans don't all think the same way about math, and one person doesn't always think about it the same way in different problems. That's why we need different **programming languages**.\n",
    "\n",
    "<br><br>\n",
    "\n",
    "But there are only a few ways that programming languages can be fundamentally different from each other, and even these have overlaps. They're called **programming paradigms**.\n",
    "\n",
    "<br><br>\n",
    "\n",
    "You might have heard of a few, or at least recognize them when you see them."
   ]
  },
  {
   "attachments": {},
   "cell_type": "markdown",
   "id": "8d2b5192-0326-46ec-b274-fcafa66c9e90",
   "metadata": {},
   "source": [
    "<br><br><br><br><br>"
   ]
  },
  {
   "attachments": {},
   "cell_type": "markdown",
   "id": "08c14f91-be8f-449c-9825-3596b04b25ee",
   "metadata": {},
   "source": [
    "### Sample problem"
   ]
  },
  {
   "attachments": {},
   "cell_type": "markdown",
   "id": "cec36e52-a68c-40bb-8f50-79884b794fd4",
   "metadata": {},
   "source": [
    "Let's illustrate a few programming paradigms in the context of a single problem.\n",
    "\n",
    "Suppose that we have a 1D array `A` and a 2D array `B`, and we want to\n",
    "\n",
    "   * multiply `A[i]` and `B[i, j]` for each horizontal index `i`,\n",
    "   * sum over those products along vertical index `j`,\n",
    "   * resulting in a 1D array, indexed only by `i`."
   ]
  },
  {
   "attachments": {},
   "cell_type": "markdown",
   "id": "70a40ce9-09dd-4c12-8304-8ea54bb3a938",
   "metadata": {},
   "source": [
    "<img src=\"img/paradigms-problem.svg\" width=\"500\">"
   ]
  },
  {
   "cell_type": "code",
   "execution_count": 1,
   "id": "c4077269-8dc7-49e1-b067-d015b54e1028",
   "metadata": {},
   "outputs": [],
   "source": [
    "import numpy as np"
   ]
  },
  {
   "cell_type": "code",
   "execution_count": 2,
   "id": "2a3f8b30-683b-4ecb-b6e8-22a179868c91",
   "metadata": {},
   "outputs": [],
   "source": [
    "A = np.array([10, 20, 30])\n",
    "\n",
    "B = np.array([[ 1,  2,  3,  4],\n",
    "              [ 5,  6,  7,  8],\n",
    "              [ 9, 10, 11, 12]])"
   ]
  },
  {
   "attachments": {},
   "cell_type": "markdown",
   "id": "3a653abf-3692-4da3-92eb-e51616b4546e",
   "metadata": {},
   "source": [
    "We want to get an output that is"
   ]
  },
  {
   "cell_type": "code",
   "execution_count": 3,
   "id": "a0a57417-7262-4ca3-bbce-6a62fcceaa71",
   "metadata": {},
   "outputs": [
    {
     "data": {
      "text/plain": [
       "array([ 100,  520, 1260])"
      ]
     },
     "execution_count": 3,
     "metadata": {},
     "output_type": "execute_result"
    }
   ],
   "source": [
    "np.array([\n",
    "    A[0]*B[0, 0] + A[0]*B[0, 1] + A[0]*B[0, 2] + A[0]*B[0, 3],\n",
    "    A[1]*B[1, 0] + A[1]*B[1, 1] + A[1]*B[1, 2] + A[1]*B[1, 3],\n",
    "    A[2]*B[2, 0] + A[2]*B[2, 1] + A[2]*B[2, 2] + A[2]*B[2, 3],\n",
    "])"
   ]
  },
  {
   "attachments": {},
   "cell_type": "markdown",
   "id": "7c57054c-a275-4402-befe-e537d3753c71",
   "metadata": {},
   "source": [
    "<br><br><br><br><br>"
   ]
  },
  {
   "attachments": {},
   "cell_type": "markdown",
   "id": "672fa987-a4c8-4c75-9bc2-d271d8ff4983",
   "metadata": {},
   "source": [
    "### Imperative"
   ]
  },
  {
   "attachments": {},
   "cell_type": "markdown",
   "id": "9a772aa7-5f92-414d-ba23-0f1734f93442",
   "metadata": {},
   "source": [
    "The imperative paradigm is probably the most familiar: you tell the computer exactly what to do for each element, step by step."
   ]
  },
  {
   "cell_type": "code",
   "execution_count": 4,
   "id": "056225d9-2541-41f8-893d-ca124fb21ba8",
   "metadata": {},
   "outputs": [
    {
     "data": {
      "text/plain": [
       "array([ 100,  520, 1260])"
      ]
     },
     "execution_count": 4,
     "metadata": {},
     "output_type": "execute_result"
    }
   ],
   "source": [
    "output = np.zeros(len(A), dtype=int)\n",
    "\n",
    "for i in range(len(A)):\n",
    "    ai = A[i]\n",
    "    bi = B[i]\n",
    "    for bij in bi:\n",
    "        output[i] += ai * bij\n",
    "\n",
    "output"
   ]
  },
  {
   "attachments": {},
   "cell_type": "markdown",
   "id": "2422c64a-a85d-478c-b256-daace53649e2",
   "metadata": {},
   "source": [
    "If this had been written in another language, like C++, it would have the same structure, but different syntax.\n",
    "\n",
    "```c++\n",
    "auto output = std::vector<int>(A.size(), 0);\n",
    "\n",
    "for (int i = 0; i < A.size(); i++) {\n",
    "    auto ai = A[i];\n",
    "    auto bi = B[i];\n",
    "    for (int bij : bi) {\n",
    "        output[i] += ai * bij;\n",
    "    }\n",
    "}\n",
    "```\n",
    "\n",
    "Imperative programs involve explicit instructions, loop blocks, and if/then/else blocks (indented in Python and in curly brackets in C).\n",
    "\n",
    "For most of us today, this is just \"normal programming,\" but it wasn't a part of the first programming languages. It was introduced by ALGOL (1958) and only became mainstream after it was [proven capable of universal computation](https://en.wikipedia.org/wiki/Structured_program_theorem) (1966), such that programming languages [wouldn't need a GOTO statement anymore](https://doi.org/10.1145%2F362929.362947) (1968). Most physicists have been using this style [since Fortran 77](https://en.wikipedia.org/wiki/Fortran#FORTRAN_77) (1977), and some [a little earlier](https://onlinelibrary.wiley.com/doi/10.1002/spe.4380050408) (1975).\n",
    "\n",
    "The downsides of imperative programming are:\n",
    "\n",
    "   * it can be _too_ prescriptive, preventing compilers from finding faster algorithms than the one you wrote,\n",
    "   * some languages, like Python, have considerable overhead for each statement.\n",
    "\n",
    "Imperative programming in Python is slow."
   ]
  },
  {
   "attachments": {},
   "cell_type": "markdown",
   "id": "1f174d5c-b31f-4033-8aa6-89ad820c9c74",
   "metadata": {},
   "source": [
    "<br><br><br><br><br>"
   ]
  },
  {
   "attachments": {},
   "cell_type": "markdown",
   "id": "dfbe9041-c9f9-48f4-b72c-e2bcc0776060",
   "metadata": {},
   "source": [
    "### Functional"
   ]
  },
  {
   "attachments": {},
   "cell_type": "markdown",
   "id": "d74c0108-de4d-434a-bde3-439b06dccb0f",
   "metadata": {},
   "source": [
    "The functional paradigm replaces blocks of code—that which is indented in Python and between curly brackets in C—with functions.\n",
    "\n",
    "Instead of `if` and loop syntax like `for` and `while`, functional languages have \"functors\" that take functions as arguments, and the functors do the work.\n",
    "\n",
    "Most functional programming languages use the same names for these common functors: `map`, `reduce`, `filter`, `scan`, `fold`, `flatten`, `flatmap`, ... ([in Python](https://web.mit.edu/6.005/www/fa15/classes/25-map-filter-reduce/), [in LISP](https://www.cs.cmu.edu/Groups/AI/html/cltl/clm/node143.html), [in Java](https://belief-driven-design.com/functional-programm-with-java-map-filter-reduce-77e479bd73e/), [in Swift](https://abhimuralidharan.medium.com/higher-order-functions-in-swift-filter-map-reduce-flatmap-1837646a63e8)...)\n",
    "\n",
    "If you're familiar with [ROOT's RDataFrame](https://root.cern/doc/master/classROOT_1_1RDataFrame.html), this is a great example of functional programming in physics.\n",
    "\n",
    "Here is a functional solution to the sample problem:"
   ]
  },
  {
   "cell_type": "code",
   "execution_count": 5,
   "id": "6f549f7b-9676-4e5c-9dde-eb8de6b5a6a5",
   "metadata": {},
   "outputs": [
    {
     "data": {
      "text/plain": [
       "array([ 100,  520, 1260])"
      ]
     },
     "execution_count": 5,
     "metadata": {},
     "output_type": "execute_result"
    }
   ],
   "source": [
    "def fun(args):\n",
    "    i, (ai, bi) = args\n",
    "    return sum(map(lambda bij: ai * bij, bi))\n",
    "\n",
    "np.fromiter(map(fun, enumerate(zip(A, B))), dtype=int)"
   ]
  },
  {
   "attachments": {},
   "cell_type": "markdown",
   "id": "1b8fe721-1ee5-46f1-b6c1-f2440f9845c0",
   "metadata": {},
   "source": [
    "In the above,\n",
    "\n",
    "   * `lambda` makes an inline user-defined function and `def` makes one capable of multiple statements,\n",
    "   * `zip` makes a sequence by pairing elements of `A` with elements of `B`,\n",
    "   * `enumerate` pairs indexes with the sequence,\n",
    "   * `map` applies a function to every element of a sequence: `x[i] → f(x[i])`,\n",
    "   * `sum` is a reducer that applies the function \"`+`\" to every pair of neighbors in the sequence, turning the sequence into a scalar.\n",
    "\n",
    "In Python, list comprehensions are more common than explicit functions and `map` because the syntax is more streamlined. The above could be written as"
   ]
  },
  {
   "cell_type": "code",
   "execution_count": 6,
   "id": "bcca36a7-b6bd-4bf5-9b20-38bb519b2db2",
   "metadata": {},
   "outputs": [
    {
     "data": {
      "text/plain": [
       "array([ 100,  520, 1260])"
      ]
     },
     "execution_count": 6,
     "metadata": {},
     "output_type": "execute_result"
    }
   ],
   "source": [
    "np.array([sum(ai * bij for bij in bi) for i, (ai, bi) in enumerate(zip(A, B))])"
   ]
  },
  {
   "attachments": {},
   "cell_type": "markdown",
   "id": "5a24e509-a001-4109-bfeb-a3d92be5cd38",
   "metadata": {},
   "source": [
    "The advantage of functional programming is that these functional primitives—`map`, `reduce`, `filter`, etc.—can be parallelized, as long as the user-supplied function can be called on different arguments in any order. This can be guaranteed with [pure functions](https://en.wikipedia.org/wiki/Pure_function), which do not modify any variables outside of themselves.\n",
    "\n",
    "[Google MapReduce](https://research.google/pubs/pub62/)/Hadoop started the \"Big Data\" sensation by implementing `map+filter` and `reduce` on distributed datasets (2004). Today, it's how distributed computing in Apache Spark works, as well as RDataFrame in ROOT.\n",
    "\n",
    "The disadvantage _in Python_ is that the functional primitives are implemented imperatively, so it's still slow."
   ]
  },
  {
   "attachments": {},
   "cell_type": "markdown",
   "id": "8937f209-8da5-45ee-9fe0-86b363f4acd4",
   "metadata": {},
   "source": [
    "<br><br><br><br><br>"
   ]
  },
  {
   "attachments": {},
   "cell_type": "markdown",
   "id": "de2813cd-c9f0-47b3-b2aa-39ccf1b5ef8c",
   "metadata": {},
   "source": [
    "### Object-oriented"
   ]
  },
  {
   "attachments": {},
   "cell_type": "markdown",
   "id": "bb930b2a-1f7e-45c0-8c49-e6275f8829ba",
   "metadata": {},
   "source": [
    "Object-oriented programming is another big one; you've probably heard of it.\n",
    "\n",
    "It has more to do with organizing the large-scale structure of a program into units, so while it can be applied to a small problem like this one, it doesn't help much."
   ]
  },
  {
   "cell_type": "code",
   "execution_count": 7,
   "id": "c82391ec-70c1-41a8-9ecc-91ae75932172",
   "metadata": {},
   "outputs": [
    {
     "data": {
      "text/plain": [
       "array([ 100,  520, 1260])"
      ]
     },
     "execution_count": 7,
     "metadata": {},
     "output_type": "execute_result"
    }
   ],
   "source": [
    "class ABProductSum:\n",
    "    def __init__(self):\n",
    "        self._value = 0\n",
    "\n",
    "    def accumulate(self, ai, bij):\n",
    "        self._value += int(ai * bij)\n",
    "\n",
    "    def __int__(self):\n",
    "        return self._value\n",
    "\n",
    "output = [ABProductSum(), ABProductSum(), ABProductSum()]\n",
    "\n",
    "for i, (ai, bi) in enumerate(zip(A, B)):\n",
    "    for bij in bi:\n",
    "        output[i].accumulate(ai, bij)\n",
    "\n",
    "np.array(output, dtype=int)"
   ]
  },
  {
   "attachments": {},
   "cell_type": "markdown",
   "id": "9c1e96b5-9807-4f3b-b6f6-755f71022423",
   "metadata": {},
   "source": [
    "Above, each `ABProductSum` is only responsible for its own sum. It changes values in place, but in a localized way.\n",
    "\n",
    "Object-oriented programming is often contrasted with functional programming because objects are often designed around modifying their own state and pure functions avoid any mutable state.\n",
    "\n",
    "However, they're not incompatible: objects don't _need_ to have mutable state, and in some languages, class definitions are the only way to pass functions as arguments.\n",
    "\n",
    "After all, a function is just an object with one important method (\"call me\")."
   ]
  },
  {
   "cell_type": "code",
   "execution_count": 8,
   "id": "b45df25d-d974-4a3c-9d43-53b401d81e44",
   "metadata": {},
   "outputs": [
    {
     "data": {
      "text/plain": [
       "array([ 100,  520, 1260])"
      ]
     },
     "execution_count": 8,
     "metadata": {},
     "output_type": "execute_result"
    }
   ],
   "source": [
    "class Map:\n",
    "    def call_me(self, function, sequence):\n",
    "        out = []\n",
    "        for x in sequence:\n",
    "            out.append(function.call_me(x))   # expects the function object to have an 'apply' method\n",
    "        return out\n",
    "\n",
    "class Sum:\n",
    "    def call_me(self, sequence):\n",
    "        out = 0\n",
    "        for x in sequence:\n",
    "            out += x\n",
    "        return out\n",
    "\n",
    "class UserFun1:\n",
    "    def __init__(self, ai):   # UserFun1 knows about 'ai'; in functional programming, this is called a closure\n",
    "        self._ai = ai\n",
    "\n",
    "    def call_me(self, bij):     # the actual function only depends on 'bij'\n",
    "        return self._ai * bij\n",
    "\n",
    "class UserFun2:\n",
    "    def call_me(self, args):\n",
    "        i, (ai, bi) = args\n",
    "        return Sum().call_me(Map().call_me(UserFun1(ai), bi))\n",
    "\n",
    "np.fromiter(Map().call_me(UserFun2(), enumerate(zip(A, B))), dtype=int)"
   ]
  },
  {
   "attachments": {},
   "cell_type": "markdown",
   "id": "6a3f3798-35f5-48ee-817c-15b36ce11c64",
   "metadata": {},
   "source": [
    "The advantage of object-oriented programming is that it is verbose: naming things and limiting scope within names helps large-scale programming.\n",
    "\n",
    "The disadvantage of object-oriented programming is that it is verbose: this scaffolding is not always needed and can get in the way of solving small problems.\n",
    "\n",
    "Also, it's implemented imperatively in Python, so no speed-up there."
   ]
  },
  {
   "attachments": {},
   "cell_type": "markdown",
   "id": "28cbf78b-729d-44f8-87f2-46ec7d797b6e",
   "metadata": {},
   "source": [
    "<br><br><br><br><br>"
   ]
  },
  {
   "attachments": {},
   "cell_type": "markdown",
   "id": "519d8cc2-477f-4206-bb9d-176bc40f1525",
   "metadata": {},
   "source": [
    "### Array-oriented"
   ]
  },
  {
   "attachments": {},
   "cell_type": "markdown",
   "id": "bc8cf4a6-17ce-4c28-8556-1f8f90dc224a",
   "metadata": {},
   "source": [
    "Array-oriented (or \"columnar\") programming consists of operations on arrays. Most statements do something to a whole array.\n",
    "\n",
    "Here's an array-oriented solution to the sample problem in one line:"
   ]
  },
  {
   "cell_type": "code",
   "execution_count": 9,
   "id": "b4d17476-a2bb-4a4d-a638-d7dedb8a5b05",
   "metadata": {},
   "outputs": [
    {
     "data": {
      "text/plain": [
       "array([ 100,  520, 1260])"
      ]
     },
     "execution_count": 9,
     "metadata": {},
     "output_type": "execute_result"
    }
   ],
   "source": [
    "np.sum(A[:, np.newaxis] * B, axis=1)"
   ]
  },
  {
   "attachments": {},
   "cell_type": "markdown",
   "id": "477954ea-9d2b-40c3-a9ec-13aebf2591e2",
   "metadata": {},
   "source": [
    "Did you catch that? Array-oriented programming is usually concise, which is only good when you know what's going on.\n",
    "\n",
    "Breaking down the above,"
   ]
  },
  {
   "cell_type": "code",
   "execution_count": 10,
   "id": "ee28ce79-bd92-4626-88f5-ad2be0667e0d",
   "metadata": {},
   "outputs": [
    {
     "data": {
      "text/plain": [
       "array([10, 20, 30])"
      ]
     },
     "execution_count": 10,
     "metadata": {},
     "output_type": "execute_result"
    }
   ],
   "source": [
    "A"
   ]
  },
  {
   "cell_type": "code",
   "execution_count": 11,
   "id": "7b9dda4a-126a-422c-8845-2b6a72982dd5",
   "metadata": {},
   "outputs": [
    {
     "data": {
      "text/plain": [
       "array([[ 1,  2,  3,  4],\n",
       "       [ 5,  6,  7,  8],\n",
       "       [ 9, 10, 11, 12]])"
      ]
     },
     "execution_count": 11,
     "metadata": {},
     "output_type": "execute_result"
    }
   ],
   "source": [
    "B"
   ]
  },
  {
   "attachments": {},
   "cell_type": "markdown",
   "id": "1bce4ced-74ed-498f-bab2-f9b5dfed84a7",
   "metadata": {},
   "source": [
    "**Step 1:** NumPy has a rich slicing syntax. \"`:`\" means \"pass a dimension through unchanged\" and \"`np.newaxis`\" means \"make a length-1 dimension here, at this depth of the slice.\""
   ]
  },
  {
   "cell_type": "code",
   "execution_count": 12,
   "id": "38578401-f12e-4b93-bb09-351a7cdae3e8",
   "metadata": {},
   "outputs": [
    {
     "data": {
      "text/plain": [
       "array([[10],\n",
       "       [20],\n",
       "       [30]])"
      ]
     },
     "execution_count": 12,
     "metadata": {},
     "output_type": "execute_result"
    }
   ],
   "source": [
    "A[:, np.newaxis]"
   ]
  },
  {
   "attachments": {},
   "cell_type": "markdown",
   "id": "56aca493-fc4d-4461-bc27-545fc3a9dc83",
   "metadata": {},
   "source": [
    "**Step 2:** Binary operations, such as \"`*`\", _broadcast_ arrays of different shapes.\n",
    "\n",
    "Each row of `A[:, np.newaxis]` has 1 element; each row of `B` has 4, that 1 element is paired with _each_ of the 4 elements, to get 4 products per row."
   ]
  },
  {
   "cell_type": "code",
   "execution_count": 13,
   "id": "8afcf9ae-7dc2-4548-85a1-0f79854266ae",
   "metadata": {},
   "outputs": [
    {
     "data": {
      "text/plain": [
       "array([[ 10,  20,  30,  40],\n",
       "       [100, 120, 140, 160],\n",
       "       [270, 300, 330, 360]])"
      ]
     },
     "execution_count": 13,
     "metadata": {},
     "output_type": "execute_result"
    }
   ],
   "source": [
    "A[:, np.newaxis] * B"
   ]
  },
  {
   "attachments": {},
   "cell_type": "markdown",
   "id": "ca1d6453-1207-455a-9eff-655880b40d19",
   "metadata": {},
   "source": [
    "**Step 3:** Reducers, such as `np.sum`, apply at a given `axis` (dimension).\n",
    "\n",
    "We want to sum over the inner lists, not the outer lists, so that's `axis=1`, not `axis=0`."
   ]
  },
  {
   "cell_type": "code",
   "execution_count": 14,
   "id": "922011fb-5492-4647-9d85-d09ad31b9800",
   "metadata": {},
   "outputs": [
    {
     "data": {
      "text/plain": [
       "array([ 100,  520, 1260])"
      ]
     },
     "execution_count": 14,
     "metadata": {},
     "output_type": "execute_result"
    }
   ],
   "source": [
    "np.sum(A[:, np.newaxis] * B, axis=1)"
   ]
  },
  {
   "attachments": {},
   "cell_type": "markdown",
   "id": "23c112b5-e38d-44e0-987c-1bb10a370dd6",
   "metadata": {},
   "source": [
    "More on array-oriented programming later (the rest of this whole tutorial), but\n",
    "\n",
    "   * the advantages are that it's concise (short expression) and explicit (you say exactly what happens to each array),\n",
    "   * the disadvantages are that it's concise (hard to understand?) and explicit (interpreter can't optimize intermediate steps).\n",
    "\n",
    "Array-oriented programming is how most scientific Python libraries manage to be _expressive_ and _fast_ (because loops over arrays are implemented in compiled code)."
   ]
  },
  {
   "attachments": {},
   "cell_type": "markdown",
   "id": "1f26e66d-0f41-4cc6-906e-4e757043b3e3",
   "metadata": {},
   "source": [
    "<br><br><br><br><br>"
   ]
  },
  {
   "attachments": {},
   "cell_type": "markdown",
   "id": "87de4e18-e5ac-499f-87c5-5e46ef99e03f",
   "metadata": {},
   "source": [
    "### Declarative"
   ]
  },
  {
   "attachments": {},
   "cell_type": "markdown",
   "id": "3226f202-746c-48a9-aadf-4c32bd212542",
   "metadata": {},
   "source": [
    "Usually, physicists use the word \"declarative programming\" to mean functional programming or array-oriented programming.\n",
    "\n",
    "I try to avoid being the Semantics Police, but conflating \"declarative programming\" with either of the above makes it impossible to talk about declarative programming in its own right.\n",
    "\n",
    "Here is a solution to the sample problem in a truly declarative language:"
   ]
  },
  {
   "cell_type": "code",
   "execution_count": 15,
   "id": "54062a0a-1379-4cd8-a4c3-68f51b72ed94",
   "metadata": {},
   "outputs": [
    {
     "data": {
      "text/plain": [
       "array([ 100,  520, 1260])"
      ]
     },
     "execution_count": 15,
     "metadata": {},
     "output_type": "execute_result"
    }
   ],
   "source": [
    "np.einsum(\"i,ij -> i\", A, B)"
   ]
  },
  {
   "attachments": {},
   "cell_type": "markdown",
   "id": "98f65a3c-87df-4b20-a4ee-3ffbec6d20df",
   "metadata": {},
   "source": [
    "[NumPy's einsum language](https://ajcr.net/Basic-guide-to-einsum/) (the code between the quotation marks, above) can only multiply values from `A` with values from `B`, sum over axes, and transpose axes, but it does so in a way that\n",
    "\n",
    "   * never says what order they should be performed in (as imperative programming would)\n",
    "   * does not take arbitrary functions as arguments (as functional programming would)\n",
    "   * doesn't describe any intermediate arrays (as array-oriented programming would)\n",
    "\n",
    "It just associates letters on the left of `->` with axes of the input arrays, letters on the right of `->` with axes of the output array, repeated letters with same-axis, and omitted letters (in the output) with summed-over axes."
   ]
  },
  {
   "attachments": {},
   "cell_type": "markdown",
   "id": "160779b7-3520-4a8e-9764-cd2c4099ca8d",
   "metadata": {
    "jp-MarkdownHeadingCollapsed": true,
    "tags": []
   },
   "source": [
    "#### Minor aside: the name \"einsum\""
   ]
  },
  {
   "attachments": {},
   "cell_type": "markdown",
   "id": "74d14dc6-f580-41a4-b105-ffb1a6b5ab91",
   "metadata": {},
   "source": [
    "The language in `np.einsum` is more general than [the notation Einstein invented](https://en.wikipedia.org/wiki/Einstein_notation), and our sample problem needs that generality.\n",
    "\n",
    "However, without the `->`,"
   ]
  },
  {
   "cell_type": "code",
   "execution_count": 16,
   "id": "766de94f-f48a-4cf7-85ab-8b006f8b5562",
   "metadata": {},
   "outputs": [
    {
     "data": {
      "text/plain": [
       "array([380, 440, 500, 560])"
      ]
     },
     "execution_count": 16,
     "metadata": {},
     "output_type": "execute_result"
    }
   ],
   "source": [
    "np.einsum(\"i,ij\", A, B)"
   ]
  },
  {
   "attachments": {},
   "cell_type": "markdown",
   "id": "8dd62b70-34c8-4d0f-a5db-b40340746a1b",
   "metadata": {},
   "source": [
    "is the same as $A_i \\, B^i_j$, as Einstein would write it.\n",
    "\n",
    "That solves a different problem, though: one in which the sum is over `axis=0`, rather than `axis=1`:"
   ]
  },
  {
   "cell_type": "code",
   "execution_count": 17,
   "id": "02b23e29-0b92-45fb-801e-384c840047fe",
   "metadata": {},
   "outputs": [
    {
     "data": {
      "text/plain": [
       "array([380, 440, 500, 560])"
      ]
     },
     "execution_count": 17,
     "metadata": {},
     "output_type": "execute_result"
    }
   ],
   "source": [
    "np.sum(A[:, np.newaxis] * B, axis=0)"
   ]
  },
  {
   "attachments": {},
   "cell_type": "markdown",
   "id": "66de7453-783b-4f62-ac80-17fd46da842d",
   "metadata": {},
   "source": [
    "I don't know of a way to solve the sample problem in classical Einstein notation."
   ]
  },
  {
   "attachments": {},
   "cell_type": "markdown",
   "id": "0156d997-7edc-4324-83aa-e850cfefce14",
   "metadata": {},
   "source": [
    "#### Other declarative languages"
   ]
  },
  {
   "attachments": {},
   "cell_type": "markdown",
   "id": "d9b7fcb3-5c11-40bb-ab97-f3a2c3f952ff",
   "metadata": {},
   "source": [
    "The most common declarative language you're likely to encounter is regex, which does one thing: find substrings."
   ]
  },
  {
   "cell_type": "code",
   "execution_count": 18,
   "id": "ff43d656-bc52-427e-a804-1e58537850d0",
   "metadata": {},
   "outputs": [],
   "source": [
    "import re"
   ]
  },
  {
   "cell_type": "code",
   "execution_count": 19,
   "id": "e22413b4-ba85-44fe-bdec-dc14fbf11920",
   "metadata": {},
   "outputs": [
    {
     "name": "stdout",
     "output_type": "stream",
     "text": [
      "<re.Match object; span=(4, 5), match='e'>\n",
      "<re.Match object; span=(7, 8), match='o'>\n",
      "<re.Match object; span=(10, 11), match='e'>\n",
      "<re.Match object; span=(14, 15), match='e'>\n",
      "<re.Match object; span=(16, 17), match='a'>\n",
      "<re.Match object; span=(29, 30), match='e'>\n",
      "<re.Match object; span=(38, 39), match='a'>\n"
     ]
    }
   ],
   "source": [
    "for match in re.finditer(r\"[aeiou]\\b\", \"Where do we see a vowel at the end of a word?\"):\n",
    "    print(match)"
   ]
  },
  {
   "attachments": {},
   "cell_type": "markdown",
   "id": "b454e99d-d211-4328-bb33-5a6a8d974f36",
   "metadata": {},
   "source": [
    "Others include configuration files in YAML, templates in C++, original SQL, etc.\n",
    "\n",
    "Declarative languages are usually _mini-languages_.\n",
    "\n",
    "The advantages are that they can be very suited to their task—concise and easy to read—and that they can be implemented in a highly optimized way.\n",
    "\n",
    "The disadvantage is that they rarely generalize, and when they do, they lose their declarativeness (as modern SQL has)."
   ]
  },
  {
   "attachments": {},
   "cell_type": "markdown",
   "id": "e463e967-1e84-4d79-9381-e15ad268d6ab",
   "metadata": {},
   "source": [
    "<br><br><br><br><br>"
   ]
  },
  {
   "attachments": {},
   "cell_type": "markdown",
   "id": "e8f5f115-a778-4c92-ae0e-55734fa1d84b",
   "metadata": {},
   "source": [
    "### ~~Which is best?~~ Which problems are each best suited for?"
   ]
  },
  {
   "attachments": {},
   "cell_type": "markdown",
   "id": "97ef1e47-4a70-4e27-8656-77693ba504fb",
   "metadata": {},
   "source": [
    "| | Good for... | Bad for... |\n",
    "|:-|:-|:-|\n",
    "| **Imperative** | General-purpose programming that you know how to optimize. | Verbosity and letting the compiler optimize it for you. |\n",
    "| **Functional** | General-purpose programming that you want a framework to distribute or delay for you. | Verbosity and following the chain of which functions call which (\"callback hell\"). |\n",
    "| **Object-oriented** | Organizing the large-scale structure of a program. | Ultra-verbosity in small problems, and localizing mutable state isn't as good as eliminating it. |\n",
    "| **Array-oriented** | Concise numerical processing, interactivity, fast (compiled) operations. | Iterative algorithms and large or many intermediate arrays can be inefficient. |\n",
    "| **Declarative** | Ultra-concise and optimizable expressions for specific tasks. | General-purpose programming. |"
   ]
  },
  {
   "attachments": {},
   "cell_type": "markdown",
   "id": "e974b212-6b86-4a20-a33c-a426f446c4b0",
   "metadata": {},
   "source": [
    "History of programming paradigms mentioned at CHEP (Computing in HEP conferences from 1985 through present)."
   ]
  },
  {
   "attachments": {},
   "cell_type": "markdown",
   "id": "f3fffeba-fff7-4172-ab78-f706db33c36e",
   "metadata": {},
   "source": [
    "<img src=\"img/chep-papers-paradigm.svg\" width=\"700\">"
   ]
  },
  {
   "attachments": {},
   "cell_type": "markdown",
   "id": "f14dcc99-dd86-474e-acd6-dd0f9a635dad",
   "metadata": {},
   "source": [
    "<br><br><br><br><br>"
   ]
  },
  {
   "attachments": {},
   "cell_type": "markdown",
   "id": "e653d713-4cb2-4325-9d3d-fcccc4d0e0f5",
   "metadata": {},
   "source": [
    "## Array-oriented programming"
   ]
  },
  {
   "attachments": {},
   "cell_type": "markdown",
   "id": "9feb94f4-45f0-42fd-906f-286b45770d14",
   "metadata": {},
   "source": [
    "### History"
   ]
  },
  {
   "attachments": {},
   "cell_type": "markdown",
   "id": "11333ee3-74eb-4f8c-a9da-c8a3ed32af21",
   "metadata": {},
   "source": [
    "Just as imperative programming comes from ALGOL (and functional from LISP, and object-oriented from Simula, ...), array-oriented programming comes from APL."
   ]
  },
  {
   "attachments": {},
   "cell_type": "markdown",
   "id": "5098b26c-9305-4464-93e9-41fa39464ea9",
   "metadata": {},
   "source": [
    "<img src=\"img/apl-timeline.svg\" width=\"700\">"
   ]
  },
  {
   "attachments": {},
   "cell_type": "markdown",
   "id": "1b818e3f-e3ca-44ba-90c1-639429f8d298",
   "metadata": {},
   "source": [
    "<img src=\"img/apl-book.png\" width=\"300\" style=\"display: inline-block; margin-right: 20px\">\n",
    "<img src=\"img/apl-keyboard.jpg\" width=\"600\" style=\"display: inline-block; margin-right: 20px\">\n",
    "<img src=\"img/tshirt.jpg\" width=\"250\" style=\"display: inline-block; margin-right: 20px\">\n",
    "<div style=\"display: inline-block\">\n",
    "\n",
    "| APL | <br> | Numpy |\n",
    "|:---:|:----:|:-----:|\n",
    "| <tt>ι4</tt> | <br> | <tt>np.arange(1, 5)</tt> |\n",
    "| <tt>(3+ι4)</tt> | <br> | <tt>np.arange(1, 5) + 3</tt> |\n",
    "| <tt>+/(3+ι4)</tt> | <br> | <tt>(np.arange(1, 5) + 3).sum()</tt> |\n",
    "| <tt>m ← +/(3+ι4)</tt> | <br> | <tt>m = (np.arange(1, 5) + 3).sum()</tt> |\n",
    "\n",
    "</div>"
   ]
  },
  {
   "attachments": {},
   "cell_type": "markdown",
   "id": "7184039a-89ff-43d7-a625-36b0ba018599",
   "metadata": {},
   "source": [
    "<br><br><br><br><br>"
   ]
  },
  {
   "attachments": {},
   "cell_type": "markdown",
   "id": "43b70fdf-39f0-48ba-9625-b736ed808317",
   "metadata": {},
   "source": [
    "Incidentally, a [solution to the sample problem in APL](https://tio.run/##SyzI0U2pTMzJT///31HhUdsEBUMDhcPTFR71blYw5nICixgrmAD5W8BihkZcXI/6poKEtfUVNDSA4k6aYFkIM9ooVkFfwVETZIbT//8A) is\n",
    "\n",
    "```apl\n",
    "A ← 10 × ⍳ 3\n",
    "B ← 3 4 ⍴ ⍳ 12\n",
    "\n",
    "+/ ((⍴B) ⍴ (⍴B)[2] / A) × B\n",
    "```"
   ]
  },
  {
   "attachments": {},
   "cell_type": "markdown",
   "id": "1e0de4eb-74f7-408c-99f0-d3c532d520ff",
   "metadata": {},
   "source": [
    "<br><br><br><br><br>"
   ]
  },
  {
   "attachments": {},
   "cell_type": "markdown",
   "id": "f8ea1af7-972c-40d4-b5c5-a2f5ab895069",
   "metadata": {},
   "source": [
    "### Synergy with data analysis"
   ]
  },
  {
   "attachments": {},
   "cell_type": "markdown",
   "id": "f47818ab-d045-4b75-9258-c46ac6920dca",
   "metadata": {},
   "source": [
    "A common feature among all array-oriented languages (except Fortran 90) is that they are also _interactive_ languages.\n",
    "\n",
    "<br><br>\n",
    "\n",
    "Typically, you perform one operation on a whole dataset, see what that does to the distribution, then apply another.\n",
    "\n",
    "<br><br>\n",
    "\n",
    "In these applications, it would not be sufficient to see what they do to a few values. The _distributions_ are what matters. In imperative style, you'd have to write a whole loop before plotting each step."
   ]
  },
  {
   "cell_type": "code",
   "execution_count": 20,
   "id": "2f5c73ff-129f-40b9-8213-9d417274cbf5",
   "metadata": {},
   "outputs": [],
   "source": [
    "import matplotlib.pyplot as plt"
   ]
  },
  {
   "cell_type": "code",
   "execution_count": 21,
   "id": "864e0822-eb67-4dc7-98fd-2b46e86742c0",
   "metadata": {},
   "outputs": [],
   "source": [
    "dataset = np.random.normal(0, 1, 1000000)  # one MILLION data points"
   ]
  },
  {
   "attachments": {},
   "cell_type": "markdown",
   "id": "40acdc84-e632-43c5-af70-7eed04d6d962",
   "metadata": {},
   "source": [
    "<br><br>\n",
    "\n",
    "\"What does this distribution look like?\""
   ]
  },
  {
   "cell_type": "code",
   "execution_count": 22,
   "id": "d4ab14da-35de-4af7-a6bb-638b57706ba3",
   "metadata": {},
   "outputs": [
    {
     "data": {
      "image/png": "[encoded data removed]",
      "text/plain": [
       "<Figure size 432x288 with 1 Axes>"
      ]
     },
     "metadata": {
      "needs_background": "light"
     },
     "output_type": "display_data"
    }
   ],
   "source": [
    "plt.hist(dataset, bins=100);"
   ]
  },
  {
   "attachments": {},
   "cell_type": "markdown",
   "id": "fb803ac0-00dd-4479-bc3b-4b2bbd63f915",
   "metadata": {},
   "source": [
    "\"Of course. It's Gaussian.\"\n",
    "\n",
    "<br><br>\n",
    "\n",
    "\"What does the square look like?\""
   ]
  },
  {
   "cell_type": "code",
   "execution_count": 23,
   "id": "118dc838-e3a3-47c9-8dcc-8c9400b3081d",
   "metadata": {},
   "outputs": [],
   "source": [
    "dataset2 = dataset**2"
   ]
  },
  {
   "cell_type": "code",
   "execution_count": 24,
   "id": "1571cc59-fa45-4526-a94a-89184c9afb93",
   "metadata": {},
   "outputs": [
    {
     "data": {
      "image/png": "[encoded data removed]",
      "text/plain": [
       "<Figure size 432x288 with 1 Axes>"
      ]
     },
     "metadata": {
      "needs_background": "light"
     },
     "output_type": "display_data"
    }
   ],
   "source": [
    "plt.hist(dataset2, bins=100);"
   ]
  },
  {
   "attachments": {},
   "cell_type": "markdown",
   "id": "5a61abbe-8861-4223-bdf9-c4eca02e0bcb",
   "metadata": {},
   "source": [
    "\"Of course. It's always positive, peaks at 0, and falls off to 25, rather than 5.\"\n",
    "\n",
    "<br><br>\n",
    "\n",
    "\"What does this crazy combination look like?\""
   ]
  },
  {
   "cell_type": "code",
   "execution_count": 25,
   "id": "2a76b03e-13f8-4c1d-a8ca-278b046f3e2f",
   "metadata": {},
   "outputs": [],
   "source": [
    "dataset3 = np.sin(1/dataset2)"
   ]
  },
  {
   "cell_type": "code",
   "execution_count": 26,
   "id": "c0013e97-5686-4886-a175-6c6df73ea7b1",
   "metadata": {},
   "outputs": [
    {
     "data": {
      "image/png": "[encoded data removed]",
      "text/plain": [
       "<Figure size 432x288 with 1 Axes>"
      ]
     },
     "metadata": {
      "needs_background": "light"
     },
     "output_type": "display_data"
    }
   ],
   "source": [
    "plt.hist(dataset3, bins=100);"
   ]
  },
  {
   "attachments": {},
   "cell_type": "markdown",
   "id": "b6e035fb-4670-4841-8d9d-c9a05c5afc29",
   "metadata": {},
   "source": [
    "\"Um... That was hard to guess. It's not surprising that it's bounded between -1 and 1, but I'd have to think hard about why it favors positive values.\"\n",
    "\n",
    "<br><br><br><br><br>\n",
    "\n",
    "This is the way of interactive programming on data—which is to say, data analysis.\n",
    "\n",
    "   * Acting on an array in each statement is the right level of granularity because you're interested in distributions.\n",
    "   * The right part of the calculation is optimized by precompiled routines: the loop over all data.\n",
    "\n",
    "It's not _just_ about computation speed. If you're not developing interactively (IPython/Jupyter or terminal), you're losing half the advantage."
   ]
  },
  {
   "attachments": {},
   "cell_type": "markdown",
   "id": "3bcaf0ab-dceb-4e2b-b693-ca374f9e8676",
   "metadata": {},
   "source": [
    "<br><br><br><br><br>"
   ]
  },
  {
   "attachments": {},
   "cell_type": "markdown",
   "id": "98a0d01d-d74e-4452-853b-50e8efcbdbb2",
   "metadata": {},
   "source": [
    "### Accelerating code in Python"
   ]
  },
  {
   "attachments": {},
   "cell_type": "markdown",
   "id": "7d8217c9-d214-4be8-a29b-3c605cd412ba",
   "metadata": {},
   "source": [
    "While we emphasize speed in Python array-oriented programming, it's not the fastest thing around.\n",
    "\n",
    "Generally:\n",
    "\n",
    "$$\\mbox{Python ``for'' loops} \\hspace{1 cm} \\ll \\hspace{1 cm} \\mbox{NumPy expression} \\hspace{1 cm} \\ll \\hspace{1 cm} \\mbox{single-pass compiled loop} \\hspace{1 cm} \\ll \\hspace{1 cm} \\mbox{carefully tuned code}$$\n",
    "\n",
    "<br><br><br><br><br>\n",
    "\n",
    "Consider this function, which can be applied to Python scalars or NumPy arrays (works as imperative or array-oriented)."
   ]
  },
  {
   "cell_type": "code",
   "execution_count": 27,
   "id": "dff9616c-33dc-4422-b33b-d40d8202d35f",
   "metadata": {},
   "outputs": [],
   "source": [
    "def quadratic_formula(a, b, c):\n",
    "    return (-b + np.sqrt(b**2 - 4*a*c)) / (2*a)"
   ]
  },
  {
   "cell_type": "code",
   "execution_count": 28,
   "id": "35e8c759-3be4-4a45-8703-fac2f76c3c67",
   "metadata": {},
   "outputs": [
    {
     "data": {
      "text/plain": [
       "0.009950493836207741"
      ]
     },
     "execution_count": 28,
     "metadata": {},
     "output_type": "execute_result"
    }
   ],
   "source": [
    "a = 5\n",
    "b = 10\n",
    "c = -0.1\n",
    "\n",
    "quadratic_formula(a, b, c)"
   ]
  },
  {
   "cell_type": "code",
   "execution_count": 29,
   "id": "2571aad2-06f5-4b54-aa8d-49b600e2c540",
   "metadata": {},
   "outputs": [
    {
     "data": {
      "text/plain": [
       "array([-0.00103588, -0.00209614,  0.00197685, ...,  0.00144735,\n",
       "       -0.00301314, -0.00431285])"
      ]
     },
     "execution_count": 29,
     "metadata": {},
     "output_type": "execute_result"
    }
   ],
   "source": [
    "a = np.random.uniform(5, 10, 500000)\n",
    "b = np.random.uniform(10, 20, 500000)\n",
    "c = np.random.uniform(-0.1, 0.1, 500000)\n",
    "\n",
    "quadratic_formula(a, b, c)"
   ]
  },
  {
   "attachments": {},
   "cell_type": "markdown",
   "id": "5f37ea07-684d-4197-8090-358937aa6c22",
   "metadata": {},
   "source": [
    "<br><br><br><br><br>\n",
    "\n",
    "The NumPy execution is _approximately_ equivalent to the following:"
   ]
  },
  {
   "cell_type": "code",
   "execution_count": 30,
   "id": "ce5808bf-ed8f-417b-be2f-259485aebb18",
   "metadata": {},
   "outputs": [],
   "source": [
    "def quadratic_formula_2(a, b, c):\n",
    "    tmp1 = np.negative(b)            # -b\n",
    "    tmp2 = np.square(b)              # b**2\n",
    "    tmp3 = np.multiply(4, a)         # 4*a\n",
    "    tmp4 = np.multiply(tmp3, c)      # tmp3*c\n",
    "    del tmp3\n",
    "    tmp5 = np.subtract(tmp2, tmp4)   # tmp2 - tmp4\n",
    "    del tmp2, tmp4\n",
    "    tmp6 = np.sqrt(tmp5)             # sqrt(tmp5)\n",
    "    del tmp5\n",
    "    tmp7 = np.add(tmp1, tmp6)        # tmp1 + tmp6\n",
    "    del tmp1, tmp6\n",
    "    tmp8 = np.multiply(2, a)         # 2*a\n",
    "    return np.divide(tmp7, tmp8)     # tmp7 / tmp8"
   ]
  },
  {
   "cell_type": "code",
   "execution_count": 31,
   "id": "fb699b75-9022-426a-b22d-c0e7b0aee2de",
   "metadata": {},
   "outputs": [
    {
     "data": {
      "text/plain": [
       "array([-0.00103588, -0.00209614,  0.00197685, ...,  0.00144735,\n",
       "       -0.00301314, -0.00431285])"
      ]
     },
     "execution_count": 31,
     "metadata": {},
     "output_type": "execute_result"
    }
   ],
   "source": [
    "quadratic_formula(a, b, c)"
   ]
  },
  {
   "attachments": {},
   "cell_type": "markdown",
   "id": "1e4e1c0a-faaf-4e35-b526-d8de3f722409",
   "metadata": {},
   "source": [
    "Each step in the calculation makes an intermediate array (`tmp1` through `tmp8`), which requires memory allocation and copying, most of them CPU cache-misses.\n",
    "\n",
    "(\"_Approximately_\" because NumPy now has the ability to \"fuse\" some steps in a calculation, but not all.)\n",
    "\n",
    "<br><br><br><br><br>\n",
    "\n",
    "Compare:"
   ]
  },
  {
   "cell_type": "code",
   "execution_count": 32,
   "id": "e7d9bbda-1d04-4dda-8456-d4fa89a2612a",
   "metadata": {},
   "outputs": [
    {
     "name": "stdout",
     "output_type": "stream",
     "text": [
      "2.05 ms ± 34.8 µs per loop (mean ± std. dev. of 7 runs, 100 loops each)\n"
     ]
    },
    {
     "data": {
      "text/plain": [
       "<TimeitResult : 2.05 ms ± 34.8 µs per loop (mean ± std. dev. of 7 runs, 100 loops each)>"
      ]
     },
     "execution_count": 32,
     "metadata": {},
     "output_type": "execute_result"
    }
   ],
   "source": [
    "%%timeit -o\n",
    "\n",
    "quadratic_formula(a, b, c)"
   ]
  },
  {
   "cell_type": "code",
   "execution_count": 33,
   "id": "b54792b3-5cf8-4ff1-9490-4af022c35dee",
   "metadata": {},
   "outputs": [],
   "source": [
    "quadratic_numpy1 = _"
   ]
  },
  {
   "cell_type": "code",
   "execution_count": 34,
   "id": "76f3cadb-bd23-4b56-95d1-ad0d6c45d280",
   "metadata": {},
   "outputs": [
    {
     "name": "stdout",
     "output_type": "stream",
     "text": [
      "5.26 ms ± 43.8 µs per loop (mean ± std. dev. of 7 runs, 100 loops each)\n"
     ]
    },
    {
     "data": {
      "text/plain": [
       "<TimeitResult : 5.26 ms ± 43.8 µs per loop (mean ± std. dev. of 7 runs, 100 loops each)>"
      ]
     },
     "execution_count": 34,
     "metadata": {},
     "output_type": "execute_result"
    }
   ],
   "source": [
    "%%timeit -o\n",
    "\n",
    "quadratic_formula_2(a, b, c)"
   ]
  },
  {
   "cell_type": "code",
   "execution_count": 35,
   "id": "1bd1648f",
   "metadata": {},
   "outputs": [],
   "source": [
    "quadratic_numpy2 = _"
   ]
  },
  {
   "attachments": {},
   "cell_type": "markdown",
   "id": "d7be503c-5db8-4a16-ada8-2a7fb8755491",
   "metadata": {},
   "source": [
    "<br><br><br><br><br>\n",
    "\n",
    "Meanwhile, NumExpr compiles an expression for use in a fast (single-purpose) virtual machine that makes only one pass over the data."
   ]
  },
  {
   "cell_type": "code",
   "execution_count": 36,
   "id": "909273ac-9335-46a1-bae2-8bada9789980",
   "metadata": {},
   "outputs": [
    {
     "data": {
      "text/plain": [
       "array([-0.00103588, -0.00209614,  0.00197685, ...,  0.00144735,\n",
       "       -0.00301314, -0.00431285])"
      ]
     },
     "execution_count": 36,
     "metadata": {},
     "output_type": "execute_result"
    }
   ],
   "source": [
    "import numexpr\n",
    "\n",
    "numexpr.evaluate(\"(-b + sqrt(b**2 - 4*a*c)) / (2*a)\")"
   ]
  },
  {
   "cell_type": "code",
   "execution_count": 37,
   "id": "ded1fb4a-1855-4f93-91a8-9c4dab49781a",
   "metadata": {},
   "outputs": [
    {
     "name": "stdout",
     "output_type": "stream",
     "text": [
      "473 µs ± 28.1 µs per loop (mean ± std. dev. of 7 runs, 1,000 loops each)\n"
     ]
    },
    {
     "data": {
      "text/plain": [
       "<TimeitResult : 473 µs ± 28.1 µs per loop (mean ± std. dev. of 7 runs, 1,000 loops each)>"
      ]
     },
     "execution_count": 37,
     "metadata": {},
     "output_type": "execute_result"
    }
   ],
   "source": [
    "%%timeit -o\n",
    "\n",
    "numexpr.re_evaluate()"
   ]
  },
  {
   "cell_type": "code",
   "execution_count": 38,
   "id": "67306561-04fe-4430-9dc7-5bdc83b3cf98",
   "metadata": {},
   "outputs": [],
   "source": [
    "quadratic_numexpr = _"
   ]
  },
  {
   "attachments": {},
   "cell_type": "markdown",
   "id": "d7df9be8-bb8d-4721-bd4b-4833b0b4a106",
   "metadata": {},
   "source": [
    "<br><br><br><br><br>\n",
    "\n",
    "There are also frameworks like Numba, which compile a subset of Python to machine code with LLVM.\n",
    "\n",
    "To use Numba effectively, you must write imperative code."
   ]
  },
  {
   "cell_type": "code",
   "execution_count": 39,
   "id": "fb1d6fcf-72eb-47d8-955c-75c3957e4325",
   "metadata": {},
   "outputs": [
    {
     "data": {
      "text/plain": [
       "array([-0.00103588, -0.00209614,  0.00197685, ...,  0.00144735,\n",
       "       -0.00301314, -0.00431285])"
      ]
     },
     "execution_count": 39,
     "metadata": {},
     "output_type": "execute_result"
    }
   ],
   "source": [
    "import numba as nb\n",
    "\n",
    "numba_quadratic_formula = nb.vectorize(quadratic_formula)\n",
    "\n",
    "numba_quadratic_formula(a, b, c)"
   ]
  },
  {
   "cell_type": "code",
   "execution_count": 40,
   "id": "7c760318-3e5e-4f4c-a66a-8460e0142c9e",
   "metadata": {},
   "outputs": [
    {
     "name": "stdout",
     "output_type": "stream",
     "text": [
      "392 µs ± 14.8 µs per loop (mean ± std. dev. of 7 runs, 1,000 loops each)\n"
     ]
    },
    {
     "data": {
      "text/plain": [
       "<TimeitResult : 392 µs ± 14.8 µs per loop (mean ± std. dev. of 7 runs, 1,000 loops each)>"
      ]
     },
     "execution_count": 40,
     "metadata": {},
     "output_type": "execute_result"
    }
   ],
   "source": [
    "%%timeit -o\n",
    "\n",
    "numba_quadratic_formula(a, b, c)"
   ]
  },
  {
   "cell_type": "code",
   "execution_count": 41,
   "id": "c76372ba-9391-43ba-bda1-4a3d684d3155",
   "metadata": {},
   "outputs": [],
   "source": [
    "quadratic_numba = _"
   ]
  },
  {
   "attachments": {},
   "cell_type": "markdown",
   "id": "21ae1021-c799-4184-9a39-d69841f2190d",
   "metadata": {},
   "source": [
    "<br><br><br><br><br>\n",
    "\n",
    "JAX is another compiler of a subset of Python, but it takes a different approach with XLA.\n",
    "\n",
    "To use JAX at all, you must write array-oriented code."
   ]
  },
  {
   "cell_type": "code",
   "execution_count": 42,
   "id": "3d47bf6e-9ad6-4201-a227-746ece7c0893",
   "metadata": {},
   "outputs": [
    {
     "data": {
      "text/plain": [
       "DeviceArray([-0.00103586, -0.00209613,  0.00197686, ...,  0.00144735,\n",
       "             -0.00301311, -0.00431285], dtype=float32)"
      ]
     },
     "execution_count": 42,
     "metadata": {},
     "output_type": "execute_result"
    }
   ],
   "source": [
    "import jax\n",
    "\n",
    "def quadratic_formula_3(a, b, c):\n",
    "    return (-b + jax.numpy.sqrt(b**2 - 4*a*c)) / (2*a)\n",
    "\n",
    "jax_quadratic_formula = jax.jit(quadratic_formula_3, backend=\"cpu\")\n",
    "\n",
    "jax_quadratic_formula(a, b, c)"
   ]
  },
  {
   "cell_type": "code",
   "execution_count": 43,
   "id": "867b0933-2c92-4b15-93d5-1dad136ee967",
   "metadata": {},
   "outputs": [
    {
     "name": "stdout",
     "output_type": "stream",
     "text": [
      "478 µs ± 6.06 µs per loop (mean ± std. dev. of 7 runs, 1,000 loops each)\n"
     ]
    },
    {
     "data": {
      "text/plain": [
       "<TimeitResult : 478 µs ± 6.06 µs per loop (mean ± std. dev. of 7 runs, 1,000 loops each)>"
      ]
     },
     "execution_count": 43,
     "metadata": {},
     "output_type": "execute_result"
    }
   ],
   "source": [
    "%%timeit -o\n",
    "\n",
    "jax_quadratic_formula(a, b, c)"
   ]
  },
  {
   "cell_type": "code",
   "execution_count": 44,
   "id": "96b95b70-8f39-4552-abbf-4f102abaa783",
   "metadata": {},
   "outputs": [],
   "source": [
    "quadratic_jax = _"
   ]
  },
  {
   "attachments": {},
   "cell_type": "markdown",
   "id": "bd57e7f6-19b6-4e41-9d73-79276e985b46",
   "metadata": {},
   "source": [
    "<br><br><br><br><br>\n",
    "\n",
    "Finally, we'd also like a comparison with imperative Python."
   ]
  },
  {
   "cell_type": "code",
   "execution_count": 45,
   "id": "ef971dcd-2bf0-4512-9bc7-637ca9cde5eb",
   "metadata": {},
   "outputs": [],
   "source": [
    "a_list = a.tolist()\n",
    "b_list = b.tolist()\n",
    "c_list = c.tolist()"
   ]
  },
  {
   "cell_type": "code",
   "execution_count": 46,
   "id": "83914e56-4dac-455b-8316-4062d59e1780",
   "metadata": {},
   "outputs": [
    {
     "name": "stdout",
     "output_type": "stream",
     "text": [
      "401 ms ± 3.6 ms per loop (mean ± std. dev. of 7 runs, 1 loop each)\n"
     ]
    },
    {
     "data": {
      "text/plain": [
       "<TimeitResult : 401 ms ± 3.6 ms per loop (mean ± std. dev. of 7 runs, 1 loop each)>"
      ]
     },
     "execution_count": 46,
     "metadata": {},
     "output_type": "execute_result"
    }
   ],
   "source": [
    "%%timeit -o\n",
    "\n",
    "for ai, bi, ci in zip(a_list, b_list, c_list):\n",
    "    quadratic_formula(ai, bi, ci)"
   ]
  },
  {
   "cell_type": "code",
   "execution_count": 47,
   "id": "4b61eea9-72e1-4858-983a-160c5e58f82f",
   "metadata": {},
   "outputs": [],
   "source": [
    "quadratic_python = _"
   ]
  },
  {
   "attachments": {},
   "cell_type": "markdown",
   "id": "438ad3f1-3b4b-4168-8e56-eba2ec27ef08",
   "metadata": {},
   "source": [
    "<br><br><br><br><br>"
   ]
  },
  {
   "cell_type": "code",
   "execution_count": 48,
   "id": "413743b6-65ce-4ac9-976d-f86375a8e592",
   "metadata": {},
   "outputs": [
    {
     "data": {
      "image/png": "[encoded data removed]",
      "text/plain": [
       "<Figure size 720x360 with 1 Axes>"
      ]
     },
     "metadata": {
      "needs_background": "light"
     },
     "output_type": "display_data"
    }
   ],
   "source": [
    "fig, ax = plt.subplots(figsize=(10, 5))\n",
    "\n",
    "test_names = [\n",
    "    \"imperative Python\",\n",
    "    \"NumPy (no loop fusion)\",\n",
    "    \"NumPy\",\n",
    "    \"NumExpr\",\n",
    "    \"Numba\",\n",
    "    \"JAX (CPU)\",\n",
    "][::-1]\n",
    "test_results = np.array([\n",
    "    1e3 * np.min(quadratic_python.all_runs) / quadratic_python.loops,\n",
    "    1e3 * np.min(quadratic_numpy2.all_runs) / quadratic_numpy2.loops,\n",
    "    1e3 * np.min(quadratic_numpy1.all_runs) / quadratic_numpy1.loops,\n",
    "    1e3 * np.min(quadratic_numexpr.all_runs) / quadratic_numexpr.loops,\n",
    "    1e3 * np.min(quadratic_numba.all_runs) / quadratic_numba.loops,\n",
    "    1e3 * np.min(quadratic_jax.all_runs) / quadratic_jax.loops,\n",
    "][::-1])\n",
    "test_variations = np.array([\n",
    "    1e3 * np.ptp(quadratic_python.all_runs) / quadratic_python.loops,\n",
    "    1e3 * np.ptp(quadratic_numpy2.all_runs) / quadratic_numpy2.loops,\n",
    "    1e3 * np.ptp(quadratic_numpy1.all_runs) / quadratic_numpy1.loops,\n",
    "    1e3 * np.ptp(quadratic_numexpr.all_runs) / quadratic_numexpr.loops,\n",
    "    1e3 * np.ptp(quadratic_numba.all_runs) / quadratic_numba.loops,\n",
    "    1e3 * np.ptp(quadratic_jax.all_runs) / quadratic_jax.loops,\n",
    "][::-1])\n",
    "ax.barh(range(len(test_names)), test_results);\n",
    "ax.errorbar(test_results + test_variations/2, range(len(test_names)), xerr=test_variations/2, capsize=5, fmt=\"none\", c=\"#1f77b4\");\n",
    "ax.set_yticks(range(len(test_names)));\n",
    "ax.set_yticklabels(test_names);\n",
    "ax.set_xlabel(\"time to compute quadratic formula (ms), smaller is better\");\n",
    "ax.set_xscale(\"log\");\n",
    "ax.set_ylim(-0.75, len(test_results) - 0.25);"
   ]
  },
  {
   "attachments": {},
   "cell_type": "markdown",
   "id": "3acd28f7-d025-4bd8-a4db-c0193ee96598",
   "metadata": {},
   "source": [
    "<br><br><br><br><br>\n",
    "\n",
    "Array-oriented programming in Python is usually about 100× better than imperative Python.\n",
    "\n",
    "But there's still a factor-of-several, maybe even 10×, improvement to be made with a single-pass algorithm."
   ]
  },
  {
   "attachments": {},
   "cell_type": "markdown",
   "id": "0b9a5045-dac7-4847-9781-4f25c23136df",
   "metadata": {},
   "source": [
    "<br><br><br><br><br>"
   ]
  },
  {
   "attachments": {},
   "cell_type": "markdown",
   "id": "b5ddc579-1397-498a-9459-40537523920b",
   "metadata": {},
   "source": [
    "# Next stop: part 2"
   ]
  },
  {
   "attachments": {},
   "cell_type": "markdown",
   "id": "c5773da3-9846-438c-8bd5-ea75771e6ac2",
   "metadata": {},
   "source": [
    "Go to [part-2.ipynb](part-2.ipynb) for the second notebook."
   ]
  }
 ],
 "metadata": {
  "kernelspec": {
   "display_name": "Python 3 (ipykernel)",
   "language": "python",
   "name": "python3"
  },
  "language_info": {
   "codemirror_mode": {
    "name": "ipython",
    "version": 3
   },
   "file_extension": ".py",
   "mimetype": "text/x-python",
   "name": "python",
   "nbconvert_exporter": "python",
   "pygments_lexer": "ipython3",
   "version": "3.9.13"
  }
 },
 "nbformat": 4,
 "nbformat_minor": 5
}
