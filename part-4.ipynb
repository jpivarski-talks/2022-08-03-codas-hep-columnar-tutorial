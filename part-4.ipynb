{
 "cells": [
  {
   "cell_type": "markdown",
   "id": "08e809da-bff8-47a6-a86d-109efcef24e9",
   "metadata": {
    "tags": []
   },
   "source": [
    "# CoDaS-HEP Columnar Data Analysis, part 4"
   ]
  },
  {
   "cell_type": "markdown",
   "id": "b91af225-e48f-4fed-888d-97c9f2172b78",
   "metadata": {},
   "source": [
    "This is the fourth of four on [columnar data analysis](https://indico.cern.ch/event/1151367/timetable/#41-columnar-data-analysis), presented at CoDaS-HEP at 12:30pm on August 3, 2022 by Jim Pivarski and Ioana Ifrim.\n",
    "\n",
    "See the [GitHub repo](https://github.com/jpivarski-talks/2022-08-03-codas-hep-columnar-tutorial#readme) for instructions on how to run it.\n",
    "\n",
    "DO NOT start this one before the hands-on project because this notebook uses its solution."
   ]
  },
  {
   "cell_type": "markdown",
   "id": "7f98b486-444a-4303-98d1-4336d124ae71",
   "metadata": {},
   "source": [
    "<br><br><br><br><br>"
   ]
  },
  {
   "cell_type": "markdown",
   "id": "3d3da2b7-f2c0-42aa-b60c-dd85e385be85",
   "metadata": {},
   "source": [
    "## Tale of two JIT compilers: Numba and JAX"
   ]
  },
  {
   "cell_type": "markdown",
   "id": "185e8483-511d-48e0-ab48-900836c5e80a",
   "metadata": {},
   "source": [
    "<br><br><br><br><br>"
   ]
  },
  {
   "cell_type": "markdown",
   "id": "1d4f1363-cf2e-44e3-bc92-aa08b5409896",
   "metadata": {},
   "source": [
    "### H → ZZ → 4ℓ in Numba"
   ]
  },
  {
   "cell_type": "markdown",
   "id": "9113ea1b-4244-49ea-afcb-2a2e9e390f17",
   "metadata": {},
   "source": [
    "<br><br><br><br><br>"
   ]
  },
  {
   "cell_type": "markdown",
   "id": "170bed94-1851-4cc4-81f3-4578ad0f994e",
   "metadata": {},
   "source": [
    "### H → ZZ → 4ℓ in JAX"
   ]
  },
  {
   "cell_type": "markdown",
   "id": "38048bdc-0071-4d95-b875-381c6badd028",
   "metadata": {},
   "source": [
    "<br><br><br><br><br>"
   ]
  },
  {
   "cell_type": "markdown",
   "id": "809fb68c-a8c3-42fc-82de-b7c8b847ea39",
   "metadata": {},
   "source": [
    "# The end!"
   ]
  }
 ],
 "metadata": {
  "kernelspec": {
   "display_name": "Python 3 (ipykernel)",
   "language": "python",
   "name": "python3"
  },
  "language_info": {
   "codemirror_mode": {
    "name": "ipython",
    "version": 3
   },
   "file_extension": ".py",
   "mimetype": "text/x-python",
   "name": "python",
   "nbconvert_exporter": "python",
   "pygments_lexer": "ipython3",
   "version": "3.9.13"
  }
 },
 "nbformat": 4,
 "nbformat_minor": 5
}
